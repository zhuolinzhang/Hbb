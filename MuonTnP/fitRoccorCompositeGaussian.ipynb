{
 "cells": [
  {
   "cell_type": "markdown",
   "metadata": {},
   "source": [
    "# Import modules"
   ]
  },
  {
   "cell_type": "code",
   "execution_count": 1,
   "metadata": {},
   "outputs": [
    {
     "name": "stdout",
     "output_type": "stream",
     "text": [
      "Welcome to JupyROOT 6.26/02\n"
     ]
    }
   ],
   "source": [
    "import ROOT\n",
    "%jsroot on"
   ]
  },
  {
   "cell_type": "markdown",
   "metadata": {},
   "source": [
    "# Read root file"
   ]
  },
  {
   "cell_type": "code",
   "execution_count": 2,
   "metadata": {},
   "outputs": [],
   "source": [
    "year = 2018\n",
    "f = ROOT.TFile(\"DYJetsToLL_M-50_TuneCP5_13TeV-madgraphMLM-pythia8/DY{}.root\".format(year), \"read\")\n",
    "hNoCorr = f.Get(\"demo/hZNoRoccor\")\n",
    "hCorr = f.Get(\"demo/hZRoccor\")"
   ]
  },
  {
   "cell_type": "markdown",
   "metadata": {},
   "source": [
    "# Fitting PDF"
   ]
  },
  {
   "cell_type": "code",
   "execution_count": 3,
   "metadata": {},
   "outputs": [],
   "source": [
    "x = ROOT.RooRealVar(\"x\", \"m_{Z}\", 75, 105)\n",
    "mass = ROOT.RooRealVar(\"mass\", \"mass of Z boson\", 9.08863e+01, 90, 92)\n",
    "sigma1 = ROOT.RooRealVar(\"sigma1\", \"width of Gauss\", 0.9, 1, 10)\n",
    "sigma2 = ROOT.RooRealVar(\"sigma2\", \"width of Gauss\", 2, 1, 10)\n",
    "sigma3 = ROOT.RooRealVar(\"sigma3\", \"width of Gauss\", 5, 1, 10)\n",
    "sigma4 = ROOT.RooRealVar(\"sigma4\", \"width of Gauss\", 5, 1, 10)\n",
    "sigma5 = ROOT.RooRealVar(\"sigma5\", \"width of Gauss\", 5, 1, 10)\n",
    "sigma6 = ROOT.RooRealVar(\"sigma6\", \"width of Gauss\", 5, 1, 10)\n",
    "sigma7 = ROOT.RooRealVar(\"sigma7\", \"width of Gauss\", 5, 1, 10)\n",
    "\n",
    "\n",
    "frac1 = ROOT.RooRealVar(\"frac1\", \"frac1\", 0.8, 0, 2)\n",
    "frac2 = ROOT.RooRealVar(\"frac2\", \"frac2\", 0.8, 0, 2)\n",
    "frac3 = ROOT.RooRealVar(\"frac3\", \"frac3\", 0.8, 0, 2)\n",
    "frac4 = ROOT.RooRealVar(\"frac4\", \"frac4\", 0.8, 0, 2)\n",
    "frac5 = ROOT.RooRealVar(\"frac5\", \"frac5\", 0.8, 0, 2)\n",
    "frac6 = ROOT.RooRealVar(\"frac6\", \"frac6\", 0.8, 0, 2)\n",
    "frac7 = ROOT.RooRealVar(\"frac7\", \"frac7\", 0.8, 0, 2)\n",
    "\n",
    "\n",
    "fitPdf1 = ROOT.RooGaussian(\"gaussian1\", \"gaussian1\", x, mass, sigma1)\n",
    "fitPdf2 = ROOT.RooGaussian(\"gaussian2\", \"gaussian2\", x, mass, sigma2)\n",
    "fitPdf3 = ROOT.RooGaussian(\"gaussian3\", \"gaussian3\", x, mass, sigma3)\n",
    "fitPdf4 = ROOT.RooGaussian(\"gaussian4\", \"gaussian4\", x, mass, sigma4)\n",
    "fitPdf5 = ROOT.RooGaussian(\"gaussian5\", \"gaussian5\", x, mass, sigma5)\n",
    "fitPdf6 = ROOT.RooGaussian(\"gaussian6\", \"gaussian6\", x, mass, sigma6)\n",
    "fitPdf7 = ROOT.RooGaussian(\"gaussian7\", \"gaussian7\", x, mass, sigma7)\n",
    "\n",
    "\n",
    "pdfList = ROOT.RooArgList(fitPdf1, fitPdf2, fitPdf3, fitPdf4, fitPdf5)\n",
    "coeList = ROOT.RooArgList(frac1, frac2, frac3, frac4)\n",
    "\n",
    "model = ROOT.RooAddPdf(\"model\", \"model\", pdfList, coeList)"
   ]
  },
  {
   "cell_type": "markdown",
   "metadata": {},
   "source": [
    "# Fit"
   ]
  },
  {
   "cell_type": "code",
   "execution_count": null,
   "metadata": {
    "scrolled": false
   },
   "outputs": [],
   "source": [
    "noRoccor = ROOT.RooDataHist(\"noRoccor\", \"noRoccor\", ROOT.RooArgList(x), ROOT.RooFit.Import(hNoCorr))\n",
    "#roccor = ROOT.RooDataHist(\"roccor\", \"roccor\", ROOT.RooArgList(x), ROOT.RooFit.Import(hCorr))\n",
    "print(\"Fitting No RoccoR\")\n",
    "model.fitTo(noRoccor)\n",
    "#print(\"Fitting RoccoR\")\n",
    "#fitCorrPdf.fitTo(roccor)"
   ]
  },
  {
   "cell_type": "markdown",
   "metadata": {},
   "source": [
    "# Plot"
   ]
  },
  {
   "cell_type": "code",
   "execution_count": 36,
   "metadata": {},
   "outputs": [
    {
     "data": {
      "text/html": [
       "\n",
       "\n",
       "<div id=\"root_plot_1651144150434\"\n",
       "     style=\"width: 696px; height: 472px\">\n",
       "</div>\n",
       "<script>\n",
       "\n",
       "function display_root_plot_1651144150434(Core) {\n",
       "   let obj = Core.parse({\"_typename\":\"TCanvas\",\"fUniqueID\":0,\"fBits\":3342344,\"fLineColor\":1,\"fLineStyle\":1,\"fLineWidth\":1,\"fFillColor\":0,\"fFillStyle\":1001,\"fLeftMargin\":0.1,\"fRightMargin\":0.1,\"fBottomMargin\":0.1,\"fTopMargin\":0.1,\"fXfile\":2,\"fYfile\":2,\"fAfile\":1,\"fXstat\":0.99,\"fYstat\":0.99,\"fAstat\":2,\"fFrameFillColor\":0,\"fFrameLineColor\":1,\"fFrameFillStyle\":1001,\"fFrameLineStyle\":1,\"fFrameLineWidth\":1,\"fFrameBorderSize\":1,\"fFrameBorderMode\":0,\"fX1\":0,\"fY1\":0,\"fX2\":1,\"fY2\":1,\"fXtoAbsPixelk\":5e-5,\"fXtoPixelk\":5e-5,\"fXtoPixel\":696,\"fYtoAbsPixelk\":472.00005,\"fYtoPixelk\":472.00005,\"fYtoPixel\":-472,\"fUtoAbsPixelk\":5e-5,\"fUtoPixelk\":5e-5,\"fUtoPixel\":696,\"fVtoAbsPixelk\":472.00005,\"fVtoPixelk\":472,\"fVtoPixel\":-472,\"fAbsPixeltoXk\":0,\"fPixeltoXk\":0,\"fPixeltoX\":0.0014367816091954,\"fAbsPixeltoYk\":1,\"fPixeltoYk\":0,\"fPixeltoY\":-0.00211864406779661,\"fXlowNDC\":0,\"fYlowNDC\":0,\"fXUpNDC\":1,\"fYUpNDC\":1,\"fWNDC\":1,\"fHNDC\":1,\"fAbsXlowNDC\":0,\"fAbsYlowNDC\":0,\"fAbsWNDC\":1,\"fAbsHNDC\":1,\"fUxmin\":0,\"fUymin\":0,\"fUxmax\":1,\"fUymax\":1,\"fTheta\":30,\"fPhi\":30,\"fAspectRatio\":0,\"fNumber\":0,\"fTickx\":0,\"fTicky\":0,\"fLogx\":0,\"fLogy\":0,\"fLogz\":0,\"fPadPaint\":0,\"fCrosshair\":0,\"fCrosshairPos\":0,\"fBorderSize\":2,\"fBorderMode\":0,\"fModified\":true,\"fGridx\":false,\"fGridy\":false,\"fAbsCoord\":false,\"fEditable\":true,\"fFixedAspectRatio\":false,\"fPrimitives\":{\"_typename\":\"TList\",\"name\":\"TList\",\"arr\":[{\"_typename\":\"TH1D\",\"fUniqueID\":0,\"fBits\":520,\"fName\":\"frame_12701dc30\",\"fTitle\":\"A RooPlot of \\\"m_{Z}\\\"\",\"fLineColor\":602,\"fLineStyle\":1,\"fLineWidth\":1,\"fFillColor\":0,\"fFillStyle\":1001,\"fMarkerColor\":1,\"fMarkerStyle\":1,\"fMarkerSize\":1,\"fNcells\":102,\"fXaxis\":{\"_typename\":\"TAxis\",\"fUniqueID\":0,\"fBits\":0,\"fName\":\"xaxis\",\"fTitle\":\"m_{Z}\",\"fNdivisions\":510,\"fAxisColor\":1,\"fLabelColor\":1,\"fLabelFont\":42,\"fLabelOffset\":0.005,\"fLabelSize\":0.035,\"fTickLength\":0.03,\"fTitleOffset\":1,\"fTitleSize\":0.035,\"fTitleColor\":1,\"fTitleFont\":42,\"fNbins\":100,\"fXmin\":75,\"fXmax\":105,\"fXbins\":[],\"fFirst\":0,\"fLast\":0,\"fBits2\":0,\"fTimeDisplay\":false,\"fTimeFormat\":\"\",\"fLabels\":null,\"fModLabs\":null},\"fYaxis\":{\"_typename\":\"TAxis\",\"fUniqueID\":0,\"fBits\":0,\"fName\":\"yaxis\",\"fTitle\":\"Events \\/ ( 1 )\",\"fNdivisions\":510,\"fAxisColor\":1,\"fLabelColor\":1,\"fLabelFont\":42,\"fLabelOffset\":0.005,\"fLabelSize\":0.035,\"fTickLength\":0.03,\"fTitleOffset\":0,\"fTitleSize\":0.035,\"fTitleColor\":1,\"fTitleFont\":42,\"fNbins\":1,\"fXmin\":0,\"fXmax\":1,\"fXbins\":[],\"fFirst\":0,\"fLast\":0,\"fBits2\":0,\"fTimeDisplay\":false,\"fTimeFormat\":\"\",\"fLabels\":null,\"fModLabs\":null},\"fZaxis\":{\"_typename\":\"TAxis\",\"fUniqueID\":0,\"fBits\":0,\"fName\":\"zaxis\",\"fTitle\":\"\",\"fNdivisions\":510,\"fAxisColor\":1,\"fLabelColor\":1,\"fLabelFont\":42,\"fLabelOffset\":0.005,\"fLabelSize\":0.035,\"fTickLength\":0.03,\"fTitleOffset\":1,\"fTitleSize\":0.035,\"fTitleColor\":1,\"fTitleFont\":42,\"fNbins\":1,\"fXmin\":0,\"fXmax\":1,\"fXbins\":[],\"fFirst\":0,\"fLast\":0,\"fBits2\":0,\"fTimeDisplay\":false,\"fTimeFormat\":\"\",\"fLabels\":null,\"fModLabs\":null},\"fBarOffset\":0,\"fBarWidth\":1000,\"fEntries\":2,\"fTsumw\":0,\"fTsumw2\":0,\"fTsumwx\":0,\"fTsumwx2\":0,\"fMaximum\":1263891.68187997,\"fMinimum\":-1111,\"fNormFactor\":0,\"fContour\":[],\"fSumw2\":[],\"fOption\":\"\",\"fFunctions\":{\"_typename\":\"TList\",\"name\":\"TList\",\"arr\":[],\"opt\":[]},\"fBufferSize\":0,\"fBuffer\":[],\"fBinStatErrOpt\":0,\"fStatOverflows\":2,\"fArray\":{\"$arr\":\"Float64\",\"len\":102,\"p\":1,\"v\":1263891.68187997}},{\"_typename\":\"RooHist\",\"fUniqueID\":0,\"fBits\":1032,\"fName\":\"h_noRoccor\",\"fTitle\":\"Histogram of noRoccor_plot__x\",\"fLineColor\":1,\"fLineStyle\":1,\"fLineWidth\":1,\"fFillColor\":0,\"fFillStyle\":1000,\"fMarkerColor\":1,\"fMarkerStyle\":8,\"fMarkerSize\":1,\"fNpoints\":30,\"fX\":{\"$arr\":\"Float64\",\"len\":30,\"v\":[75.5,76.5,77.5,78.5,79.5,80.5,81.5,82.5,83.5,84.5,85.5,86.5,87.5,88.5,89.5,90.5,91.5,92.5,93.5,94.5,95.5,96.5,97.5,98.5,99.5,100.5,101.5,102.5,103.5,104.5]},\"fY\":{\"$arr\":\"Float64\",\"len\":30,\"v\":[27643,30878,35084,40470,46792,55184,65215,78830,98100,123577,163328,226601,336337,531710,840202,1151765,1169768,853600,507019,289967,173798,112828,77884,57271,43680,34723,27987,23529,19840,17044]},\"fFunctions\":{\"_typename\":\"TList\",\"name\":\"TList\",\"arr\":[],\"opt\":[]},\"fHistogram\":null,\"fMinimum\":-1111,\"fMaximum\":-1111,\"fEXlow\":{\"$arr\":\"Float64\",\"len\":30,\"v\":0.5,\"n\":30},\"fEXhigh\":{\"$arr\":\"Float64\",\"len\":30,\"v\":0.5,\"n\":30},\"fEYlow\":{\"$arr\":\"Float64\",\"len\":30,\"v\":[165.762593507981,175.222081708587,186.80790159521,200.67218992694,215.815163592386,234.413281872272,254.872766754794,280.267252363949,312.709594361353,351.035560078919,403.6388993898,475.526522370346,579.445902649546,728.684647397371,916.125468771206,1072.70326592866,1081.05825085845,923.404892291408,711.552842140256,537.986072243308,416.39117284969,335.399166417541,278.577498197192,238.814124113058,208.498205733922,185.841755921749,166.793903056867,152.892470480139,140.355422330842,130.053628827391]},\"fEYhigh\":{\"$arr\":\"Float64\",\"len\":30,\"v\":[166.762593507981,176.222081708587,187.80790159521,201.67218992694,216.815163592386,235.413281872272,255.872766754794,281.267252363949,313.709594361353,352.035560078919,404.6388993898,476.526522370346,580.445902649546,729.684647397371,917.125468771206,1073.70326592866,1082.05825085845,924.404892291408,712.552842140256,538.986072243308,417.39117284969,336.399166417541,279.577498197192,239.814124113058,209.498205733922,186.841755921749,167.793903056867,153.892470480139,141.355422330842,131.053628827391]},\"_yAxisLabel\":\"Events \\/ ( 1 )\",\"_ymin\":0,\"_ymax\":1170850.05825086,\"_normValue\":0,\"_nominalBinWidth\":1,\"_nSigma\":1,\"_entries\":7260654,\"_rawEntries\":-1},{\"_typename\":\"RooCurve\",\"fUniqueID\":0,\"fBits\":525320,\"fName\":\"model_Norm[x]\",\"fTitle\":\"Projection of model\",\"fLineColor\":632,\"fLineStyle\":1,\"fLineWidth\":3,\"fFillColor\":0,\"fFillStyle\":1000,\"fMarkerColor\":1,\"fMarkerStyle\":1,\"fMarkerSize\":1,\"fNpoints\":122,\"fX\":{\"$arr\":\"Float64\",\"len\":122,\"v\":[74.6997,74.7,75,75.3,75.6,75.9,76.2,76.5,76.8,77.1,77.4,77.7,78,78.3,78.6,78.9,79.2,79.5,79.8,80.1,80.4,80.7,81,81.3,81.6,81.9,82.2,82.5,82.8,83.1,83.4,83.7,84,84.3,84.6,84.9,85.2,85.5,85.8,86.1,86.4,86.7,87,87.3,87.6,87.75,87.9,88.05,88.2,88.35,88.5,88.65,88.8,89.1,89.4,89.7,89.85,90,90.15,90.3,90.45,90.6,90.75,90.9,91.05,91.2,91.35,91.5,91.65,91.8,91.95,92.1,92.4,92.7,93,93.15,93.3,93.45,93.6,93.75,93.9,94.05,94.2,94.5,94.8,95.1,95.4,95.7,96,96.3,96.6,96.9,97.2,97.5,97.8,98.1,98.4,98.7,99,99.3,99.6,99.9,100.2,100.5,100.8,101.1,101.4,101.7,102,102.3,102.6,102.9,103.2,103.5,103.8,104.1,104.4,104.7,105,105,105.3,105.3003]},\"fY\":{\"$arr\":\"Float64\",\"len\":122,\"p\":1,\"v\":[16451.0132813727,16451.0132813727,17465.8520215358,18535.6279932606,19662.5734703722,20848.8935020222,22096.7469307478,23408.22717374,24785.3440672127,26230.00876696,27744.0246772999,29329.0887390983,30986.8092549004,32718.7488852243,34526.504633211,36411.8406416398,38376.8944998651,40424.4834426364,42558.5431026514,44784.7379035082,47111.2879769699,49550.0614742199,52117.9816440106,54838.7928768601,57745.2163874915,60881.5013442538,64306.338152755,68096.0451742929,72347.8684396085,77183.1503407829,82750.0406313956,89225.3689401528,96815.3242788129,105754.780441114,116305.59232674,128755.110354217,143417.601857201,160643.086746108,180839.662429603,204515.340429131,232341.615793732,265231.149664578,304405.128973864,351404.769249287,378385.521095534,407984.347767181,440406.696100625,475823.711778445,514351.911275626,556030.78622929,600799.641714816,648475.366948742,751092.282419866,859380.044397057,966351.265462353,1016610.94803318,1063122.28499926,1104683.3849396,1140156.28277751,1168523.94075149,1188943.76002967,1200793.55278512,1203706.36369521,1197591.33564709,1182638.91245819,1159309.95003299,1128309.6316267,1090548.31189559,1047092.41966618,999109.231106573,947809.624306425,839996.745588988,732273.939239067,631210.0401215,584538.241123664,540853.733034019,500293.698440768,462880.579245904,428544.853980597,397148.102495603,368504.793572884,342401.645609202,296917.759933985,258964.884678535,227055.158186986,200025.429176317,177011.596663935,157376.704317982,140634.547904714,126389.787092959,114299.915683577,104055.811380738,95374.6281830354,87999.1669282033,81699.5481095663,76274.7906533447,71553.2507174351,67391.7097791714,63673.3248279679,60304.8090566026,57213.2182134844,54342.6556305586,51651.1246394522,49107.6749917201,46689.9209173188,44381.9560120224,42172.6537627898,40054.3198933435,38021.6508829261,36070.9490296746,34199.5456976681,32405.3888018296,30686.7565672575,29042.0660446539,27469.7510626378,25968.1898482587,24535.6672670479,23170.3604891506,23170.3604891506,23170.3604891506]},\"fFunctions\":{\"_typename\":\"TList\",\"name\":\"TList\",\"arr\":[],\"opt\":[]},\"fHistogram\":null,\"fMinimum\":-1111,\"fMaximum\":-1111,\"_yAxisLabel\":\"Projection of model\",\"_ymin\":0,\"_ymax\":1203706.36369521,\"_normValue\":0},{\"$ref\":2},{\"_typename\":\"TStyle\",\"fUniqueID\":0,\"fBits\":0,\"fName\":\"Modern\",\"fTitle\":\"Modern Style\",\"fLineColor\":1,\"fLineStyle\":1,\"fLineWidth\":1,\"fFillColor\":19,\"fFillStyle\":1001,\"fMarkerColor\":1,\"fMarkerStyle\":1,\"fMarkerSize\":1,\"fTextAngle\":0,\"fTextSize\":0.05,\"fTextAlign\":11,\"fTextColor\":1,\"fTextFont\":62,\"fXaxis\":{\"_typename\":\"TAttAxis\",\"fNdivisions\":510,\"fAxisColor\":1,\"fLabelColor\":1,\"fLabelFont\":42,\"fLabelOffset\":0.005,\"fLabelSize\":0.035,\"fTickLength\":0.03,\"fTitleOffset\":1,\"fTitleSize\":0.035,\"fTitleColor\":1,\"fTitleFont\":42},\"fYaxis\":{\"_typename\":\"TAttAxis\",\"fNdivisions\":510,\"fAxisColor\":1,\"fLabelColor\":1,\"fLabelFont\":42,\"fLabelOffset\":0.005,\"fLabelSize\":0.035,\"fTickLength\":0.03,\"fTitleOffset\":0,\"fTitleSize\":0.035,\"fTitleColor\":1,\"fTitleFont\":42},\"fZaxis\":{\"_typename\":\"TAttAxis\",\"fNdivisions\":510,\"fAxisColor\":1,\"fLabelColor\":1,\"fLabelFont\":42,\"fLabelOffset\":0.005,\"fLabelSize\":0.035,\"fTickLength\":0.03,\"fTitleOffset\":1,\"fTitleSize\":0.035,\"fTitleColor\":1,\"fTitleFont\":42},\"fBarWidth\":1,\"fBarOffset\":0,\"fColorModelPS\":0,\"fDrawBorder\":0,\"fOptLogx\":0,\"fOptLogy\":0,\"fOptLogz\":0,\"fOptDate\":0,\"fOptStat\":1111,\"fOptTitle\":1,\"fOptFile\":0,\"fOptFit\":0,\"fShowEventStatus\":0,\"fShowEditor\":0,\"fShowToolBar\":0,\"fNumberContours\":20,\"fAttDate\":{\"_typename\":\"TAttText\",\"fTextAngle\":0,\"fTextSize\":0.025,\"fTextAlign\":11,\"fTextColor\":1,\"fTextFont\":62},\"fDateX\":0.01,\"fDateY\":0.01,\"fEndErrorSize\":2,\"fErrorX\":0.5,\"fFuncColor\":2,\"fFuncStyle\":1,\"fFuncWidth\":2,\"fGridColor\":0,\"fGridStyle\":3,\"fGridWidth\":1,\"fLegendBorderSize\":1,\"fLegendFillColor\":0,\"fLegendFont\":42,\"fLegendTextSize\":0,\"fHatchesLineWidth\":1,\"fHatchesSpacing\":1,\"fFrameFillColor\":0,\"fFrameLineColor\":1,\"fFrameFillStyle\":1001,\"fFrameLineStyle\":1,\"fFrameLineWidth\":1,\"fFrameBorderSize\":1,\"fFrameBorderMode\":0,\"fHistFillColor\":0,\"fHistLineColor\":602,\"fHistFillStyle\":1001,\"fHistLineStyle\":1,\"fHistLineWidth\":1,\"fHistMinimumZero\":false,\"fHistTopMargin\":0.05,\"fCanvasPreferGL\":false,\"fCanvasColor\":0,\"fCanvasBorderSize\":2,\"fCanvasBorderMode\":0,\"fCanvasDefH\":500,\"fCanvasDefW\":700,\"fCanvasDefX\":10,\"fCanvasDefY\":10,\"fPadColor\":0,\"fPadBorderSize\":2,\"fPadBorderMode\":0,\"fPadBottomMargin\":0.1,\"fPadTopMargin\":0.1,\"fPadLeftMargin\":0.1,\"fPadRightMargin\":0.1,\"fPadGridX\":false,\"fPadGridY\":false,\"fPadTickX\":0,\"fPadTickY\":0,\"fPaperSizeX\":20,\"fPaperSizeY\":26,\"fScreenFactor\":1,\"fStatColor\":0,\"fStatTextColor\":1,\"fStatBorderSize\":1,\"fStatFont\":42,\"fStatFontSize\":0,\"fStatStyle\":1001,\"fStatFormat\":\"6.4g\",\"fStatX\":0.98,\"fStatY\":0.935,\"fStatW\":0.2,\"fStatH\":0.16,\"fStripDecimals\":true,\"fTitleAlign\":23,\"fTitleColor\":0,\"fTitleTextColor\":1,\"fTitleBorderSize\":0,\"fTitleFont\":42,\"fTitleFontSize\":0.05,\"fTitleStyle\":0,\"fTitleX\":0.5,\"fTitleY\":0.995,\"fTitleW\":0,\"fTitleH\":0,\"fLegoInnerR\":0.5,\"fLineStyles\":[\"\",\"  \",\" 12 12\",\" 4 8\",\" 12 16 4 16\",\" 20 12 4 12\",\" 20 12 4 12 4 12 4 12\",\" 20 20\",\" 20 12 4 12 4 12\",\" 80 20\",\" 80 40 4 40\",\"  \",\"  \",\"  \",\"  \",\"  \",\"  \",\"  \",\"  \",\"  \",\"  \",\"  \",\"  \",\"  \",\"  \",\"  \",\"  \",\"  \",\"  \",\"  \"],\"fHeaderPS\":\"\",\"fTitlePS\":\"\",\"fFitFormat\":\"5.4g\",\"fPaintTextFormat\":\"g\",\"fLineScalePS\":3,\"fJoinLinePS\":0,\"fCapLinePS\":0,\"fTimeOffset\":788918400,\"fImageScaling\":1}],\"opt\":[\"FUNC\",\"p\",\"l\",\"AXISSAME\",\"\"]},\"fExecs\":null,\"fName\":\"c1_n5\",\"fTitle\":\"c1_n5\",\"fNumPaletteColor\":0,\"fNextPaletteColor\":0,\"fDISPLAY\":\"$DISPLAY\",\"fDoubleBuffer\":0,\"fRetained\":true,\"fXsizeUser\":0,\"fYsizeUser\":0,\"fXsizeReal\":20,\"fYsizeReal\":14.28571,\"fWindowTopX\":0,\"fWindowTopY\":0,\"fWindowWidth\":0,\"fWindowHeight\":0,\"fCw\":696,\"fCh\":472,\"fCatt\":{\"_typename\":\"TAttCanvas\",\"fXBetween\":2,\"fYBetween\":2,\"fTitleFromTop\":1.2,\"fXdate\":0.2,\"fYdate\":0.3,\"fAdate\":1},\"kMoveOpaque\":true,\"kResizeOpaque\":true,\"fHighLightColor\":2,\"fBatch\":true,\"kShowEventStatus\":false,\"kAutoExec\":true,\"kMenuBar\":true});\n",
       "   Core.settings.HandleKeys = false;\n",
       "   Core.draw(\"root_plot_1651144150434\", obj, \"\");\n",
       "}\n",
       "\n",
       "function script_load_root_plot_1651144150434(src, on_error) {\n",
       "    let script = document.createElement('script');\n",
       "    script.src = src;\n",
       "    script.onload = function() { display_root_plot_1651144150434(JSROOT); };\n",
       "    script.onerror = function() { script.remove(); on_error(); };\n",
       "    document.head.appendChild(script);\n",
       "}\n",
       "\n",
       "if (typeof requirejs !== 'undefined') {\n",
       "\n",
       "    // We are in jupyter notebooks, use require.js which should be configured already\n",
       "    requirejs.config({\n",
       "       paths: { 'JSRootCore' : [ 'scripts/JSRoot.core', 'https://root.cern/js/6.1.1/scripts/JSRoot.core.min', 'https://jsroot.gsi.de/6.1.1/scripts/JSRoot.core.min' ] }\n",
       "    })(['JSRootCore'],  function(Core) {\n",
       "       display_root_plot_1651144150434(Core);\n",
       "    });\n",
       "\n",
       "} else if (typeof JSROOT !== 'undefined') {\n",
       "\n",
       "   // JSROOT already loaded, just use it\n",
       "   display_root_plot_1651144150434(JSROOT);\n",
       "\n",
       "} else {\n",
       "\n",
       "    // We are in jupyterlab without require.js, directly loading jsroot\n",
       "    // Jupyterlab might be installed in a different base_url so we need to know it.\n",
       "    try {\n",
       "        var base_url = JSON.parse(document.getElementById('jupyter-config-data').innerHTML).baseUrl;\n",
       "    } catch(_) {\n",
       "        var base_url = '/';\n",
       "    }\n",
       "\n",
       "    // Try loading a local version of requirejs and fallback to cdn if not possible.\n",
       "    script_load_root_plot_1651144150434(base_url + 'static/scripts/JSRoot.core.js', function(){\n",
       "        console.error('Fail to load JSROOT locally, please check your jupyter_notebook_config.py file');\n",
       "        script_load_root_plot_1651144150434('https://root.cern/js/6.1.1/scripts/JSRoot.core.min.js', function(){\n",
       "            document.getElementById(\"root_plot_1651144150434\").innerHTML = \"Failed to load JSROOT\";\n",
       "        });\n",
       "    });\n",
       "}\n",
       "\n",
       "</script>\n"
      ],
      "text/plain": [
       "<IPython.core.display.HTML object>"
      ]
     },
     "metadata": {},
     "output_type": "display_data"
    }
   ],
   "source": [
    "xFrameNoCorr = x.frame()\n",
    "#xFrameCorr = x.frame()\n",
    "noRoccor.plotOn(xFrameNoCorr)\n",
    "model.plotOn(xFrameNoCorr, ROOT.RooFit.LineColor(ROOT.kRed))\n",
    "#roccor.plotOn(xFrameCorr, ROOT.RooFit.MarkerStyle(24))\n",
    "#fitCorrPdf.plotOn(xFrameCorr, ROOT.RooFit.LineStyle(2))\n",
    "c = ROOT.TCanvas()\n",
    "c.Draw()\n",
    "xFrameNoCorr.Draw()\n",
    "#xFrameCorr.Draw(\"same\")"
   ]
  },
  {
   "cell_type": "code",
   "execution_count": 37,
   "metadata": {},
   "outputs": [
    {
     "name": "stdout",
     "output_type": "stream",
     "text": [
      "6338.7529375125205\n"
     ]
    }
   ],
   "source": [
    "print(xFrameNoCorr.chiSquare(15))"
   ]
  },
  {
   "cell_type": "markdown",
   "metadata": {},
   "source": [
    "# Test auto fitting"
   ]
  },
  {
   "cell_type": "code",
   "execution_count": 44,
   "metadata": {},
   "outputs": [],
   "source": [
    "x = ROOT.RooRealVar(\"x\", \"m_{Z}\", 75, 105)\n",
    "mass = ROOT.RooRealVar(\"mass\", \"mass of Z boson\", mass.getVal(), 90, 92)\n",
    "gamma = ROOT.RooRealVar(\"gamma\", \"width of BW\", gamma.getVal(), 2, 4)\n",
    "sigma = ROOT.RooRealVar(\"sigma\", \"width of Gauss\", sigma.getVal(), 0, 1)\n",
    "massCorr = ROOT.RooRealVar(\"massCorr\", \"mass of Z boson\", massCorr.getVal(), 90, 92)\n",
    "gammaCorr = ROOT.RooRealVar(\"gammaCorr\", \"width of BW\", gammaCorr.getVal(), 2, 4)\n",
    "sigmaCorr = ROOT.RooRealVar(\"sigmaCorr\", \"width of Gauss\", sigmaCorr.getVal(), 0, 1)\n",
    "fitNoCorrPdf = ROOT.RooVoigtian(\"fitPdf\", \"voigtian\", x, mass, gamma, sigma)\n",
    "fitCorrPdf = ROOT.RooVoigtian(\"fitPdf\", \"voigtian\", x, massCorr, gammaCorr, sigmaCorr)"
   ]
  },
  {
   "cell_type": "code",
   "execution_count": null,
   "metadata": {},
   "outputs": [],
   "source": []
  }
 ],
 "metadata": {
  "interpreter": {
   "hash": "1a631922e444e80b8ac1d8d1460195e11212895288405482940e953035b49f3c"
  },
  "kernelspec": {
   "display_name": "Python 3 (ipykernel)",
   "language": "python",
   "name": "python3"
  },
  "language_info": {
   "codemirror_mode": {
    "name": "ipython",
    "version": 3
   },
   "file_extension": ".py",
   "mimetype": "text/x-python",
   "name": "python",
   "nbconvert_exporter": "python",
   "pygments_lexer": "ipython3",
   "version": "3.10.4"
  }
 },
 "nbformat": 4,
 "nbformat_minor": 2
}
