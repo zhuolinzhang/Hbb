{
 "cells": [
  {
   "cell_type": "markdown",
   "metadata": {},
   "source": [
    "# Import modules"
   ]
  },
  {
   "cell_type": "code",
   "execution_count": 21,
   "metadata": {},
   "outputs": [],
   "source": [
    "import ROOT\n",
    "%jsroot on"
   ]
  },
  {
   "cell_type": "markdown",
   "metadata": {},
   "source": [
    "# Read root file"
   ]
  },
  {
   "cell_type": "code",
   "execution_count": 22,
   "metadata": {},
   "outputs": [],
   "source": [
    "year = 2018\n",
    "f = ROOT.TFile(\"DYJetsToLL_M-50_TuneCP5_13TeV-madgraphMLM-pythia8/DY{}NewBin.root\".format(year), \"read\")\n",
    "hNoCorr = f.Get(\"demo/hZNoRoccor\")\n",
    "hCorr = f.Get(\"demo/hZRoccor\")"
   ]
  },
  {
   "cell_type": "markdown",
   "metadata": {},
   "source": [
    "# Fitting PDF"
   ]
  },
  {
   "cell_type": "code",
   "execution_count": 23,
   "metadata": {},
   "outputs": [],
   "source": [
    "x = ROOT.RooRealVar(\"x\", \"m_{Z}\", 75, 105)\n",
    "mass = ROOT.RooRealVar(\"mass\", \"mass of Z boson\", 91, 90, 92)\n",
    "gamma = ROOT.RooRealVar(\"gamma\", \"width of BW\", 3.65555, 0, 5)\n",
    "sigma = ROOT.RooRealVar(\"sigma\", \"width of Gauss\", 7.31860e-01, 0, 5)\n",
    "massCorr = ROOT.RooRealVar(\"massCorr\", \"mass of Z boson\", 91, 90, 92)\n",
    "gammaCorr = ROOT.RooRealVar(\"gammaCorr\", \"width of BW\", 3.7, 1, 5)\n",
    "sigmaCorr = ROOT.RooRealVar(\"sigmaCorr\", \"width of Gauss\", 7.77316e-01, 0, 2)\n",
    "fitNoCorrPdf = ROOT.RooVoigtian(\"fitPdf\", \"voigtian\", x, mass, gamma, sigma)\n",
    "fitCorrPdf = ROOT.RooVoigtian(\"fitPdf\", \"voigtian\", x, massCorr, gammaCorr, sigmaCorr)"
   ]
  },
  {
   "cell_type": "markdown",
   "metadata": {},
   "source": [
    "# Fit"
   ]
  },
  {
   "cell_type": "code",
   "execution_count": 24,
   "metadata": {
    "scrolled": false
   },
   "outputs": [
    {
     "name": "stdout",
     "output_type": "stream",
     "text": [
      "Fitting No RoccoR\n",
      "Fitting RoccoR\n"
     ]
    },
    {
     "data": {
      "text/plain": [
       "<cppyy.gbl.RooFitResult object at 0x0>"
      ]
     },
     "execution_count": 24,
     "metadata": {},
     "output_type": "execute_result"
    },
    {
     "name": "stdout",
     "output_type": "stream",
     "text": [
      "[#1] INFO:NumericIntegration -- RooRealIntegral::init(fitPdf_Int[x]) using numeric integrator RooIntegrator1D to calculate Int(x)\n",
      "[#1] INFO:Minimization -- RooAbsMinimizerFcn::setOptimizeConst: activating const optimization\n",
      " **********\n",
      " **   73 **SET PRINT           1\n",
      " **********\n",
      " **********\n",
      " **   74 **SET NOGRAD\n",
      " **********\n",
      " PARAMETER DEFINITIONS:\n",
      "    NO.   NAME         VALUE      STEP SIZE      LIMITS\n",
      "     1 gamma        3.65555e+00  5.00000e-01    0.00000e+00  5.00000e+00\n",
      "     2 mass         9.10000e+01  2.00000e-01    9.00000e+01  9.20000e+01\n",
      "     3 sigma        7.31860e-01  3.65930e-01    0.00000e+00  5.00000e+00\n",
      " **********\n",
      " **   75 **SET ERR         0.5\n",
      " **********\n",
      " **********\n",
      " **   76 **SET PRINT           1\n",
      " **********\n",
      " **********\n",
      " **   77 **SET STR           1\n",
      " **********\n",
      " NOW USING STRATEGY  1: TRY TO BALANCE SPEED AGAINST RELIABILITY\n",
      " **********\n",
      " **   78 **MIGRAD        1500           1\n",
      " **********\n",
      " FIRST CALL TO USER FUNCTION AT NEW START POINT, WITH IFLAG=4.\n",
      " START MIGRAD MINIMIZATION.  STRATEGY  1.  CONVERGENCE WHEN EDM .LT. 1.00e-03\n",
      " FCN=3.23706e+07 FROM MIGRAD    STATUS=INITIATE       16 CALLS          17 TOTAL\n",
      "                     EDM= unknown      STRATEGY= 1      NO ERROR MATRIX       \n",
      "  EXT PARAMETER               CURRENT GUESS       STEP         FIRST   \n",
      "  NO.   NAME      VALUE            ERROR          SIZE      DERIVATIVE \n",
      "   1  gamma        3.65555e+00   5.00000e-01   2.29228e-01   2.94168e+04\n",
      "   2  mass         9.10000e+01   2.00000e-01   2.01358e-01   1.97950e+05\n",
      "   3  sigma        7.31860e-01   3.65930e-01   2.13729e-01   3.78280e+04\n",
      "                               ERR DEF= 0.5\n",
      " MIGRAD FAILS TO FIND IMPROVEMENT\n",
      " MIGRAD MINIMIZATION HAS CONVERGED.\n",
      " MIGRAD WILL VERIFY CONVERGENCE AND ERROR MATRIX.\n",
      " COVARIANCE MATRIX CALCULATED SUCCESSFULLY\n",
      " FCN=3.23579e+07 FROM HESSE     STATUS=OK             20 CALLS          89 TOTAL\n",
      "                     EDM=0.000608906    STRATEGY= 1      ERROR MATRIX ACCURATE \n",
      "  EXT PARAMETER                                   STEP         FIRST   \n",
      "  NO.   NAME      VALUE            ERROR          SIZE      DERIVATIVE \n",
      "   1  gamma        3.65048e+00   2.75138e-03   3.01639e-03  -9.77361e-01\n",
      "   2  mass         9.08770e+01   7.97150e-04   3.12945e-03  -2.09866e+01\n",
      "   3  sigma        6.91074e-01   2.85388e-03   4.00410e-03  -2.03257e+01\n",
      "                               ERR DEF= 0.5\n",
      " MIGRAD MINIMIZATION HAS CONVERGED.\n",
      " FCN=3.23579e+07 FROM MIGRAD    STATUS=CONVERGED      95 CALLS          96 TOTAL\n",
      "                     EDM=1.91189e-05    STRATEGY= 1  ERROR MATRIX UNCERTAINTY   3.8 per cent\n",
      "  EXT PARAMETER                                   STEP         FIRST   \n",
      "  NO.   NAME      VALUE            ERROR          SIZE      DERIVATIVE \n",
      "   1  gamma        3.65042e+00   2.58802e-03  -2.97507e-05  -1.27605e+00\n",
      "   2  mass         9.08770e+01   8.03179e-04   1.03509e-05   1.00023e+00\n",
      "   3  sigma        6.91162e-01   2.62916e-03   5.06581e-05   2.96498e+00\n",
      "                               ERR DEF= 0.5\n",
      " EXTERNAL ERROR MATRIX.    NDIM=  25    NPAR=  3    ERR DEF=0.5\n",
      "  6.698e-06  1.785e-07 -5.119e-06 \n",
      "  1.785e-07  6.451e-07 -2.961e-07 \n",
      " -5.119e-06 -2.961e-07  6.913e-06 \n",
      " PARAMETER  CORRELATION COEFFICIENTS  \n",
      "       NO.  GLOBAL      1      2      3\n",
      "        1  0.75257   1.000  0.086 -0.752\n",
      "        2  0.14334   0.086  1.000 -0.140\n",
      "        3  0.75613  -0.752 -0.140  1.000\n",
      " **********\n",
      " **   79 **SET ERR         0.5\n",
      " **********\n",
      " **********\n",
      " **   80 **SET PRINT           1\n",
      " **********\n",
      " **********\n",
      " **   81 **HESSE        1500\n",
      " **********\n",
      " COVARIANCE MATRIX CALCULATED SUCCESSFULLY\n",
      " FCN=3.23579e+07 FROM HESSE     STATUS=OK             22 CALLS         118 TOTAL\n",
      "                     EDM=3.52019e-08    STRATEGY= 1      ERROR MATRIX ACCURATE \n",
      "  EXT PARAMETER                                INTERNAL      INTERNAL  \n",
      "  NO.   NAME      VALUE            ERROR       STEP SIZE       VALUE   \n",
      "   1  gamma        3.65042e+00   2.75447e-03   1.20656e-03   4.78182e-01\n",
      "   2  mass         9.08770e+01   7.97114e-04   3.12943e-03  -1.23333e-01\n",
      "   3  sigma        6.91162e-01   2.85666e-03   1.60164e-03  -8.08910e-01\n",
      "                               ERR DEF= 0.5\n",
      " EXTERNAL ERROR MATRIX.    NDIM=  25    NPAR=  3    ERR DEF=0.5\n",
      "  7.587e-06  1.507e-07 -6.178e-06 \n",
      "  1.507e-07  6.354e-07 -2.737e-07 \n",
      " -6.178e-06 -2.737e-07  8.161e-06 \n",
      " PARAMETER  CORRELATION COEFFICIENTS  \n",
      "       NO.  GLOBAL      1      2      3\n",
      "        1  0.78554   1.000  0.069 -0.785\n",
      "        2  0.12718   0.069  1.000 -0.120\n",
      "        3  0.78792  -0.785 -0.120  1.000\n",
      "[#1] INFO:Minimization -- RooAbsMinimizerFcn::setOptimizeConst: deactivating const optimization\n",
      "[#1] INFO:NumericIntegration -- RooRealIntegral::init(fitPdf_Int[x]) using numeric integrator RooIntegrator1D to calculate Int(x)\n",
      "[#1] INFO:Minimization -- RooAbsMinimizerFcn::setOptimizeConst: activating const optimization\n",
      " **********\n",
      " **   82 **SET PRINT           1\n",
      " **********\n",
      " **********\n",
      " **   83 **SET NOGRAD\n",
      " **********\n",
      " PARAMETER DEFINITIONS:\n",
      "    NO.   NAME         VALUE      STEP SIZE      LIMITS\n",
      "     1 gammaCorr    3.70000e+00  4.00000e-01    1.00000e+00  5.00000e+00\n",
      "     2 massCorr     9.10000e+01  2.00000e-01    9.00000e+01  9.20000e+01\n",
      "     3 sigmaCorr    7.77316e-01  2.00000e-01    0.00000e+00  2.00000e+00\n",
      " **********\n",
      " **   84 **SET ERR         0.5\n",
      " **********\n",
      " **********\n",
      " **   85 **SET PRINT           1\n",
      " **********\n",
      " **********\n",
      " **   86 **SET STR           1\n",
      " **********\n",
      " NOW USING STRATEGY  1: TRY TO BALANCE SPEED AGAINST RELIABILITY\n",
      " **********\n",
      " **   87 **MIGRAD        1500           1\n",
      " **********\n",
      " FIRST CALL TO USER FUNCTION AT NEW START POINT, WITH IFLAG=4.\n",
      " START MIGRAD MINIMIZATION.  STRATEGY  1.  CONVERGENCE WHEN EDM .LT. 1.00e-03\n",
      " FCN=3.25e+07 FROM MIGRAD    STATUS=INITIATE       16 CALLS          17 TOTAL\n",
      "                     EDM= unknown      STRATEGY= 1      NO ERROR MATRIX       \n",
      "  EXT PARAMETER               CURRENT GUESS       STEP         FIRST   \n",
      "  NO.   NAME      VALUE            ERROR          SIZE      DERIVATIVE \n",
      "   1  gammaCorr    3.70000e+00   4.00000e-01   2.15898e-01   2.08554e+04\n",
      "   2  massCorr     9.10000e+01   2.00000e-01   2.01358e-01   1.41321e+05\n",
      "   3  sigmaCorr    7.77316e-01   2.00000e-01   2.06859e-01   1.76719e+04\n",
      "                               ERR DEF= 0.5\n",
      " MIGRAD MINIMIZATION HAS CONVERGED.\n",
      " MIGRAD WILL VERIFY CONVERGENCE AND ERROR MATRIX.\n",
      " COVARIANCE MATRIX CALCULATED SUCCESSFULLY\n",
      " FCN=3.24931e+07 FROM MIGRAD    STATUS=CONVERGED      79 CALLS          80 TOTAL\n",
      "                     EDM=0.000889568    STRATEGY= 1      ERROR MATRIX ACCURATE \n",
      "  EXT PARAMETER                                   STEP         FIRST   \n",
      "  NO.   NAME      VALUE            ERROR          SIZE      DERIVATIVE \n",
      "   1  gammaCorr    3.69951e+00   2.82809e-03   3.66216e-03   3.07589e+00\n",
      "   2  massCorr     9.09086e+01   8.14011e-04   3.19506e-03  -7.27821e+00\n",
      "   3  sigmaCorr    7.38918e-01   2.83021e-03   7.08381e-03  -8.89613e+00\n",
      "                               ERR DEF= 0.5\n",
      " EXTERNAL ERROR MATRIX.    NDIM=  25    NPAR=  3    ERR DEF=0.5\n",
      "  7.998e-06  1.487e-07 -6.300e-06 \n",
      "  1.487e-07  6.626e-07 -2.578e-07 \n",
      " -6.300e-06 -2.578e-07  8.010e-06 \n",
      " PARAMETER  CORRELATION COEFFICIENTS  \n",
      "       NO.  GLOBAL      1      2      3\n",
      "        1  0.78743   1.000  0.065 -0.787\n",
      "        2  0.11822   0.065  1.000 -0.112\n",
      "        3  0.78945  -0.787 -0.112  1.000\n",
      " **********\n",
      " **   88 **SET ERR         0.5\n",
      " **********\n",
      " **********\n",
      " **   89 **SET PRINT           1\n",
      " **********\n",
      " **********\n",
      " **   90 **HESSE        1500\n",
      " **********\n",
      " COVARIANCE MATRIX CALCULATED SUCCESSFULLY\n",
      " FCN=3.24931e+07 FROM HESSE     STATUS=OK             16 CALLS          96 TOTAL\n",
      "                     EDM=0.000899812    STRATEGY= 1      ERROR MATRIX ACCURATE \n",
      "  EXT PARAMETER                                INTERNAL      INTERNAL  \n",
      "  NO.   NAME      VALUE            ERROR       STEP SIZE       VALUE   \n",
      "   1  gammaCorr    3.69951e+00   2.83953e-03   1.46486e-04   3.57308e-01\n",
      "   2  massCorr     9.09086e+01   8.14064e-04   1.27802e-04  -9.15688e-02\n",
      "   3  sigmaCorr    7.38918e-01   2.84172e-03   2.83352e-04  -2.64143e-01\n",
      "                               ERR DEF= 0.5\n",
      " EXTERNAL ERROR MATRIX.    NDIM=  25    NPAR=  3    ERR DEF=0.5\n",
      "  8.063e-06  1.494e-07 -6.367e-06 \n",
      "  1.494e-07  6.627e-07 -2.596e-07 \n",
      " -6.367e-06 -2.596e-07  8.075e-06 \n",
      " PARAMETER  CORRELATION COEFFICIENTS  \n",
      "       NO.  GLOBAL      1      2      3\n",
      "        1  0.78936   1.000  0.065 -0.789\n",
      "        2  0.11877   0.065  1.000 -0.112\n",
      "        3  0.79138  -0.789 -0.112  1.000\n",
      "[#1] INFO:Minimization -- RooAbsMinimizerFcn::setOptimizeConst: deactivating const optimization\n"
     ]
    }
   ],
   "source": [
    "noRoccor = ROOT.RooDataHist(\"noRoccor\", \"noRoccor\", ROOT.RooArgList(x), ROOT.RooFit.Import(hNoCorr))\n",
    "roccor = ROOT.RooDataHist(\"roccor\", \"roccor\", ROOT.RooArgList(x), ROOT.RooFit.Import(hCorr))\n",
    "print(\"Fitting No RoccoR\")\n",
    "fitNoCorrPdf.fitTo(noRoccor)\n",
    "print(\"Fitting RoccoR\")\n",
    "fitCorrPdf.fitTo(roccor)"
   ]
  },
  {
   "cell_type": "markdown",
   "metadata": {},
   "source": [
    "# Plot"
   ]
  },
  {
   "cell_type": "code",
   "execution_count": 19,
   "metadata": {},
   "outputs": [
    {
     "name": "stdout",
     "output_type": "stream",
     "text": [
      "[#1] INFO:NumericIntegration -- RooRealIntegral::init(fitPdf_Int[x]) using numeric integrator RooIntegrator1D to calculate Int(x)\n",
      "[#1] INFO:NumericIntegration -- RooRealIntegral::init(fitPdf_Int[x]) using numeric integrator RooIntegrator1D to calculate Int(x)\n"
     ]
    },
    {
     "data": {
      "text/html": [
       "\n",
       "\n",
       "<div id=\"root_plot_1651197259549\"\n",
       "     style=\"width: 696px; height: 472px\">\n",
       "</div>\n",
       "<script>\n",
       "\n",
       "function display_root_plot_1651197259549(Core) {\n",
       "   let obj = Core.parse({\"_typename\":\"TCanvas\",\"fUniqueID\":0,\"fBits\":3342344,\"fLineColor\":1,\"fLineStyle\":1,\"fLineWidth\":1,\"fFillColor\":0,\"fFillStyle\":1001,\"fLeftMargin\":0.1,\"fRightMargin\":0.1,\"fBottomMargin\":0.1,\"fTopMargin\":0.1,\"fXfile\":2,\"fYfile\":2,\"fAfile\":1,\"fXstat\":0.99,\"fYstat\":0.99,\"fAstat\":2,\"fFrameFillColor\":0,\"fFrameLineColor\":1,\"fFrameFillStyle\":1001,\"fFrameLineStyle\":1,\"fFrameLineWidth\":1,\"fFrameBorderSize\":1,\"fFrameBorderMode\":0,\"fX1\":0,\"fY1\":0,\"fX2\":1,\"fY2\":1,\"fXtoAbsPixelk\":5e-5,\"fXtoPixelk\":5e-5,\"fXtoPixel\":696,\"fYtoAbsPixelk\":472.00005,\"fYtoPixelk\":472.00005,\"fYtoPixel\":-472,\"fUtoAbsPixelk\":5e-5,\"fUtoPixelk\":5e-5,\"fUtoPixel\":696,\"fVtoAbsPixelk\":472.00005,\"fVtoPixelk\":472,\"fVtoPixel\":-472,\"fAbsPixeltoXk\":0,\"fPixeltoXk\":0,\"fPixeltoX\":0.0014367816091954,\"fAbsPixeltoYk\":1,\"fPixeltoYk\":0,\"fPixeltoY\":-0.00211864406779661,\"fXlowNDC\":0,\"fYlowNDC\":0,\"fXUpNDC\":1,\"fYUpNDC\":1,\"fWNDC\":1,\"fHNDC\":1,\"fAbsXlowNDC\":0,\"fAbsYlowNDC\":0,\"fAbsWNDC\":1,\"fAbsHNDC\":1,\"fUxmin\":0,\"fUymin\":0,\"fUxmax\":1,\"fUymax\":1,\"fTheta\":30,\"fPhi\":30,\"fAspectRatio\":0,\"fNumber\":0,\"fTickx\":0,\"fTicky\":0,\"fLogx\":0,\"fLogy\":0,\"fLogz\":0,\"fPadPaint\":0,\"fCrosshair\":0,\"fCrosshairPos\":0,\"fBorderSize\":2,\"fBorderMode\":0,\"fModified\":true,\"fGridx\":false,\"fGridy\":false,\"fAbsCoord\":false,\"fEditable\":true,\"fFixedAspectRatio\":false,\"fPrimitives\":{\"_typename\":\"TList\",\"name\":\"TList\",\"arr\":[{\"_typename\":\"TH1D\",\"fUniqueID\":0,\"fBits\":520,\"fName\":\"frame_156606010\",\"fTitle\":\"A RooPlot of \\\"m_{Z}\\\"\",\"fLineColor\":602,\"fLineStyle\":1,\"fLineWidth\":1,\"fFillColor\":0,\"fFillStyle\":1001,\"fMarkerColor\":1,\"fMarkerStyle\":1,\"fMarkerSize\":1,\"fNcells\":102,\"fXaxis\":{\"_typename\":\"TAxis\",\"fUniqueID\":0,\"fBits\":0,\"fName\":\"xaxis\",\"fTitle\":\"m_{Z}\",\"fNdivisions\":510,\"fAxisColor\":1,\"fLabelColor\":1,\"fLabelFont\":42,\"fLabelOffset\":0.005,\"fLabelSize\":0.035,\"fTickLength\":0.03,\"fTitleOffset\":1,\"fTitleSize\":0.035,\"fTitleColor\":1,\"fTitleFont\":42,\"fNbins\":100,\"fXmin\":75,\"fXmax\":105,\"fXbins\":[],\"fFirst\":0,\"fLast\":0,\"fBits2\":0,\"fTimeDisplay\":false,\"fTimeFormat\":\"\",\"fLabels\":null,\"fModLabs\":null},\"fYaxis\":{\"_typename\":\"TAxis\",\"fUniqueID\":0,\"fBits\":0,\"fName\":\"yaxis\",\"fTitle\":\"Events \\/ ( 0.5 )\",\"fNdivisions\":510,\"fAxisColor\":1,\"fLabelColor\":1,\"fLabelFont\":42,\"fLabelOffset\":0.005,\"fLabelSize\":0.035,\"fTickLength\":0.03,\"fTitleOffset\":0,\"fTitleSize\":0.035,\"fTitleColor\":1,\"fTitleFont\":42,\"fNbins\":1,\"fXmin\":0,\"fXmax\":1,\"fXbins\":[],\"fFirst\":0,\"fLast\":0,\"fBits2\":0,\"fTimeDisplay\":false,\"fTimeFormat\":\"\",\"fLabels\":null,\"fModLabs\":null},\"fZaxis\":{\"_typename\":\"TAxis\",\"fUniqueID\":0,\"fBits\":0,\"fName\":\"zaxis\",\"fTitle\":\"\",\"fNdivisions\":510,\"fAxisColor\":1,\"fLabelColor\":1,\"fLabelFont\":42,\"fLabelOffset\":0.005,\"fLabelSize\":0.035,\"fTickLength\":0.03,\"fTitleOffset\":1,\"fTitleSize\":0.035,\"fTitleColor\":1,\"fTitleFont\":42,\"fNbins\":1,\"fXmin\":0,\"fXmax\":1,\"fXbins\":[],\"fFirst\":0,\"fLast\":0,\"fBits2\":0,\"fTimeDisplay\":false,\"fTimeFormat\":\"\",\"fLabels\":null,\"fModLabs\":null},\"fBarOffset\":0,\"fBarWidth\":1000,\"fEntries\":2,\"fTsumw\":0,\"fTsumw2\":0,\"fTsumwx\":0,\"fTsumwx2\":0,\"fMaximum\":1069818.09876024,\"fMinimum\":-1111,\"fNormFactor\":0,\"fContour\":[],\"fSumw2\":[],\"fOption\":\"\",\"fFunctions\":{\"_typename\":\"TList\",\"name\":\"TList\",\"arr\":[],\"opt\":[]},\"fBufferSize\":0,\"fBuffer\":[],\"fBinStatErrOpt\":0,\"fStatOverflows\":2,\"fArray\":{\"$arr\":\"Float64\",\"len\":102,\"p\":1,\"v\":1069818.09876024}},{\"_typename\":\"RooHist\",\"fUniqueID\":0,\"fBits\":1032,\"fName\":\"h_noRoccor\",\"fTitle\":\"Histogram of noRoccor_plot__x\",\"fLineColor\":1,\"fLineStyle\":1,\"fLineWidth\":1,\"fFillColor\":0,\"fFillStyle\":1000,\"fMarkerColor\":1,\"fMarkerStyle\":8,\"fMarkerSize\":1,\"fNpoints\":60,\"fX\":{\"$arr\":\"Float64\",\"len\":60,\"v\":[75.25,75.75,76.25,76.75,77.25,77.75,78.25,78.75,79.25,79.75,80.25,80.75,81.25,81.75,82.25,82.75,83.25,83.75,84.25,84.75,85.25,85.75,86.25,86.75,87.25,87.75,88.25,88.75,89.25,89.75,90.25,90.75,91.25,91.75,92.25,92.75,93.25,93.75,94.25,94.75,95.25,95.75,96.25,96.75,97.25,97.75,98.25,98.75,99.25,99.75,100.25,100.75,101.25,101.75,102.25,102.75,103.25,103.75,104.25,104.75]},\"fY\":{\"$arr\":\"Float64\",\"len\":60,\"v\":[22110,23712,24892,26498,28263,29755,32163,34584,37264,40153,43790,47391,51809,56301,62250,68651,76715,85602,96018,108983,125398,145188,171265,205171,248999,309453,389026,493909,623959,770123,909008,1002899,1011940,929946,789648,627387,479045,360993,272945,207545,160585,128086,102458,84569,69953,59615,50864,44303,38515,34060,30225,27388,24507,22067,20523,18625,16916,15991,14579,13468]},\"fFunctions\":{\"_typename\":\"TList\",\"name\":\"TList\",\"arr\":[],\"opt\":[]},\"fHistogram\":null,\"fMinimum\":-1111,\"fMaximum\":-1111,\"fEXlow\":{\"$arr\":\"Float64\",\"len\":60,\"v\":0.25,\"n\":60},\"fEXhigh\":{\"$arr\":\"Float64\",\"len\":60,\"v\":0.25,\"n\":60},\"fEYlow\":{\"$arr\":\"Float64\",\"len\":60,\"v\":[148.195157957482,153.487824193991,157.272779654795,162.282830789984,167.61677489174,171.997101424924,178.841155343664,185.468411296111,192.53950372916,199.882758739368,208.761200417088,217.195314602774,227.11645371106,236.778844400425,249,261.513835512553,276.475179393383,292.078621912122,309.368117107908,329.626112266211,353.616153260475,380.535759476712,413.342059244838,452.458331416914,498.498246489908,555.785223603889,623.219688642246,702.28677420679,789.410912698368,877.066664134385,952.919241467258,1000.94857581402,1005.45240941108,963.837207619799,888.121544866008,791.577805521665,691.63094859285,600.327138201974,521.941623533203,455.071344577329,400.230894741107,357.391394140737,319.591002685178,290.307926301874,263.986767154798,243.662343533972,225.031039992282,209.983372264891,195.753025454389,184.054192583098,173.354105502287,164.993957593622,156.047915987405,148.050496465006,142.759380146643,135.974356565621,129.56248498318,125.956514264786,120.244565095079,115.552789712268]},\"fEYhigh\":{\"$arr\":\"Float64\",\"len\":60,\"v\":[149.195157957482,154.487824193991,158.272779654795,163.282830789984,168.61677489174,172.997101424924,179.841155343664,186.468411296111,193.53950372916,200.882758739368,209.761200417088,218.195314602774,228.11645371106,237.778844400425,250,262.513835512553,277.475179393383,293.078621912122,310.368117107908,330.626112266211,354.616153260475,381.535759476712,414.342059244838,453.458331416914,499.498246489908,556.785223603889,624.219688642246,703.28677420679,790.410912698368,878.066664134385,953.919241467258,1001.94857581402,1006.45240941108,964.837207619799,889.121544866008,792.577805521665,692.63094859285,601.327138201974,522.941623533203,456.071344577329,401.230894741107,358.391394140737,320.591002685178,291.307926301874,264.986767154798,244.662343533972,226.031039992282,210.983372264891,196.753025454389,185.054192583098,174.354105502287,165.993957593622,157.047915987405,149.050496465006,143.759380146643,136.974356565621,130.56248498318,126.956514264786,121.244565095079,116.552789712268]},\"_yAxisLabel\":\"Events \\/ ( 0.5 )\",\"_ymin\":0,\"_ymax\":1012946.45240941,\"_normValue\":0,\"_nominalBinWidth\":0.5,\"_nSigma\":1,\"_entries\":12048048,\"_rawEntries\":-1},{\"_typename\":\"RooCurve\",\"fUniqueID\":0,\"fBits\":525320,\"fName\":\"fitPdf_Norm[x]\",\"fTitle\":\"Projection of voigtian\",\"fLineColor\":632,\"fLineStyle\":1,\"fLineWidth\":3,\"fFillColor\":0,\"fFillStyle\":1000,\"fMarkerColor\":1,\"fMarkerStyle\":1,\"fMarkerSize\":1,\"fNpoints\":128,\"fX\":{\"$arr\":\"Float64\",\"len\":128,\"v\":[74.6997,74.7,75,75.3,75.6,75.9,76.2,76.5,76.8,77.1,77.4,77.7,78,78.3,78.6,78.9,79.2,79.5,79.8,80.1,80.4,80.7,81,81.3,81.6,81.9,82.2,82.5,82.8,83.1,83.4,83.7,84,84.3,84.6,84.9,85.2,85.5,85.8,86.1,86.4,86.7,87,87.3,87.6,87.75,87.9,88.05,88.2,88.35,88.5,88.65,88.8,88.95,89.1,89.4,89.7,89.85,90,90.15,90.3,90.45,90.6,90.675,90.75,90.825,90.9,90.975,91.05,91.125,91.2,91.35,91.5,91.65,91.8,91.95,92.1,92.4,92.7,92.85,93,93.15,93.3,93.45,93.6,93.75,93.9,94.05,94.2,94.5,94.8,95.1,95.4,95.7,96,96.3,96.6,96.9,97.2,97.5,97.8,98.1,98.4,98.7,99,99.3,99.6,99.9,100.2,100.5,100.8,101.1,101.4,101.7,102,102.3,102.6,102.9,103.2,103.5,103.8,104.1,104.4,104.7,105,105,105.3,105.3003]},\"fY\":{\"$arr\":\"Float64\",\"len\":128,\"p\":1,\"v\":[14936.8153533874,14936.8153533874,15513.0921080655,16123.273572912,16770.0638658318,17456.4412043077,18185.6918020798,18961.4487371624,19787.7366380007,20669.0231994041,21610.2787409131,22617.0452663305,23695.5167855298,24852.6330327123,26096.1891774217,27434.9646995508,28878.8753179085,30439.1527634703,32128.5583251236,33961.6375356201,35955.025198172,38127.812298223,40501.9893577619,43102.9846809671,45960.3209905192,49108.4205396985,52587.5974110963,56445.287055196,60737.5780856139,65531.1311312564,70905.595714327,76956.6706646633,83799.9988911541,91576.1460019839,100456.986388947,110653.909758483,122428.35898759,136105.294127682,152090.18974719,170889.982402456,193137.716766274,219618.96142519,251294.457270748,289306.584362427,311088.688803014,334945.779974395,361043.903393622,389537.359507856,420556.925571152,454194.760836097,490485.960391683,529387.146336426,570753.065144318,614312.86589923,706178.263732945,799641.888681241,844589.694404628,886815.963673719,925086.884258102,958178.652336703,984953.518684741,1004437.73696614,1011204.2920843,1015893.18101811,1018458.32941373,1018874.37977165,1017137.20917646,1013264.01371525,1007292.95682376,999282.393045096,977469.703162386,948643.286086136,913835.304294766,874218.277867669,831026.879086809,785483.963048045,691811.418408289,600731.455299412,557807.773353162,517175.835252791,479065.489658205,443588.171626106,410760.750017614,380528.461726173,352785.484408468,327392.37256185,304190.11527946,283010.948682038,246052.211990175,215243.6505499,189469.95027757,167798.284243983,149468.155991345,133867.58593675,120506.727843038,108993.723521299,99014.3701488639,90315.700691308,82693.0095437053,75979.7094196786,70039.434935224,64759.8969641055,60048.0893378289,55826.5366919275,52030.3439362346,48604.8642858125,45503.8462787219,42687.9533169373,40123.5743372769,37781.8631712664,35637.9584909632,33670.3471109388,31860.3416901681,30191.6501986226,28650.0193643163,27222.938056925,25899.3894621767,24669.643157706,23525.0799666241,22458.0438532195,21461.7162218366,20530.0088503922,19657.4723839845,18839.2178698716,18839.2178698716,18839.2178698716]},\"fFunctions\":{\"_typename\":\"TList\",\"name\":\"TList\",\"arr\":[],\"opt\":[]},\"fHistogram\":null,\"fMinimum\":-1111,\"fMaximum\":-1111,\"_yAxisLabel\":\"Projection of voigtian\",\"_ymin\":0,\"_ymax\":1018874.37977165,\"_normValue\":0},{\"$ref\":2},{\"_typename\":\"TH1D\",\"fUniqueID\":0,\"fBits\":520,\"fName\":\"frame_156607a60\",\"fTitle\":\"A RooPlot of \\\"m_{Z}\\\"\",\"fLineColor\":602,\"fLineStyle\":1,\"fLineWidth\":1,\"fFillColor\":0,\"fFillStyle\":1001,\"fMarkerColor\":1,\"fMarkerStyle\":1,\"fMarkerSize\":1,\"fNcells\":102,\"fXaxis\":{\"_typename\":\"TAxis\",\"fUniqueID\":0,\"fBits\":0,\"fName\":\"xaxis\",\"fTitle\":\"m_{Z}\",\"fNdivisions\":510,\"fAxisColor\":1,\"fLabelColor\":1,\"fLabelFont\":42,\"fLabelOffset\":0.005,\"fLabelSize\":0.035,\"fTickLength\":0.03,\"fTitleOffset\":1,\"fTitleSize\":0.035,\"fTitleColor\":1,\"fTitleFont\":42,\"fNbins\":100,\"fXmin\":75,\"fXmax\":105,\"fXbins\":[],\"fFirst\":0,\"fLast\":0,\"fBits2\":0,\"fTimeDisplay\":false,\"fTimeFormat\":\"\",\"fLabels\":null,\"fModLabs\":null},\"fYaxis\":{\"_typename\":\"TAxis\",\"fUniqueID\":0,\"fBits\":0,\"fName\":\"yaxis\",\"fTitle\":\"Events \\/ ( 0.5 )\",\"fNdivisions\":510,\"fAxisColor\":1,\"fLabelColor\":1,\"fLabelFont\":42,\"fLabelOffset\":0.005,\"fLabelSize\":0.035,\"fTickLength\":0.03,\"fTitleOffset\":0,\"fTitleSize\":0.035,\"fTitleColor\":1,\"fTitleFont\":42,\"fNbins\":1,\"fXmin\":0,\"fXmax\":1,\"fXbins\":[],\"fFirst\":0,\"fLast\":0,\"fBits2\":0,\"fTimeDisplay\":false,\"fTimeFormat\":\"\",\"fLabels\":null,\"fModLabs\":null},\"fZaxis\":{\"_typename\":\"TAxis\",\"fUniqueID\":0,\"fBits\":0,\"fName\":\"zaxis\",\"fTitle\":\"\",\"fNdivisions\":510,\"fAxisColor\":1,\"fLabelColor\":1,\"fLabelFont\":42,\"fLabelOffset\":0.005,\"fLabelSize\":0.035,\"fTickLength\":0.03,\"fTitleOffset\":1,\"fTitleSize\":0.035,\"fTitleColor\":1,\"fTitleFont\":42,\"fNbins\":1,\"fXmin\":0,\"fXmax\":1,\"fXbins\":[],\"fFirst\":0,\"fLast\":0,\"fBits2\":0,\"fTimeDisplay\":false,\"fTimeFormat\":\"\",\"fLabels\":null,\"fModLabs\":null},\"fBarOffset\":0,\"fBarWidth\":1000,\"fEntries\":2,\"fTsumw\":0,\"fTsumw2\":0,\"fTsumwx\":0,\"fTsumwx2\":0,\"fMaximum\":1046361.41887557,\"fMinimum\":-1111,\"fNormFactor\":0,\"fContour\":[],\"fSumw2\":[],\"fOption\":\"\",\"fFunctions\":{\"_typename\":\"TList\",\"name\":\"TList\",\"arr\":[],\"opt\":[]},\"fBufferSize\":0,\"fBuffer\":[],\"fBinStatErrOpt\":0,\"fStatOverflows\":2,\"fArray\":{\"$arr\":\"Float64\",\"len\":102,\"p\":1,\"v\":1046361.41887557}},{\"_typename\":\"RooHist\",\"fUniqueID\":0,\"fBits\":1032,\"fName\":\"h_roccor\",\"fTitle\":\"Histogram of roccor_plot__x\",\"fLineColor\":1,\"fLineStyle\":1,\"fLineWidth\":1,\"fFillColor\":0,\"fFillStyle\":1000,\"fMarkerColor\":1,\"fMarkerStyle\":24,\"fMarkerSize\":1,\"fNpoints\":60,\"fX\":{\"$arr\":\"Float64\",\"len\":60,\"v\":[75.25,75.75,76.25,76.75,77.25,77.75,78.25,78.75,79.25,79.75,80.25,80.75,81.25,81.75,82.25,82.75,83.25,83.75,84.25,84.75,85.25,85.75,86.25,86.75,87.25,87.75,88.25,88.75,89.25,89.75,90.25,90.75,91.25,91.75,92.25,92.75,93.25,93.75,94.25,94.75,95.25,95.75,96.25,96.75,97.25,97.75,98.25,98.75,99.25,99.75,100.25,100.75,101.25,101.75,102.25,102.75,103.25,103.75,104.25,104.75]},\"fY\":{\"$arr\":\"Float64\",\"len\":60,\"v\":[22092,23727,24851,26393,28232,29675,32002,34598,37172,40043,43680,47172,51640,56298,62131,68567,76333,85511,95876,108977,125198,145118,170991,204915,249074,308175,387701,489488,616657,756948,890191,979726,991687,918732,789745,635454,492896,374669,286267,218507,170209,134502,107759,88926,73598,61914,53084,45797,39928,35112,31087,28064,25047,22654,20922,18899,17450,15918,14962,13773]},\"fFunctions\":{\"_typename\":\"TList\",\"name\":\"TList\",\"arr\":[],\"opt\":[]},\"fHistogram\":null,\"fMinimum\":-1111,\"fMaximum\":-1111,\"fEXlow\":{\"$arr\":\"Float64\",\"len\":60,\"v\":0.25,\"n\":60},\"fEXhigh\":{\"$arr\":\"Float64\",\"len\":60,\"v\":0.25,\"n\":60},\"fEYlow\":{\"$arr\":\"Float64\",\"len\":60,\"v\":[148.134619116812,153.536521643407,157.142792413735,161.959995075711,167.524551777413,171.765057397024,178.391727030626,185.506048288757,192.301063275074,199.608095788251,208.498205733922,216.69173557021,226.744911934242,236.772522640109,248.761408966573,261.353489570029,275.784726324127,291.923066805612,309.138902594612,329.617024704872,353.333647354229,380.443893506628,413.010882565373,452.175656513573,498.573391396494,554.635343857692,622.156606806675,699.13436879561,784.775270207785,869.527729443158,942.99947005813,989.311219374649,995.334951184224,958.005216469872,888.176122105215,796.653843370266,701.565702053602,611.602319878002,534.539484524284,466.947590645199,412.064237422484,366.245483953098,327.767040684863,297.705046905641,270.789974013052,248.325742237415,229.900195312417,213.502920540821,199.320544489296,186.882629931381,175.815767871169,167.023878894921,157.763230094675,150.013288449889,144.145255712036,136.974543097986,131.599394396795,125.667547332901,121.820276324082,116.859490455608]},\"fEYhigh\":{\"$arr\":\"Float64\",\"len\":60,\"v\":[149.134619116812,154.536521643407,158.142792413735,162.959995075711,168.524551777413,172.765057397024,179.391727030626,186.506048288757,193.301063275074,200.608095788251,209.498205733922,217.69173557021,227.744911934242,237.772522640109,249.761408966573,262.353489570029,276.784726324127,292.923066805612,310.138902594612,330.617024704872,354.333647354229,381.443893506628,414.010882565373,453.175656513573,499.573391396494,555.635343857692,623.156606806675,700.13436879561,785.775270207785,870.527729443158,943.99947005813,990.311219374649,996.334951184224,959.005216469872,889.176122105215,797.653843370266,702.565702053602,612.602319878002,535.539484524284,467.947590645199,413.064237422484,367.245483953098,328.767040684863,298.705046905641,271.789974013052,249.325742237415,230.900195312417,214.502920540821,200.320544489296,187.882629931381,176.815767871169,168.023878894921,158.763230094675,151.013288449889,145.145255712036,137.974543097986,132.599394396795,126.667547332901,122.820276324082,117.859490455608]},\"_yAxisLabel\":\"Events \\/ ( 0.5 )\",\"_ymin\":0,\"_ymax\":992683.334951184,\"_normValue\":0,\"_nominalBinWidth\":0.5,\"_nSigma\":1,\"_entries\":12046714,\"_rawEntries\":-1},{\"_typename\":\"RooCurve\",\"fUniqueID\":0,\"fBits\":525320,\"fName\":\"fitPdf_Norm[x]\",\"fTitle\":\"Projection of voigtian\",\"fLineColor\":600,\"fLineStyle\":2,\"fLineWidth\":3,\"fFillColor\":0,\"fFillStyle\":1000,\"fMarkerColor\":1,\"fMarkerStyle\":1,\"fMarkerSize\":1,\"fNpoints\":124,\"fX\":{\"$arr\":\"Float64\",\"len\":124,\"v\":[74.6997,74.7,75,75.3,75.6,75.9,76.2,76.5,76.8,77.1,77.4,77.7,78,78.3,78.6,78.9,79.2,79.5,79.8,80.1,80.4,80.7,81,81.3,81.6,81.9,82.2,82.5,82.8,83.1,83.4,83.7,84,84.3,84.6,84.9,85.2,85.5,85.8,86.1,86.4,86.7,87,87.3,87.6,87.75,87.9,88.05,88.2,88.35,88.5,88.65,88.8,89.1,89.4,89.7,89.85,90,90.15,90.3,90.45,90.6,90.75,90.825,90.9,90.975,91.05,91.2,91.35,91.5,91.65,91.8,91.95,92.1,92.4,92.7,93,93.15,93.3,93.45,93.6,93.75,93.9,94.05,94.2,94.5,94.8,95.1,95.4,95.7,96,96.3,96.6,96.9,97.2,97.5,97.8,98.1,98.4,98.7,99,99.3,99.6,99.9,100.2,100.5,100.8,101.1,101.4,101.7,102,102.3,102.6,102.9,103.2,103.5,103.8,104.1,104.4,104.7,105,105,105.3,105.3003]},\"fY\":{\"$arr\":\"Float64\",\"len\":124,\"p\":1,\"v\":[15100.6558914046,15100.6558914046,15682.3408675006,16298.199303844,16950.9531390708,17643.5998825289,18379.4466547889,19162.1492153829,19995.7568264288,20884.7639658256,21834.1701049244,22849.5490118438,23937.1293441385,25103.8886677017,26357.663500926,27707.2785579104,29162.6990823944,30735.21106476,32437.6352695217,34284.5824378812,36292.7588581209,38481.333833355,40872.3835771837,43491.4299402821,46368.0973911419,49536.9182110702,53038.3244100101,56919.8760826429,61237.7906738282,66058.8570484928,71462.8438249408,77545.5449348005,84422.6488792327,92234.6736424027,101153.27767216,111389.336477483,123203.253755266,136918.02640951,152935.53560089,171756.243468639,194001.645014949,220436.928695076,251987.502267233,289736.302722169,311306.800976222,334878.506177541,360598.191916885,388597.797279275,418983.147103372,451819.952121896,487117.221983531,524808.599933072,606613.318831424,694473.141058855,783400.255654617,826099.429122176,866251.83579312,902761.777310606,934543.879690135,960585.506742647,980010.649668342,992139.101751867,995320.227550379,996534.684643401,995771.323417578,993037.154675429,981774.109816876,963151.50050936,937823.858531504,906647.686690181,870623.226617027,830830.785692101,788367.863112513,699577.253012495,611500.356387098,529256.035535819,491299.721015805,455724.267942317,422605.882605105,391943.181601305,363676.041425721,337702.456503486,313892.847076513,292101.6467438,253963.776317711,222090.043017041,195389.332010075,172926.901138255,153928.758528891,137765.800193761,123931.280491889,112018.254477622,101699.694684407,92712.0059251571,84841.7876376986,77915.3797783834,71790.6720287627,66350.7033304413,61498.6575131865,57153.940329928,53249.0923799895,49727.3486234521,46540.6993301935,43648.3413251268,41015.4343564923,38612.0971477744,36412.5926767601,34394.6636142532,32538.9875341222,30828.7281433,29249.1638761452,27787.3791273541,26432.0064422379,25173.0103532098,24001.5054050761,22909.6023685654,21890.2777918518,20937.2629523427,20044.9489981618,19208.305650786,19208.305650786,19208.305650786]},\"fFunctions\":{\"_typename\":\"TList\",\"name\":\"TList\",\"arr\":[],\"opt\":[]},\"fHistogram\":null,\"fMinimum\":-1111,\"fMaximum\":-1111,\"_yAxisLabel\":\"Projection of voigtian\",\"_ymin\":0,\"_ymax\":996534.684643401,\"_normValue\":0},{\"$ref\":11},{\"_typename\":\"TStyle\",\"fUniqueID\":0,\"fBits\":0,\"fName\":\"Modern\",\"fTitle\":\"Modern Style\",\"fLineColor\":1,\"fLineStyle\":1,\"fLineWidth\":1,\"fFillColor\":19,\"fFillStyle\":1001,\"fMarkerColor\":1,\"fMarkerStyle\":1,\"fMarkerSize\":1,\"fTextAngle\":0,\"fTextSize\":0.05,\"fTextAlign\":11,\"fTextColor\":1,\"fTextFont\":62,\"fXaxis\":{\"_typename\":\"TAttAxis\",\"fNdivisions\":510,\"fAxisColor\":1,\"fLabelColor\":1,\"fLabelFont\":42,\"fLabelOffset\":0.005,\"fLabelSize\":0.035,\"fTickLength\":0.03,\"fTitleOffset\":1,\"fTitleSize\":0.035,\"fTitleColor\":1,\"fTitleFont\":42},\"fYaxis\":{\"_typename\":\"TAttAxis\",\"fNdivisions\":510,\"fAxisColor\":1,\"fLabelColor\":1,\"fLabelFont\":42,\"fLabelOffset\":0.005,\"fLabelSize\":0.035,\"fTickLength\":0.03,\"fTitleOffset\":0,\"fTitleSize\":0.035,\"fTitleColor\":1,\"fTitleFont\":42},\"fZaxis\":{\"_typename\":\"TAttAxis\",\"fNdivisions\":510,\"fAxisColor\":1,\"fLabelColor\":1,\"fLabelFont\":42,\"fLabelOffset\":0.005,\"fLabelSize\":0.035,\"fTickLength\":0.03,\"fTitleOffset\":1,\"fTitleSize\":0.035,\"fTitleColor\":1,\"fTitleFont\":42},\"fBarWidth\":1,\"fBarOffset\":0,\"fColorModelPS\":0,\"fDrawBorder\":0,\"fOptLogx\":0,\"fOptLogy\":0,\"fOptLogz\":0,\"fOptDate\":0,\"fOptStat\":1111,\"fOptTitle\":1,\"fOptFile\":0,\"fOptFit\":0,\"fShowEventStatus\":0,\"fShowEditor\":0,\"fShowToolBar\":0,\"fNumberContours\":20,\"fAttDate\":{\"_typename\":\"TAttText\",\"fTextAngle\":0,\"fTextSize\":0.025,\"fTextAlign\":11,\"fTextColor\":1,\"fTextFont\":62},\"fDateX\":0.01,\"fDateY\":0.01,\"fEndErrorSize\":2,\"fErrorX\":0.5,\"fFuncColor\":2,\"fFuncStyle\":1,\"fFuncWidth\":2,\"fGridColor\":0,\"fGridStyle\":3,\"fGridWidth\":1,\"fLegendBorderSize\":1,\"fLegendFillColor\":0,\"fLegendFont\":42,\"fLegendTextSize\":0,\"fHatchesLineWidth\":1,\"fHatchesSpacing\":1,\"fFrameFillColor\":0,\"fFrameLineColor\":1,\"fFrameFillStyle\":1001,\"fFrameLineStyle\":1,\"fFrameLineWidth\":1,\"fFrameBorderSize\":1,\"fFrameBorderMode\":0,\"fHistFillColor\":0,\"fHistLineColor\":602,\"fHistFillStyle\":1001,\"fHistLineStyle\":1,\"fHistLineWidth\":1,\"fHistMinimumZero\":false,\"fHistTopMargin\":0.05,\"fCanvasPreferGL\":false,\"fCanvasColor\":0,\"fCanvasBorderSize\":2,\"fCanvasBorderMode\":0,\"fCanvasDefH\":500,\"fCanvasDefW\":700,\"fCanvasDefX\":10,\"fCanvasDefY\":10,\"fPadColor\":0,\"fPadBorderSize\":2,\"fPadBorderMode\":0,\"fPadBottomMargin\":0.1,\"fPadTopMargin\":0.1,\"fPadLeftMargin\":0.1,\"fPadRightMargin\":0.1,\"fPadGridX\":false,\"fPadGridY\":false,\"fPadTickX\":0,\"fPadTickY\":0,\"fPaperSizeX\":20,\"fPaperSizeY\":26,\"fScreenFactor\":1,\"fStatColor\":0,\"fStatTextColor\":1,\"fStatBorderSize\":1,\"fStatFont\":42,\"fStatFontSize\":0,\"fStatStyle\":1001,\"fStatFormat\":\"6.4g\",\"fStatX\":0.98,\"fStatY\":0.935,\"fStatW\":0.2,\"fStatH\":0.16,\"fStripDecimals\":true,\"fTitleAlign\":23,\"fTitleColor\":0,\"fTitleTextColor\":1,\"fTitleBorderSize\":0,\"fTitleFont\":42,\"fTitleFontSize\":0.05,\"fTitleStyle\":0,\"fTitleX\":0.5,\"fTitleY\":0.995,\"fTitleW\":0,\"fTitleH\":0,\"fLegoInnerR\":0.5,\"fLineStyles\":[\"\",\"  \",\" 12 12\",\" 4 8\",\" 12 16 4 16\",\" 20 12 4 12\",\" 20 12 4 12 4 12 4 12\",\" 20 20\",\" 20 12 4 12 4 12\",\" 80 20\",\" 80 40 4 40\",\"  \",\"  \",\"  \",\"  \",\"  \",\"  \",\"  \",\"  \",\"  \",\"  \",\"  \",\"  \",\"  \",\"  \",\"  \",\"  \",\"  \",\"  \",\"  \"],\"fHeaderPS\":\"\",\"fTitlePS\":\"\",\"fFitFormat\":\"5.4g\",\"fPaintTextFormat\":\"g\",\"fLineScalePS\":3,\"fJoinLinePS\":0,\"fCapLinePS\":0,\"fTimeOffset\":788918400,\"fImageScaling\":1}],\"opt\":[\"FUNC\",\"p\",\"l\",\"AXISSAME\",\"FUNCSAME\",\"p\",\"l\",\"AXISSAME\",\"\"]},\"fExecs\":null,\"fName\":\"c1_n2\",\"fTitle\":\"c1_n2\",\"fNumPaletteColor\":0,\"fNextPaletteColor\":0,\"fDISPLAY\":\"$DISPLAY\",\"fDoubleBuffer\":0,\"fRetained\":true,\"fXsizeUser\":0,\"fYsizeUser\":0,\"fXsizeReal\":20,\"fYsizeReal\":14.28571,\"fWindowTopX\":0,\"fWindowTopY\":0,\"fWindowWidth\":0,\"fWindowHeight\":0,\"fCw\":696,\"fCh\":472,\"fCatt\":{\"_typename\":\"TAttCanvas\",\"fXBetween\":2,\"fYBetween\":2,\"fTitleFromTop\":1.2,\"fXdate\":0.2,\"fYdate\":0.3,\"fAdate\":1},\"kMoveOpaque\":true,\"kResizeOpaque\":true,\"fHighLightColor\":2,\"fBatch\":true,\"kShowEventStatus\":false,\"kAutoExec\":true,\"kMenuBar\":true});\n",
       "   Core.settings.HandleKeys = false;\n",
       "   Core.draw(\"root_plot_1651197259549\", obj, \"\");\n",
       "}\n",
       "\n",
       "function script_load_root_plot_1651197259549(src, on_error) {\n",
       "    let script = document.createElement('script');\n",
       "    script.src = src;\n",
       "    script.onload = function() { display_root_plot_1651197259549(JSROOT); };\n",
       "    script.onerror = function() { script.remove(); on_error(); };\n",
       "    document.head.appendChild(script);\n",
       "}\n",
       "\n",
       "if (typeof requirejs !== 'undefined') {\n",
       "\n",
       "    // We are in jupyter notebooks, use require.js which should be configured already\n",
       "    requirejs.config({\n",
       "       paths: { 'JSRootCore' : [ 'scripts/JSRoot.core', 'https://root.cern/js/6.1.1/scripts/JSRoot.core.min', 'https://jsroot.gsi.de/6.1.1/scripts/JSRoot.core.min' ] }\n",
       "    })(['JSRootCore'],  function(Core) {\n",
       "       display_root_plot_1651197259549(Core);\n",
       "    });\n",
       "\n",
       "} else if (typeof JSROOT !== 'undefined') {\n",
       "\n",
       "   // JSROOT already loaded, just use it\n",
       "   display_root_plot_1651197259549(JSROOT);\n",
       "\n",
       "} else {\n",
       "\n",
       "    // We are in jupyterlab without require.js, directly loading jsroot\n",
       "    // Jupyterlab might be installed in a different base_url so we need to know it.\n",
       "    try {\n",
       "        var base_url = JSON.parse(document.getElementById('jupyter-config-data').innerHTML).baseUrl;\n",
       "    } catch(_) {\n",
       "        var base_url = '/';\n",
       "    }\n",
       "\n",
       "    // Try loading a local version of requirejs and fallback to cdn if not possible.\n",
       "    script_load_root_plot_1651197259549(base_url + 'static/scripts/JSRoot.core.js', function(){\n",
       "        console.error('Fail to load JSROOT locally, please check your jupyter_notebook_config.py file');\n",
       "        script_load_root_plot_1651197259549('https://root.cern/js/6.1.1/scripts/JSRoot.core.min.js', function(){\n",
       "            document.getElementById(\"root_plot_1651197259549\").innerHTML = \"Failed to load JSROOT\";\n",
       "        });\n",
       "    });\n",
       "}\n",
       "\n",
       "</script>\n"
      ],
      "text/plain": [
       "<IPython.core.display.HTML object>"
      ]
     },
     "metadata": {},
     "output_type": "display_data"
    }
   ],
   "source": [
    "xFrameNoCorr = x.frame()\n",
    "xFrameCorr = x.frame()\n",
    "noRoccor.plotOn(xFrameNoCorr)\n",
    "fitNoCorrPdf.plotOn(xFrameNoCorr, ROOT.RooFit.LineColor(ROOT.kRed))\n",
    "roccor.plotOn(xFrameCorr, ROOT.RooFit.MarkerStyle(24))\n",
    "fitCorrPdf.plotOn(xFrameCorr, ROOT.RooFit.LineStyle(2))\n",
    "c = ROOT.TCanvas()\n",
    "c.Draw()\n",
    "xFrameNoCorr.Draw()\n",
    "xFrameCorr.Draw(\"same\")"
   ]
  },
  {
   "cell_type": "code",
   "execution_count": 20,
   "metadata": {},
   "outputs": [
    {
     "name": "stdout",
     "output_type": "stream",
     "text": [
      "2586.2267941296186\n",
      "2374.0408002705485\n"
     ]
    }
   ],
   "source": [
    "print(xFrameNoCorr.chiSquare(3))\n",
    "print(xFrameCorr.chiSquare(3))"
   ]
  },
  {
   "cell_type": "markdown",
   "metadata": {},
   "source": [
    "# Test auto fitting"
   ]
  },
  {
   "cell_type": "code",
   "execution_count": 11,
   "metadata": {},
   "outputs": [],
   "source": [
    "x = ROOT.RooRealVar(\"x\", \"m_{Z}\", 75, 105)\n",
    "mass = ROOT.RooRealVar(\"mass\", \"mass of Z boson\", mass.getVal(), 90, 92)\n",
    "gamma = ROOT.RooRealVar(\"gamma\", \"width of BW\", gamma.getVal(), 2, 4)\n",
    "sigma = ROOT.RooRealVar(\"sigma\", \"width of Gauss\", sigma.getVal(), 0, 1)\n",
    "massCorr = ROOT.RooRealVar(\"massCorr\", \"mass of Z boson\", massCorr.getVal(), 90, 92)\n",
    "gammaCorr = ROOT.RooRealVar(\"gammaCorr\", \"width of BW\", gammaCorr.getVal(), 2, 4)\n",
    "sigmaCorr = ROOT.RooRealVar(\"sigmaCorr\", \"width of Gauss\", sigmaCorr.getVal(), 0, 1)\n",
    "fitNoCorrPdf = ROOT.RooVoigtian(\"fitPdf\", \"voigtian\", x, mass, gamma, sigma)\n",
    "fitCorrPdf = ROOT.RooVoigtian(\"fitPdf\", \"voigtian\", x, massCorr, gammaCorr, sigmaCorr)"
   ]
  },
  {
   "cell_type": "code",
   "execution_count": null,
   "metadata": {},
   "outputs": [],
   "source": []
  }
 ],
 "metadata": {
  "interpreter": {
   "hash": "1a631922e444e80b8ac1d8d1460195e11212895288405482940e953035b49f3c"
  },
  "kernelspec": {
   "display_name": "Python 3 (ipykernel)",
   "language": "python",
   "name": "python3"
  },
  "language_info": {
   "codemirror_mode": {
    "name": "ipython",
    "version": 3
   },
   "file_extension": ".py",
   "mimetype": "text/x-python",
   "name": "python",
   "nbconvert_exporter": "python",
   "pygments_lexer": "ipython3",
   "version": "3.10.4"
  }
 },
 "nbformat": 4,
 "nbformat_minor": 2
}
