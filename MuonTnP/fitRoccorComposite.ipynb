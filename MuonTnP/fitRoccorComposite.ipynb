{
 "cells": [
  {
   "cell_type": "markdown",
   "metadata": {},
   "source": [
    "# Import modules"
   ]
  },
  {
   "cell_type": "code",
   "execution_count": 1,
   "metadata": {},
   "outputs": [
    {
     "name": "stdout",
     "output_type": "stream",
     "text": [
      "Welcome to JupyROOT 6.26/02\n"
     ]
    }
   ],
   "source": [
    "import ROOT\n",
    "%jsroot on"
   ]
  },
  {
   "cell_type": "markdown",
   "metadata": {},
   "source": [
    "# Read root file"
   ]
  },
  {
   "cell_type": "code",
   "execution_count": 32,
   "metadata": {},
   "outputs": [],
   "source": [
    "year = 2018\n",
    "f = ROOT.TFile(\"DYJetsToLL_M-50_TuneCP5_13TeV-madgraphMLM-pythia8/DY{}.root\".format(year), \"read\")\n",
    "hNoCorr = f.Get(\"demo/hZNoRoccor\")\n",
    "hCorr = f.Get(\"demo/hZRoccor\")"
   ]
  },
  {
   "cell_type": "markdown",
   "metadata": {},
   "source": [
    "# Fitting PDF"
   ]
  },
  {
   "cell_type": "code",
   "execution_count": 33,
   "metadata": {},
   "outputs": [],
   "source": [
    "x = ROOT.RooRealVar(\"x\", \"m_{Z}\", 75, 105)\n",
    "mass = ROOT.RooRealVar(\"mass\", \"mass of Z boson\", 90, 80, 100)\n",
    "gamma1 = ROOT.RooRealVar(\"gamma1\", \"width of BW1\", 2.495, 1, 3)\n",
    "sigma1 = ROOT.RooRealVar(\"sigma1\", \"width of Gauss1\", 2, 1, 3)\n",
    "gamma2 = ROOT.RooRealVar(\"gamma2\", \"width of BW2\", 3, 0, 10)\n",
    "sigma2 = ROOT.RooRealVar(\"sigma2\", \"width of Gauss2\", 4, 1, 10)\n",
    "\n",
    "fracVoigtian = ROOT.RooRealVar(\"fracVoigtian\", \"fracVoigtian\", 0.8, 0, 1)\n",
    "fracSig = ROOT.RooRealVar(\"fracSig\", \"fracSig\", 0.9)\n",
    "\n",
    "fitPdf1 = ROOT.RooVoigtian(\"fitPdf1\", \"voigtian1\", x, mass, gamma1, sigma1)\n",
    "fitPdf2 = ROOT.RooVoigtian(\"fitPdf2\", \"voigtian2\", x, mass, gamma2, sigma2)\n",
    "sigPdfList = ROOT.RooArgList(fitPdf1, fitPdf2)\n",
    "sig = ROOT.RooAddPdf(\"sig\", \"sig\", sigPdfList, fracVoigtian)\n",
    "\n",
    "expC = ROOT.RooRealVar(\"expC\", \"expC\", -0.1, -1, 0.1)\n",
    "bkg = ROOT.RooExponential(\"bkg\", \"bkg\", x, expC)\n",
    "\n",
    "model = ROOT.RooAddPdf(\"model\", \"model\", ROOT.RooArgList(sig, bkg), fracSig)\n",
    "#gauss = ROOT.RooGaussian(\"gauss\", \"gauss\", x, mass, sigma1)"
   ]
  },
  {
   "cell_type": "markdown",
   "metadata": {},
   "source": [
    "# Fit"
   ]
  },
  {
   "cell_type": "code",
   "execution_count": 34,
   "metadata": {
    "scrolled": false
   },
   "outputs": [
    {
     "name": "stdout",
     "output_type": "stream",
     "text": [
      "Fitting No RoccoR\n"
     ]
    },
    {
     "data": {
      "text/plain": [
       "<cppyy.gbl.RooFitResult object at 0x0>"
      ]
     },
     "execution_count": 34,
     "metadata": {},
     "output_type": "execute_result"
    },
    {
     "name": "stdout",
     "output_type": "stream",
     "text": [
      "[#1] INFO:Minimization -- RooAbsMinimizerFcn::setOptimizeConst: activating const optimization\n",
      "[#1] INFO:NumericIntegration -- RooRealIntegral::init(fitPdf1_Int[x]) using numeric integrator RooIntegrator1D to calculate Int(x)\n",
      "[#1] INFO:NumericIntegration -- RooRealIntegral::init(fitPdf2_Int[x]) using numeric integrator RooIntegrator1D to calculate Int(x)\n",
      "[#1] INFO:Eval -- RooAbsTestStatistic::initMPMode: started 12 remote server process.\n",
      " **********\n",
      " **   28 **SET PRINT           1\n",
      " **********\n",
      " **********\n",
      " **   29 **SET NOGRAD\n",
      " **********\n",
      " PARAMETER DEFINITIONS:\n",
      "    NO.   NAME         VALUE      STEP SIZE      LIMITS\n",
      "     1 expC        -1.00000e-01  1.00000e-01   -1.00000e+00  1.00000e-01\n",
      "     2 fracVoigtian   8.00000e-01  1.00000e-01    0.00000e+00  1.00000e+00\n",
      "     3 gamma1       2.49500e+00  2.00000e-01    1.00000e+00  3.00000e+00\n",
      "     4 gamma2       3.00000e+00  1.00000e+00    0.00000e+00  1.00000e+01\n",
      "     5 mass         9.00000e+01  2.00000e+00    8.00000e+01  1.00000e+02\n",
      "     6 sigma1       2.00000e+00  2.00000e-01    1.00000e+00  3.00000e+00\n",
      "     7 sigma2       4.00000e+00  9.00000e-01    1.00000e+00  1.00000e+01\n",
      " **********\n",
      " **   30 **SET ERR         0.5\n",
      " **********\n",
      " **********\n",
      " **   31 **SET PRINT           1\n",
      " **********\n",
      " **********\n",
      " **   32 **SET STR           1\n",
      " **********\n",
      " NOW USING STRATEGY  1: TRY TO BALANCE SPEED AGAINST RELIABILITY\n",
      " **********\n",
      " **   33 **MIGRAD        3500           1\n",
      " **********\n",
      " FIRST CALL TO USER FUNCTION AT NEW START POINT, WITH IFLAG=4.\n",
      "[#1] INFO:NumericIntegration -- RooRealIntegral::init(fitPdf1_Int[x]) using numeric integrator RooIntegrator1D to calculate Int(x)\n",
      "[#1] INFO:NumericIntegration -- RooRealIntegral::init(fitPdf2_Int[x]) using numeric integrator RooIntegrator1D to calculate Int(x)\n",
      "[#1] INFO:NumericIntegration -- RooRealIntegral::init(fitPdf1_Int[x]) using numeric integrator RooIntegrator1D to calculate Int(x)\n",
      "[#1] INFO:NumericIntegration -- RooRealIntegral::init(fitPdf1_Int[x]) using numeric integrator RooIntegrator1D to calculate Int(x)\n",
      "[#1] INFO:NumericIntegration -- RooRealIntegral::init(fitPdf2_Int[x]) using numeric integrator RooIntegrator1D to calculate Int(x)\n",
      "[#1] INFO:NumericIntegration -- RooRealIntegral::init(fitPdf2_Int[x]) using numeric integrator RooIntegrator1D to calculate Int(x)\n",
      "[#1] INFO:NumericIntegration -- RooRealIntegral::init(fitPdf1_Int[x]) using numeric integrator RooIntegrator1D to calculate Int(x)\n",
      "[#1] INFO:NumericIntegration -- RooRealIntegral::init(fitPdf2_Int[x]) using numeric integrator RooIntegrator1D to calculate Int(x)\n",
      "[#1] INFO:NumericIntegration -- RooRealIntegral::init(fitPdf1_Int[x]) using numeric integrator RooIntegrator1D to calculate Int(x)\n",
      "[#1] INFO:NumericIntegration -- RooRealIntegral::init(fitPdf2_Int[x]) using numeric integrator RooIntegrator1D to calculate Int(x)\n",
      "[#1] INFO:NumericIntegration -- RooRealIntegral::init(fitPdf1_Int[x]) using numeric integrator RooIntegrator1D to calculate Int(x)\n",
      "[#1] INFO:NumericIntegration -- RooRealIntegral::init(fitPdf2_Int[x]) using numeric integrator RooIntegrator1D to calculate Int(x)\n",
      "[#1] INFO:NumericIntegration -- RooRealIntegral::init(fitPdf1_Int[x]) using numeric integrator RooIntegrator1D to calculate Int(x)\n",
      "[#1] INFO:NumericIntegration -- RooRealIntegral::init(fitPdf2_Int[x]) using numeric integrator RooIntegrator1D to calculate Int(x)\n",
      "[#1] INFO:NumericIntegration -- RooRealIntegral::init(fitPdf1_Int[x]) using numeric integrator RooIntegrator1D to calculate Int(x)\n",
      "[#1] INFO:Minimization --  The following expressions will be evaluated in cache-and-track mode: (fitPdf1,fitPdf2,bkg)\n",
      "[#1] INFO:NumericIntegration -- RooRealIntegral::init(fitPdf2_Int[x]) using numeric integrator RooIntegrator1D to calculate Int(x)\n",
      "[#1] INFO:NumericIntegration -- RooRealIntegral::init(fitPdf1_Int[x]) using numeric integrator RooIntegrator1D to calculate Int(x)\n",
      "[#1] INFO:Minimization --  The following expressions will be evaluated in cache-and-track mode: (fitPdf1,fitPdf2,bkg)\n",
      "[#1] INFO:NumericIntegration -- RooRealIntegral::init(fitPdf1_Int[x]) using numeric integrator RooIntegrator1D to calculate Int(x)\n",
      "[#1] INFO:Minimization --  The following expressions will be evaluated in cache-and-track mode: (fitPdf1,fitPdf2,bkg)\n",
      "[#1] INFO:NumericIntegration -- RooRealIntegral::init(fitPdf2_Int[x]) using numeric integrator RooIntegrator1D to calculate Int(x)\n",
      "[#1] INFO:NumericIntegration -- RooRealIntegral::init(fitPdf1_Int[x]) using numeric integrator RooIntegrator1D to calculate Int(x)\n",
      "[#1] INFO:NumericIntegration -- RooRealIntegral::init(fitPdf2_Int[x]) using numeric integrator RooIntegrator1D to calculate Int(x)\n",
      "[#1] INFO:NumericIntegration -- RooRealIntegral::init(fitPdf2_Int[x]) using numeric integrator RooIntegrator1D to calculate Int(x)\n",
      "[#1] INFO:NumericIntegration -- RooRealIntegral::init(fitPdf1_Int[x]) using numeric integrator RooIntegrator1D to calculate Int(x)\n",
      "[#1] INFO:NumericIntegration -- RooRealIntegral::init(fitPdf2_Int[x]) using numeric integrator RooIntegrator1D to calculate Int(x)\n",
      "[#1] INFO:NumericIntegration -- RooRealIntegral::init(fitPdf1_Int[x]) using numeric integrator RooIntegrator1D to calculate Int(x)\n",
      "[#1] INFO:NumericIntegration -- RooRealIntegral::init(fitPdf2_Int[x]) using numeric integrator RooIntegrator1D to calculate Int(x)\n",
      "[#1] INFO:NumericIntegration -- RooRealIntegral::init(fitPdf1_Int[x]) using numeric integrator RooIntegrator1D to calculate Int(x)\n",
      "[#1] INFO:NumericIntegration -- RooRealIntegral::init(fitPdf2_Int[x]) using numeric integrator RooIntegrator1D to calculate Int(x)\n",
      "[#1] INFO:Minimization --  The following expressions will be evaluated in cache-and-track mode: (fitPdf1,fitPdf2,bkg)\n",
      "[#1] INFO:Minimization --  The following expressions will be evaluated in cache-and-track mode: (fitPdf1,fitPdf2,bkg)\n",
      "[#1] INFO:NumericIntegration -- RooRealIntegral::init(fitPdf1_Int[x]) using numeric integrator RooIntegrator1D to calculate Int(x)\n",
      "[#1] INFO:NumericIntegration -- RooRealIntegral::init(fitPdf1_Int[x]) using numeric integrator RooIntegrator1D to calculate Int(x)\n",
      "[#1] INFO:NumericIntegration -- RooRealIntegral::init(fitPdf2_Int[x]) using numeric integrator RooIntegrator1D to calculate Int(x)\n",
      "[#1] INFO:NumericIntegration -- RooRealIntegral::init(fitPdf1_Int[x]) using numeric integrator RooIntegrator1D to calculate Int(x)\n",
      "[#1] INFO:NumericIntegration -- RooRealIntegral::init(fitPdf2_Int[x]) using numeric integrator RooIntegrator1D to calculate Int(x)\n",
      "[#1] INFO:NumericIntegration -- RooRealIntegral::init(fitPdf2_Int[x]) using numeric integrator RooIntegrator1D to calculate Int(x)\n",
      "[#1] INFO:Minimization --  The following expressions will be evaluated in cache-and-track mode: (fitPdf1,fitPdf2,bkg)\n",
      "[#1] INFO:NumericIntegration -- RooRealIntegral::init(fitPdf1_Int[x]) using numeric integrator RooIntegrator1D to calculate Int(x)\n",
      "[#1] INFO:NumericIntegration -- RooRealIntegral::init(fitPdf2_Int[x]) using numeric integrator RooIntegrator1D to calculate Int(x)\n",
      "[#1] INFO:NumericIntegration -- RooRealIntegral::init(fitPdf1_Int[x]) using numeric integrator RooIntegrator1D to calculate Int(x)\n",
      "[#1] INFO:NumericIntegration -- RooRealIntegral::init(fitPdf1_Int[x]) using numeric integrator RooIntegrator1D to calculate Int(x)\n",
      "[#1] INFO:NumericIntegration -- RooRealIntegral::init(fitPdf2_Int[x]) using numeric integrator RooIntegrator1D to calculate Int(x)\n",
      "[#1] INFO:NumericIntegration -- RooRealIntegral::init(fitPdf2_Int[x]) using numeric integrator RooIntegrator1D to calculate Int(x)\n",
      "[#1] INFO:NumericIntegration -- RooRealIntegral::init(fitPdf1_Int[x]) using numeric integrator RooIntegrator1D to calculate Int(x)\n",
      "[#1] INFO:NumericIntegration -- RooRealIntegral::init(fitPdf2_Int[x]) using numeric integrator RooIntegrator1D to calculate Int(x)\n",
      "[#1] INFO:NumericIntegration -- RooRealIntegral::init(fitPdf1_Int[x]) using numeric integrator RooIntegrator1D to calculate Int(x)\n",
      "[#1] INFO:NumericIntegration -- RooRealIntegral::init(fitPdf2_Int[x]) using numeric integrator RooIntegrator1D to calculate Int(x)\n",
      "[#1] INFO:Minimization --  The following expressions will be evaluated in cache-and-track mode: (fitPdf1,fitPdf2,bkg)\n",
      "[#1] INFO:NumericIntegration -- RooRealIntegral::init(fitPdf1_Int[x]) using numeric integrator RooIntegrator1D to calculate Int(x)\n",
      "[#1] INFO:Minimization --  The following expressions will be evaluated in cache-and-track mode: (fitPdf1,fitPdf2,bkg)\n",
      "[#1] INFO:NumericIntegration -- RooRealIntegral::init(fitPdf2_Int[x]) using numeric integrator RooIntegrator1D to calculate Int(x)\n",
      "[#1] INFO:NumericIntegration -- RooRealIntegral::init(fitPdf1_Int[x]) using numeric integrator RooIntegrator1D to calculate Int(x)\n",
      "[#1] INFO:NumericIntegration -- RooRealIntegral::init(fitPdf2_Int[x]) using numeric integrator RooIntegrator1D to calculate Int(x)\n",
      "[#1] INFO:Minimization --  The following expressions will be evaluated in cache-and-track mode: (fitPdf1,fitPdf2,bkg)\n",
      "[#1] INFO:Minimization --  The following expressions will be evaluated in cache-and-track mode: (fitPdf1,fitPdf2,bkg)\n",
      "[#1] INFO:Minimization --  The following expressions will be evaluated in cache-and-track mode: (fitPdf1,fitPdf2,bkg)\n",
      "[#1] INFO:Minimization --  The following expressions will be evaluated in cache-and-track mode: (fitPdf1,fitPdf2,bkg)\n",
      " START MIGRAD MINIMIZATION.  STRATEGY  1.  CONVERGENCE WHEN EDM .LT. 1.00e-03\n",
      " FCN=1.9936e+07 FROM MIGRAD    STATUS=INITIATE       61 CALLS          62 TOTAL\n",
      "                     EDM= unknown      STRATEGY= 1      NO ERROR MATRIX       \n",
      "  EXT PARAMETER               CURRENT GUESS       STEP         FIRST   \n",
      "  NO.   NAME      VALUE            ERROR          SIZE      DERIVATIVE \n",
      "   1  expC        -1.00000e-01   1.00000e-01   0.00000e+00  -6.11545e+05\n",
      "   2  fracVoigtian   8.00000e-01   1.00000e-01   0.00000e+00   6.50043e+03\n",
      "   3  gamma1       1.02914e+00   2.00000e-01  -1.84663e+00  -2.69174e+02\n",
      "   4  gamma2       3.00000e+00   1.00000e+00   0.00000e+00   9.03303e+03\n",
      "   5  mass         9.00000e+01   2.00000e+00   0.00000e+00  -7.04591e+06\n",
      "   6  sigma1       2.00000e+00   2.00000e-01   0.00000e+00  -1.06026e+04\n",
      "   7  sigma2       4.00000e+00   9.00000e-01   0.00000e+00   4.83006e+03\n",
      "                               ERR DEF= 0.5\n",
      " MIGRAD FAILS TO FIND IMPROVEMENT\n",
      " MACHINE ACCURACY LIMITS FURTHER IMPROVEMENT.\n",
      " MIGRAD MINIMIZATION HAS CONVERGED.\n",
      " MIGRAD WILL VERIFY CONVERGENCE AND ERROR MATRIX.\n",
      " COVARIANCE MATRIX CALCULATED SUCCESSFULLY\n",
      " FCN=1.95099e+07 FROM HESSE     STATUS=OK             56 CALLS         565 TOTAL\n",
      "                     EDM=272.756    STRATEGY= 1      ERROR MATRIX ACCURATE \n",
      "  EXT PARAMETER                                   STEP         FIRST   \n",
      "  NO.   NAME      VALUE            ERROR          SIZE      DERIVATIVE \n",
      "   1  expC        -3.60275e-02   1.82257e-04   1.50878e-03  -1.10101e+02\n",
      "   2  fracVoigtian   6.60481e-01   1.07622e-03   3.32700e-03  -7.91081e+01\n",
      "   3  gamma1       1.00000e+00   2.62049e-04   6.71895e-02   4.71932e+00\n",
      "   4  gamma2       7.81770e-09   3.58884e-04   4.02489e-02** at limit **\n",
      "   5  mass         9.09130e+01   1.08726e-03   2.70651e-04   2.37670e+04\n",
      "   6  sigma1       1.42630e+00   1.99574e-03   4.45798e-03   6.24559e+01\n",
      "   7  sigma2       4.06142e+00   4.86356e-03   2.07602e-03   1.91199e+04\n",
      "                               ERR DEF= 0.5\n",
      " MIGRAD FAILS TO FIND IMPROVEMENT\n",
      " MIGRAD TERMINATED WITHOUT CONVERGENCE.\n",
      " FCN=1.95099e+07 FROM MIGRAD    STATUS=FAILED        575 CALLS         576 TOTAL\n",
      "                     EDM=272.756    STRATEGY= 1      ERR MATRIX APPROXIMATE\n",
      "  EXT PARAMETER                APPROXIMATE        STEP         FIRST   \n",
      "  NO.   NAME      VALUE            ERROR          SIZE      DERIVATIVE \n",
      "   1  expC        -3.60275e-02   1.82257e-04   0.00000e+00  -1.10101e+02\n",
      "   2  fracVoigtian   6.60481e-01   1.07622e-03  -0.00000e+00  -7.91081e+01\n",
      "   3  gamma1       1.00000e+00   2.62049e-04   0.00000e+00   4.71932e+00\n",
      "   4  gamma2       7.81770e-09   3.58884e-04  -0.00000e+00** at limit **\n",
      "   5  mass         9.09130e+01   1.08726e-03  -0.00000e+00   2.37670e+04\n",
      "   6  sigma1       1.42630e+00   1.99574e-03  -0.00000e+00   6.24559e+01\n",
      "   7  sigma2       4.06142e+00   4.86356e-03  -0.00000e+00   1.91199e+04\n",
      "                               ERR DEF= 0.5\n",
      " EXTERNAL ERROR MATRIX.    NDIM=  25    NPAR=  7    ERR DEF=0.5\n",
      "  3.322e-08 -1.164e-08  6.250e-11 -5.491e-11 -3.497e-08 -1.761e-08 -1.068e-07 \n",
      " -1.164e-08  1.158e-06  4.338e-09  1.392e-09  4.810e-07  1.673e-06  3.787e-06 \n",
      "  6.250e-11  4.338e-09  3.140e-09 -5.528e-12 -1.789e-09 -1.076e-08 -1.373e-08 \n",
      " -5.491e-11  1.392e-09 -5.528e-12  1.122e-11  1.709e-09  1.818e-09  7.949e-09 \n",
      " -3.497e-08  4.810e-07 -1.789e-09  1.709e-09  1.182e-06  5.587e-07  3.062e-06 \n",
      " -1.761e-08  1.673e-06 -1.076e-08  1.818e-09  5.587e-07  3.983e-06  5.037e-06 \n",
      " -1.068e-07  3.787e-06 -1.373e-08  7.949e-09  3.062e-06  5.037e-06  2.365e-05 \n",
      "ERR MATRIX APPROXIMATE\n",
      " PARAMETER  CORRELATION COEFFICIENTS  \n",
      "       NO.  GLOBAL      1      2      3      4      5      6      7\n",
      "        1  0.18416   1.000 -0.059  0.006 -0.090 -0.176 -0.048 -0.121\n",
      "        2  0.87730  -0.059  1.000  0.072  0.386  0.411  0.779  0.723\n",
      "        3  0.30859   0.006  0.072  1.000 -0.029 -0.029 -0.096 -0.050\n",
      "        4  0.54160  -0.090  0.386 -0.029  1.000  0.469  0.272  0.488\n",
      "        5  0.62821  -0.176  0.411 -0.029  0.469  1.000  0.257  0.579\n",
      "        6  0.80024  -0.048  0.779 -0.096  0.272  0.257  1.000  0.519\n",
      "        7  0.80218  -0.121  0.723 -0.050  0.488  0.579  0.519  1.000\n",
      " ERR MATRIX APPROXIMATE\n",
      " **********\n",
      " **   34 **SET ERR         0.5\n",
      " **********\n",
      " **********\n",
      " **   35 **SET PRINT           1\n",
      " **********\n",
      " **********\n",
      " **   36 **HESSE        3500\n",
      " **********\n",
      " COVARIANCE MATRIX CALCULATED SUCCESSFULLY\n",
      " FCN=1.95099e+07 FROM HESSE     STATUS=OK             72 CALLS         648 TOTAL\n",
      "                     EDM=56.5527    STRATEGY= 1      ERROR MATRIX ACCURATE \n",
      "  EXT PARAMETER                                INTERNAL      INTERNAL  \n",
      "  NO.   NAME      VALUE            ERROR       STEP SIZE       VALUE   \n",
      "   1  expC        -3.60275e-02   1.81504e-04   3.01755e-04   8.52119e-01\n",
      "   2  fracVoigtian   6.60481e-01   1.52798e-03   6.65400e-04   3.26745e-01\n",
      "   3  gamma1       1.00000e+00   1.78057e-04   5.00000e-01  -1.56835e+00\n",
      "   4  gamma2       7.81770e-09   1.97991e-04   5.00000e-01  -1.57085e+00\n",
      "                                 WARNING -   - ABOVE PARAMETER IS AT LIMIT.\n",
      "   5  mass         9.09130e+01   1.04265e-03   1.00537e-02   9.14237e-02\n",
      "   6  sigma1       1.42630e+00   2.86002e-03   8.91596e-04  -6.11011e-01\n",
      "   7  sigma2       4.06142e+00   7.55058e-03   7.78551e-02  -3.25396e-01\n",
      "                               ERR DEF= 0.5\n",
      " EXTERNAL ERROR MATRIX.    NDIM=  25    NPAR=  7    ERR DEF=0.5\n",
      "  3.294e-08  3.733e-09  4.208e-12  3.740e-12 -2.894e-08  2.345e-09 -1.819e-08 \n",
      "  3.733e-09  2.335e-06  1.390e-08  4.449e-10 -1.835e-08  3.041e-06  8.574e-06 \n",
      "  4.208e-12  1.390e-08  2.134e-09 -2.186e-11  1.715e-10 -5.720e-08 -5.521e-08 \n",
      "  3.740e-12  4.449e-10 -2.186e-11  6.191e-12  1.246e-11  1.614e-09 -3.506e-09 \n",
      " -2.894e-08 -1.835e-08  1.715e-10  1.246e-11  1.087e-06 -1.075e-07  4.394e-08 \n",
      "  2.345e-09  3.041e-06 -5.720e-08  1.614e-09 -1.075e-07  8.180e-06  1.454e-05 \n",
      " -1.819e-08  8.574e-06 -5.521e-08 -3.506e-09  4.394e-08  1.454e-05  5.701e-05 \n",
      " PARAMETER  CORRELATION COEFFICIENTS  \n",
      "       NO.  GLOBAL      1      2      3      4      5      6      7\n",
      "        1  0.16090   1.000  0.013  0.001  0.008 -0.153  0.005 -0.013\n",
      "        2  0.94113   0.013  1.000  0.197  0.117 -0.012  0.696  0.743\n",
      "        3  0.86534   0.001  0.197  1.000 -0.190  0.004 -0.433 -0.158\n",
      "        4  0.62714   0.008  0.117 -0.190  1.000  0.005  0.227 -0.187\n",
      "        5  0.16740  -0.153 -0.012  0.004  0.005  1.000 -0.036  0.006\n",
      "        6  0.90824   0.005  0.696 -0.433  0.227 -0.036  1.000  0.673\n",
      "        7  0.88049  -0.013  0.743 -0.158 -0.187  0.006  0.673  1.000\n",
      "[#1] INFO:Minimization -- RooAbsMinimizerFcn::setOptimizeConst: deactivating const optimization\n"
     ]
    }
   ],
   "source": [
    "noRoccor = ROOT.RooDataHist(\"noRoccor\", \"noRoccor\", ROOT.RooArgList(x), ROOT.RooFit.Import(hNoCorr))\n",
    "#roccor = ROOT.RooDataHist(\"roccor\", \"roccor\", ROOT.RooArgList(x), ROOT.RooFit.Import(hCorr))\n",
    "print(\"Fitting No RoccoR\")\n",
    "model.fitTo(noRoccor, ROOT.RooFit.NumCPU(12, 0))\n",
    "#print(\"Fitting RoccoR\")\n",
    "#fitCorrPdf.fitTo(roccor)"
   ]
  },
  {
   "cell_type": "markdown",
   "metadata": {},
   "source": [
    "# Plot"
   ]
  },
  {
   "cell_type": "code",
   "execution_count": 35,
   "metadata": {},
   "outputs": [
    {
     "name": "stdout",
     "output_type": "stream",
     "text": [
      "[#1] INFO:NumericIntegration -- RooRealIntegral::init(fitPdf1_Int[x]) using numeric integrator RooIntegrator1D to calculate Int(x)\n",
      "[#1] INFO:NumericIntegration -- RooRealIntegral::init(fitPdf2_Int[x]) using numeric integrator RooIntegrator1D to calculate Int(x)\n"
     ]
    },
    {
     "data": {
      "text/html": [
       "\n",
       "\n",
       "<div id=\"root_plot_1651643710124\"\n",
       "     style=\"width: 696px; height: 472px\">\n",
       "</div>\n",
       "<script>\n",
       "\n",
       "function display_root_plot_1651643710124(Core) {\n",
       "   let obj = Core.parse({\"_typename\":\"TCanvas\",\"fUniqueID\":0,\"fBits\":3342344,\"fLineColor\":1,\"fLineStyle\":1,\"fLineWidth\":1,\"fFillColor\":0,\"fFillStyle\":1001,\"fLeftMargin\":0.1,\"fRightMargin\":0.1,\"fBottomMargin\":0.1,\"fTopMargin\":0.1,\"fXfile\":2,\"fYfile\":2,\"fAfile\":1,\"fXstat\":0.99,\"fYstat\":0.99,\"fAstat\":2,\"fFrameFillColor\":0,\"fFrameLineColor\":1,\"fFrameFillStyle\":1001,\"fFrameLineStyle\":1,\"fFrameLineWidth\":1,\"fFrameBorderSize\":1,\"fFrameBorderMode\":0,\"fX1\":0,\"fY1\":0,\"fX2\":1,\"fY2\":1,\"fXtoAbsPixelk\":5e-5,\"fXtoPixelk\":5e-5,\"fXtoPixel\":696,\"fYtoAbsPixelk\":472.00005,\"fYtoPixelk\":472.00005,\"fYtoPixel\":-472,\"fUtoAbsPixelk\":5e-5,\"fUtoPixelk\":5e-5,\"fUtoPixel\":696,\"fVtoAbsPixelk\":472.00005,\"fVtoPixelk\":472,\"fVtoPixel\":-472,\"fAbsPixeltoXk\":0,\"fPixeltoXk\":0,\"fPixeltoX\":0.0014367816091954,\"fAbsPixeltoYk\":1,\"fPixeltoYk\":0,\"fPixeltoY\":-0.00211864406779661,\"fXlowNDC\":0,\"fYlowNDC\":0,\"fXUpNDC\":1,\"fYUpNDC\":1,\"fWNDC\":1,\"fHNDC\":1,\"fAbsXlowNDC\":0,\"fAbsYlowNDC\":0,\"fAbsWNDC\":1,\"fAbsHNDC\":1,\"fUxmin\":0,\"fUymin\":0,\"fUxmax\":1,\"fUymax\":1,\"fTheta\":30,\"fPhi\":30,\"fAspectRatio\":0,\"fNumber\":0,\"fTickx\":0,\"fTicky\":0,\"fLogx\":0,\"fLogy\":0,\"fLogz\":0,\"fPadPaint\":0,\"fCrosshair\":0,\"fCrosshairPos\":0,\"fBorderSize\":2,\"fBorderMode\":0,\"fModified\":true,\"fGridx\":false,\"fGridy\":false,\"fAbsCoord\":false,\"fEditable\":true,\"fFixedAspectRatio\":false,\"fPrimitives\":{\"_typename\":\"TList\",\"name\":\"TList\",\"arr\":[{\"_typename\":\"TH1D\",\"fUniqueID\":0,\"fBits\":520,\"fName\":\"frame_107619d30\",\"fTitle\":\"A RooPlot of \\\"m_{Z}\\\"\",\"fLineColor\":602,\"fLineStyle\":1,\"fLineWidth\":1,\"fFillColor\":0,\"fFillStyle\":1001,\"fMarkerColor\":1,\"fMarkerStyle\":1,\"fMarkerSize\":1,\"fNcells\":102,\"fXaxis\":{\"_typename\":\"TAxis\",\"fUniqueID\":0,\"fBits\":0,\"fName\":\"xaxis\",\"fTitle\":\"m_{Z}\",\"fNdivisions\":510,\"fAxisColor\":1,\"fLabelColor\":1,\"fLabelFont\":42,\"fLabelOffset\":0.005,\"fLabelSize\":0.035,\"fTickLength\":0.03,\"fTitleOffset\":1,\"fTitleSize\":0.035,\"fTitleColor\":1,\"fTitleFont\":42,\"fNbins\":100,\"fXmin\":75,\"fXmax\":105,\"fXbins\":[],\"fFirst\":0,\"fLast\":0,\"fBits2\":0,\"fTimeDisplay\":false,\"fTimeFormat\":\"\",\"fLabels\":null,\"fModLabs\":null},\"fYaxis\":{\"_typename\":\"TAxis\",\"fUniqueID\":0,\"fBits\":0,\"fName\":\"yaxis\",\"fTitle\":\"Events \\/ ( 1 )\",\"fNdivisions\":510,\"fAxisColor\":1,\"fLabelColor\":1,\"fLabelFont\":42,\"fLabelOffset\":0.005,\"fLabelSize\":0.035,\"fTickLength\":0.03,\"fTitleOffset\":0,\"fTitleSize\":0.035,\"fTitleColor\":1,\"fTitleFont\":42,\"fNbins\":1,\"fXmin\":0,\"fXmax\":1,\"fXbins\":[],\"fFirst\":0,\"fLast\":0,\"fBits2\":0,\"fTimeDisplay\":false,\"fTimeFormat\":\"\",\"fLabels\":null,\"fModLabs\":null},\"fZaxis\":{\"_typename\":\"TAxis\",\"fUniqueID\":0,\"fBits\":0,\"fName\":\"zaxis\",\"fTitle\":\"\",\"fNdivisions\":510,\"fAxisColor\":1,\"fLabelColor\":1,\"fLabelFont\":42,\"fLabelOffset\":0.005,\"fLabelSize\":0.035,\"fTickLength\":0.03,\"fTitleOffset\":1,\"fTitleSize\":0.035,\"fTitleColor\":1,\"fTitleFont\":42,\"fNbins\":1,\"fXmin\":0,\"fXmax\":1,\"fXbins\":[],\"fFirst\":0,\"fLast\":0,\"fBits2\":0,\"fTimeDisplay\":false,\"fTimeFormat\":\"\",\"fLabels\":null,\"fModLabs\":null},\"fBarOffset\":0,\"fBarWidth\":1000,\"fEntries\":2,\"fTsumw\":0,\"fTsumw2\":0,\"fTsumwx\":0,\"fTsumwx2\":0,\"fMaximum\":1252251.55345119,\"fMinimum\":-1111,\"fNormFactor\":0,\"fContour\":[],\"fSumw2\":[],\"fOption\":\"\",\"fFunctions\":{\"_typename\":\"TList\",\"name\":\"TList\",\"arr\":[],\"opt\":[]},\"fBufferSize\":0,\"fBuffer\":[],\"fBinStatErrOpt\":0,\"fStatOverflows\":2,\"fArray\":{\"$arr\":\"Float64\",\"len\":102,\"p\":1,\"v\":1252251.55345119}},{\"_typename\":\"RooHist\",\"fUniqueID\":0,\"fBits\":1032,\"fName\":\"h_noRoccor\",\"fTitle\":\"Histogram of noRoccor_plot__x\",\"fLineColor\":1,\"fLineStyle\":1,\"fLineWidth\":1,\"fFillColor\":0,\"fFillStyle\":1000,\"fMarkerColor\":1,\"fMarkerStyle\":8,\"fMarkerSize\":1,\"fNpoints\":30,\"fX\":{\"$arr\":\"Float64\",\"len\":30,\"v\":[75.5,76.5,77.5,78.5,79.5,80.5,81.5,82.5,83.5,84.5,85.5,86.5,87.5,88.5,89.5,90.5,91.5,92.5,93.5,94.5,95.5,96.5,97.5,98.5,99.5,100.5,101.5,102.5,103.5,104.5]},\"fY\":{\"$arr\":\"Float64\",\"len\":30,\"v\":[27643,30878,35084,40470,46792,55184,65215,78830,98100,123577,163328,226601,336337,531710,840202,1151765,1169768,853600,507019,289967,173798,112828,77884,57271,43680,34723,27987,23529,19840,17044]},\"fFunctions\":{\"_typename\":\"TList\",\"name\":\"TList\",\"arr\":[],\"opt\":[]},\"fHistogram\":null,\"fMinimum\":-1111,\"fMaximum\":-1111,\"fEXlow\":{\"$arr\":\"Float64\",\"len\":30,\"v\":0.5,\"n\":30},\"fEXhigh\":{\"$arr\":\"Float64\",\"len\":30,\"v\":0.5,\"n\":30},\"fEYlow\":{\"$arr\":\"Float64\",\"len\":30,\"v\":[165.762593507981,175.222081708587,186.80790159521,200.67218992694,215.815163592386,234.413281872272,254.872766754794,280.267252363949,312.709594361353,351.035560078919,403.6388993898,475.526522370346,579.445902649546,728.684647397371,916.125468771206,1072.70326592866,1081.05825085845,923.404892291408,711.552842140256,537.986072243308,416.39117284969,335.399166417541,278.577498197192,238.814124113058,208.498205733922,185.841755921749,166.793903056867,152.892470480139,140.355422330842,130.053628827391]},\"fEYhigh\":{\"$arr\":\"Float64\",\"len\":30,\"v\":[166.762593507981,176.222081708587,187.80790159521,201.67218992694,216.815163592386,235.413281872272,255.872766754794,281.267252363949,313.709594361353,352.035560078919,404.6388993898,476.526522370346,580.445902649546,729.684647397371,917.125468771206,1073.70326592866,1082.05825085845,924.404892291408,712.552842140256,538.986072243308,417.39117284969,336.399166417541,279.577498197192,239.814124113058,209.498205733922,186.841755921749,167.793903056867,153.892470480139,141.355422330842,131.053628827391]},\"_yAxisLabel\":\"Events \\/ ( 1 )\",\"_ymin\":0,\"_ymax\":1170850.05825086,\"_normValue\":0,\"_nominalBinWidth\":1,\"_nSigma\":1,\"_entries\":7260654,\"_rawEntries\":-1},{\"_typename\":\"RooCurve\",\"fUniqueID\":0,\"fBits\":525320,\"fName\":\"model_Norm[x]\",\"fTitle\":\"Projection of model\",\"fLineColor\":632,\"fLineStyle\":1,\"fLineWidth\":3,\"fFillColor\":0,\"fFillStyle\":1000,\"fMarkerColor\":1,\"fMarkerStyle\":1,\"fMarkerSize\":1,\"fNpoints\":124,\"fX\":{\"$arr\":\"Float64\",\"len\":124,\"v\":[74.6997,74.7,75,75.3,75.6,75.9,76.2,76.5,76.8,77.1,77.4,77.7,78,78.3,78.6,78.9,79.2,79.5,79.8,80.1,80.4,80.7,81,81.3,81.6,81.9,82.2,82.5,82.8,83.1,83.4,83.7,84,84.3,84.6,84.9,85.2,85.5,85.8,86.1,86.4,86.7,87,87.3,87.45,87.6,87.75,87.9,88.05,88.2,88.35,88.5,88.65,88.8,89.1,89.4,89.7,89.85,90,90.15,90.3,90.45,90.6,90.75,90.9,91.05,91.2,91.35,91.5,91.65,91.8,91.95,92.1,92.4,92.7,93,93.15,93.3,93.45,93.6,93.75,93.9,94.05,94.2,94.35,94.5,94.8,95.1,95.4,95.7,96,96.3,96.6,96.9,97.2,97.5,97.8,98.1,98.4,98.7,99,99.3,99.6,99.9,100.2,100.5,100.8,101.1,101.4,101.7,102,102.3,102.6,102.9,103.2,103.5,103.8,104.1,104.4,104.7,105,105,105.3,105.3003]},\"fY\":{\"$arr\":\"Float64\",\"len\":124,\"p\":1,\"v\":[42532.8749549613,42532.8749549613,42253.782482553,41996.3803084765,41763.9560316381,41560.5004959732,41390.8340575778,41260.7474993662,41177.1570749239,41148.2724426326,41183.775388719,41295.0062438138,41495.1537947697,41799.4433203065,42225.3161922075,42792.5933608997,43523.614086432,44443.3406103385,45579.4192473071,46962.1887990378,48624.6284907855,50602.2400994138,52932.8629709755,55656.426767927,58814.6558812762,62450.7528573908,66609.1082447235,71335.1149777575,76675.2136605232,82677.3722406642,89392.327104154,96876.1068130577,105194.652010905,114431.753426475,124702.034132347,136171.193084672,149085.937233284,163815.470222767,180904.365028996,201132.339991291,225569.409548442,255605.568583,292924.739007082,314895.578213189,339387.37361923,366620.926452999,396790.647953066,430049.905614545,466495.011284914,506148.545481829,548942.91969755,594705.255293099,643144.780245325,746254.773495976,853385.048411529,957790.882640166,1006500.97622778,1051492.05598012,1091740.384527,1126285.92427628,1154272.51414455,1174985.18942652,1187882.32364516,1192620.52709637,1189070.66503492,1177323.92658485,1157687.53633187,1130670.39709907,1096959.62371653,1057389.51548071,1012904.97019672,964521.62993481,860231.898301195,752564.391490627,648401.348832001,599295.806313043,552804.417749413,509239.346597293,468793.03133967,431550.22702174,397502.779385248,366565.916342674,338594.952449371,313401.471205587,290768.253776162,252246.605540887,221163.583235571,195813.745749831,174779.55115631,156963.878771104,141563.847728454,128016.901323249,115940.8545329,105080.166224271,95263.4157599194,86372.4290678929,78321.2925808566,71042.8369025318,64480.3385863723,58582.6683911076,53301.6235115168,48590.5996296934,44404.0605519502,40697.4647970616,37427.4371024971,34552.0531645653,32031.1561441413,29826.6553737612,27902.7784883339,26226.2620803611,24766.4753851067,23495.477859814,22388.0157080678,21421.4649864725,20575.7303173395,19833.1087201555,19178.12790526,18597.3677398086,18079.2726581161,17613.9616755093,17613.9616755093,17613.9616755093]},\"fFunctions\":{\"_typename\":\"TList\",\"name\":\"TList\",\"arr\":[],\"opt\":[]},\"fHistogram\":null,\"fMinimum\":-1111,\"fMaximum\":-1111,\"_yAxisLabel\":\"Projection of model\",\"_ymin\":0,\"_ymax\":1192620.52709637,\"_normValue\":0},{\"$ref\":2},{\"_typename\":\"TStyle\",\"fUniqueID\":0,\"fBits\":0,\"fName\":\"Modern\",\"fTitle\":\"Modern Style\",\"fLineColor\":1,\"fLineStyle\":1,\"fLineWidth\":1,\"fFillColor\":19,\"fFillStyle\":1001,\"fMarkerColor\":1,\"fMarkerStyle\":1,\"fMarkerSize\":1,\"fTextAngle\":0,\"fTextSize\":0.05,\"fTextAlign\":11,\"fTextColor\":1,\"fTextFont\":62,\"fXaxis\":{\"_typename\":\"TAttAxis\",\"fNdivisions\":510,\"fAxisColor\":1,\"fLabelColor\":1,\"fLabelFont\":42,\"fLabelOffset\":0.005,\"fLabelSize\":0.035,\"fTickLength\":0.03,\"fTitleOffset\":1,\"fTitleSize\":0.035,\"fTitleColor\":1,\"fTitleFont\":42},\"fYaxis\":{\"_typename\":\"TAttAxis\",\"fNdivisions\":510,\"fAxisColor\":1,\"fLabelColor\":1,\"fLabelFont\":42,\"fLabelOffset\":0.005,\"fLabelSize\":0.035,\"fTickLength\":0.03,\"fTitleOffset\":0,\"fTitleSize\":0.035,\"fTitleColor\":1,\"fTitleFont\":42},\"fZaxis\":{\"_typename\":\"TAttAxis\",\"fNdivisions\":510,\"fAxisColor\":1,\"fLabelColor\":1,\"fLabelFont\":42,\"fLabelOffset\":0.005,\"fLabelSize\":0.035,\"fTickLength\":0.03,\"fTitleOffset\":1,\"fTitleSize\":0.035,\"fTitleColor\":1,\"fTitleFont\":42},\"fBarWidth\":1,\"fBarOffset\":0,\"fColorModelPS\":0,\"fDrawBorder\":0,\"fOptLogx\":0,\"fOptLogy\":0,\"fOptLogz\":0,\"fOptDate\":0,\"fOptStat\":1111,\"fOptTitle\":1,\"fOptFile\":0,\"fOptFit\":0,\"fShowEventStatus\":0,\"fShowEditor\":0,\"fShowToolBar\":0,\"fNumberContours\":20,\"fAttDate\":{\"_typename\":\"TAttText\",\"fTextAngle\":0,\"fTextSize\":0.025,\"fTextAlign\":11,\"fTextColor\":1,\"fTextFont\":62},\"fDateX\":0.01,\"fDateY\":0.01,\"fEndErrorSize\":2,\"fErrorX\":0.5,\"fFuncColor\":2,\"fFuncStyle\":1,\"fFuncWidth\":2,\"fGridColor\":0,\"fGridStyle\":3,\"fGridWidth\":1,\"fLegendBorderSize\":1,\"fLegendFillColor\":0,\"fLegendFont\":42,\"fLegendTextSize\":0,\"fHatchesLineWidth\":1,\"fHatchesSpacing\":1,\"fFrameFillColor\":0,\"fFrameLineColor\":1,\"fFrameFillStyle\":1001,\"fFrameLineStyle\":1,\"fFrameLineWidth\":1,\"fFrameBorderSize\":1,\"fFrameBorderMode\":0,\"fHistFillColor\":0,\"fHistLineColor\":602,\"fHistFillStyle\":1001,\"fHistLineStyle\":1,\"fHistLineWidth\":1,\"fHistMinimumZero\":false,\"fHistTopMargin\":0.05,\"fCanvasPreferGL\":false,\"fCanvasColor\":0,\"fCanvasBorderSize\":2,\"fCanvasBorderMode\":0,\"fCanvasDefH\":500,\"fCanvasDefW\":700,\"fCanvasDefX\":10,\"fCanvasDefY\":10,\"fPadColor\":0,\"fPadBorderSize\":2,\"fPadBorderMode\":0,\"fPadBottomMargin\":0.1,\"fPadTopMargin\":0.1,\"fPadLeftMargin\":0.1,\"fPadRightMargin\":0.1,\"fPadGridX\":false,\"fPadGridY\":false,\"fPadTickX\":0,\"fPadTickY\":0,\"fPaperSizeX\":20,\"fPaperSizeY\":26,\"fScreenFactor\":1,\"fStatColor\":0,\"fStatTextColor\":1,\"fStatBorderSize\":1,\"fStatFont\":42,\"fStatFontSize\":0,\"fStatStyle\":1001,\"fStatFormat\":\"6.4g\",\"fStatX\":0.98,\"fStatY\":0.935,\"fStatW\":0.2,\"fStatH\":0.16,\"fStripDecimals\":true,\"fTitleAlign\":23,\"fTitleColor\":0,\"fTitleTextColor\":1,\"fTitleBorderSize\":0,\"fTitleFont\":42,\"fTitleFontSize\":0.05,\"fTitleStyle\":0,\"fTitleX\":0.5,\"fTitleY\":0.995,\"fTitleW\":0,\"fTitleH\":0,\"fLegoInnerR\":0.5,\"fLineStyles\":[\"\",\"  \",\" 12 12\",\" 4 8\",\" 12 16 4 16\",\" 20 12 4 12\",\" 20 12 4 12 4 12 4 12\",\" 20 20\",\" 20 12 4 12 4 12\",\" 80 20\",\" 80 40 4 40\",\"  \",\"  \",\"  \",\"  \",\"  \",\"  \",\"  \",\"  \",\"  \",\"  \",\"  \",\"  \",\"  \",\"  \",\"  \",\"  \",\"  \",\"  \",\"  \"],\"fHeaderPS\":\"\",\"fTitlePS\":\"\",\"fFitFormat\":\"5.4g\",\"fPaintTextFormat\":\"g\",\"fLineScalePS\":3,\"fJoinLinePS\":0,\"fCapLinePS\":0,\"fTimeOffset\":788918400,\"fImageScaling\":1}],\"opt\":[\"FUNC\",\"p\",\"l\",\"AXISSAME\",\"\"]},\"fExecs\":null,\"fName\":\"c1_n3\",\"fTitle\":\"c1_n3\",\"fNumPaletteColor\":0,\"fNextPaletteColor\":0,\"fDISPLAY\":\"$DISPLAY\",\"fDoubleBuffer\":0,\"fRetained\":true,\"fXsizeUser\":0,\"fYsizeUser\":0,\"fXsizeReal\":20,\"fYsizeReal\":14.28571,\"fWindowTopX\":0,\"fWindowTopY\":0,\"fWindowWidth\":0,\"fWindowHeight\":0,\"fCw\":696,\"fCh\":472,\"fCatt\":{\"_typename\":\"TAttCanvas\",\"fXBetween\":2,\"fYBetween\":2,\"fTitleFromTop\":1.2,\"fXdate\":0.2,\"fYdate\":0.3,\"fAdate\":1},\"kMoveOpaque\":true,\"kResizeOpaque\":true,\"fHighLightColor\":2,\"fBatch\":true,\"kShowEventStatus\":false,\"kAutoExec\":true,\"kMenuBar\":true});\n",
       "   Core.settings.HandleKeys = false;\n",
       "   Core.draw(\"root_plot_1651643710124\", obj, \"\");\n",
       "}\n",
       "\n",
       "function script_load_root_plot_1651643710124(src, on_error) {\n",
       "    let script = document.createElement('script');\n",
       "    script.src = src;\n",
       "    script.onload = function() { display_root_plot_1651643710124(JSROOT); };\n",
       "    script.onerror = function() { script.remove(); on_error(); };\n",
       "    document.head.appendChild(script);\n",
       "}\n",
       "\n",
       "if (typeof requirejs !== 'undefined') {\n",
       "\n",
       "    // We are in jupyter notebooks, use require.js which should be configured already\n",
       "    requirejs.config({\n",
       "       paths: { 'JSRootCore' : [ 'scripts/JSRoot.core', 'https://root.cern/js/6.1.1/scripts/JSRoot.core.min', 'https://jsroot.gsi.de/6.1.1/scripts/JSRoot.core.min' ] }\n",
       "    })(['JSRootCore'],  function(Core) {\n",
       "       display_root_plot_1651643710124(Core);\n",
       "    });\n",
       "\n",
       "} else if (typeof JSROOT !== 'undefined') {\n",
       "\n",
       "   // JSROOT already loaded, just use it\n",
       "   display_root_plot_1651643710124(JSROOT);\n",
       "\n",
       "} else {\n",
       "\n",
       "    // We are in jupyterlab without require.js, directly loading jsroot\n",
       "    // Jupyterlab might be installed in a different base_url so we need to know it.\n",
       "    try {\n",
       "        var base_url = JSON.parse(document.getElementById('jupyter-config-data').innerHTML).baseUrl;\n",
       "    } catch(_) {\n",
       "        var base_url = '/';\n",
       "    }\n",
       "\n",
       "    // Try loading a local version of requirejs and fallback to cdn if not possible.\n",
       "    script_load_root_plot_1651643710124(base_url + 'static/scripts/JSRoot.core.js', function(){\n",
       "        console.error('Fail to load JSROOT locally, please check your jupyter_notebook_config.py file');\n",
       "        script_load_root_plot_1651643710124('https://root.cern/js/6.1.1/scripts/JSRoot.core.min.js', function(){\n",
       "            document.getElementById(\"root_plot_1651643710124\").innerHTML = \"Failed to load JSROOT\";\n",
       "        });\n",
       "    });\n",
       "}\n",
       "\n",
       "</script>\n"
      ],
      "text/plain": [
       "<IPython.core.display.HTML object>"
      ]
     },
     "metadata": {},
     "output_type": "display_data"
    }
   ],
   "source": [
    "xFrameNoCorr = x.frame()\n",
    "#xFrameCorr = x.frame()\n",
    "noRoccor.plotOn(xFrameNoCorr)\n",
    "model.plotOn(xFrameNoCorr, ROOT.RooFit.LineColor(ROOT.kRed))\n",
    "#roccor.plotOn(xFrameCorr, ROOT.RooFit.MarkerStyle(24))\n",
    "#fitCorrPdf.plotOn(xFrameCorr, ROOT.RooFit.LineStyle(2))\n",
    "c = ROOT.TCanvas()\n",
    "c.Draw()\n",
    "xFrameNoCorr.Draw()\n",
    "#xFrameCorr.Draw(\"same\")"
   ]
  },
  {
   "cell_type": "code",
   "execution_count": 36,
   "metadata": {},
   "outputs": [
    {
     "name": "stdout",
     "output_type": "stream",
     "text": [
      "1841.6818879588682\n"
     ]
    }
   ],
   "source": [
    "print(xFrameNoCorr.chiSquare(7))"
   ]
  },
  {
   "cell_type": "markdown",
   "metadata": {},
   "source": [
    "# Test auto fitting"
   ]
  },
  {
   "cell_type": "code",
   "execution_count": 44,
   "metadata": {},
   "outputs": [],
   "source": [
    "x = ROOT.RooRealVar(\"x\", \"m_{Z}\", 75, 105)\n",
    "mass = ROOT.RooRealVar(\"mass\", \"mass of Z boson\", mass.getVal(), 90, 92)\n",
    "gamma = ROOT.RooRealVar(\"gamma\", \"width of BW\", gamma.getVal(), 2, 4)\n",
    "sigma = ROOT.RooRealVar(\"sigma\", \"width of Gauss\", sigma.getVal(), 0, 1)\n",
    "massCorr = ROOT.RooRealVar(\"massCorr\", \"mass of Z boson\", massCorr.getVal(), 90, 92)\n",
    "gammaCorr = ROOT.RooRealVar(\"gammaCorr\", \"width of BW\", gammaCorr.getVal(), 2, 4)\n",
    "sigmaCorr = ROOT.RooRealVar(\"sigmaCorr\", \"width of Gauss\", sigmaCorr.getVal(), 0, 1)\n",
    "fitNoCorrPdf = ROOT.RooVoigtian(\"fitPdf\", \"voigtian\", x, mass, gamma, sigma)\n",
    "fitCorrPdf = ROOT.RooVoigtian(\"fitPdf\", \"voigtian\", x, massCorr, gammaCorr, sigmaCorr)"
   ]
  },
  {
   "cell_type": "code",
   "execution_count": null,
   "metadata": {},
   "outputs": [],
   "source": []
  }
 ],
 "metadata": {
  "interpreter": {
   "hash": "1a631922e444e80b8ac1d8d1460195e11212895288405482940e953035b49f3c"
  },
  "kernelspec": {
   "display_name": "Python 3 (ipykernel)",
   "language": "python",
   "name": "python3"
  },
  "language_info": {
   "codemirror_mode": {
    "name": "ipython",
    "version": 3
   },
   "file_extension": ".py",
   "mimetype": "text/x-python",
   "name": "python",
   "nbconvert_exporter": "python",
   "pygments_lexer": "ipython3",
   "version": "3.10.4"
  }
 },
 "nbformat": 4,
 "nbformat_minor": 2
}
