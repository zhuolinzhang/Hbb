{
 "cells": [
  {
   "cell_type": "markdown",
   "metadata": {},
   "source": [
    "# Import modules"
   ]
  },
  {
   "cell_type": "code",
   "execution_count": 1,
   "metadata": {},
   "outputs": [
    {
     "name": "stdout",
     "output_type": "stream",
     "text": [
      "Welcome to JupyROOT 6.26/02\n"
     ]
    }
   ],
   "source": [
    "import ROOT\n",
    "%jsroot on\n",
    "#ROOT.gROOT.ProcessLine(\"gErrorIgnoreLevel = 2001;\")\n",
    "#ROOT.gROOT.LoadMacro('RooCMSShape.cc+')\n",
    "#ROOT.gROOT.LoadMacro('RooErfExp.cc+')"
   ]
  },
  {
   "cell_type": "markdown",
   "metadata": {},
   "source": [
    "# Read root file"
   ]
  },
  {
   "cell_type": "code",
   "execution_count": 2,
   "metadata": {},
   "outputs": [],
   "source": [
    "year = 2018\n",
    "f = ROOT.TFile(\"DYJetsToLL_M-50_TuneCP5_13TeV-madgraphMLM-pythia8/DYTreeNoBCut2018Skim.root\", \"read\")\n",
    "#hNoCorr = f.Get(\"demo/hZNoRoccor\")\n",
    "#hCorr = f.Get(\"demo/hZRoccor\")\n",
    "zhTree = f.Get(\"dyTree\")"
   ]
  },
  {
   "cell_type": "markdown",
   "metadata": {},
   "source": [
    "# Fitting PDF"
   ]
  },
  {
   "cell_type": "code",
   "execution_count": 3,
   "metadata": {},
   "outputs": [],
   "source": [
    "mass = ROOT.RooRealVar(\"mass\", \"mass of Z boson\", 91, 90, 92)\n",
    "gamma = ROOT.RooRealVar(\"gamma\", \"width of BW\", 3.65555, 0, 5)\n",
    "sigma = ROOT.RooRealVar(\"sigma\", \"width of Gauss\", 7.31860e-01, 0, 5)\n",
    "massCorr = ROOT.RooRealVar(\"massCorr\", \"mass of Z boson\", 91, 90, 92)\n",
    "gammaCorr = ROOT.RooRealVar(\"gammaCorr\", \"width of BW\", 3.7, 1, 5)\n",
    "sigmaCorr = ROOT.RooRealVar(\"sigmaCorr\", \"width of Gauss\", 7.77316e-01, 0, 2)\n",
    "fitNoCorrPdf = ROOT.RooVoigtian(\"fitPdf\", \"voigtian\", x, mass, gamma, sigma)\n",
    "fitCorrPdf = ROOT.RooVoigtian(\"fitPdf\", \"voigtian\", x, massCorr, gammaCorr, sigmaCorr)"
   ]
  },
  {
   "cell_type": "code",
   "execution_count": 3,
   "metadata": {},
   "outputs": [],
   "source": [
    "zM = ROOT.RooRealVar(\"z_mass_no_roccor\", \"z_mass_no_roccor\", 75, 105)\n",
    "ds = ROOT.RooDataSet(\"ds\", \"ds\", zhTree, ROOT.RooArgSet(zM))\n",
    "kest = ROOT.RooKeysPdf(\"kest\", \"kest\", zM, ds, ROOT.RooKeysPdf.MirrorBoth)"
   ]
  },
  {
   "cell_type": "code",
   "execution_count": 5,
   "metadata": {},
   "outputs": [],
   "source": [
    "nEvents = zhTree.GetEntries()\n",
    "\n",
    "mass = ROOT.RooRealVar(\"mass\", \"mass of Z boson\", 0, -5, 5)\n",
    "sigma = ROOT.RooRealVar(\"sigma\", \"width of Gauss\", 0.9, 0.05, 5.0)\n",
    "gauss = ROOT.RooGaussian(\"gauss\", \"gauss\", zM, mass, sigma)\n",
    "sig = ROOT.RooFFTConvPdf(\"sig\", \"sig\", zM, kest, gauss)\n",
    "\n",
    "acms = ROOT.RooRealVar(\"acms\", \"acms\", 70., 50., 90.)\n",
    "beta = ROOT.RooRealVar(\"beta\", \"beta\", 0.05, 0.01, 0.08)\n",
    "gamma = ROOT.RooRealVar(\"gamma\", \"gamma\", 0.1, -2, 2)\n",
    "peak = ROOT.RooRealVar(\"peak\", \"peak\", 91, 90, 92)\n",
    "\n",
    "#bkg = ROOT.RooCMSShape(\"bkg\", \"bkg\", zM, acms, beta, gamma, peak)\n",
    "\n",
    "#fracSig = ROOT.RooRealVar(\"fracSig\", \"fracSig\", 0.9 * nEvents, 0.5, 1.1 * nEvents)\n",
    "#fracBkg = ROOT.RooRealVar(\"fracBkg\", \"fracBkg\", 0.9 * nEvents, 0.5, 1.1 * nEvents)\n",
    "#model = ROOT.RooAddPdf(\"model\", \"model\", ROOT.RooArgList(sig, bkg), ROOT.RooArgList(fracSig, fracBkg))"
   ]
  },
  {
   "cell_type": "markdown",
   "metadata": {},
   "source": [
    "# Fit"
   ]
  },
  {
   "cell_type": "code",
   "execution_count": 6,
   "metadata": {},
   "outputs": [
    {
     "data": {
      "text/plain": [
       "<cppyy.gbl.RooFitResult object at 0x0>"
      ]
     },
     "execution_count": 6,
     "metadata": {},
     "output_type": "execute_result"
    },
    {
     "name": "stdout",
     "output_type": "stream",
     "text": [
      "[#1] INFO:Minimization -- RooAbsMinimizerFcn::setOptimizeConst: activating const optimization\n",
      "[#1] INFO:Eval -- RooRealVar::setRange(z_mass_no_roccor) new range named 'refrange_fft_sig' created with bounds [75,105]\n",
      "[#1] INFO:Caching -- RooAbsCachedPdf::getCache(sig) creating new cache 0x600003b605a0 with pdf kest_CONV_gauss_CACHE_Obs[z_mass_no_roccor]_NORM_z_mass_no_roccor for nset (z_mass_no_roccor) with code 0\n",
      "[#1] INFO:Eval -- RooAbsTestStatistic::initMPMode: started 12 remote server process.\n",
      " **********\n",
      " **    1 **SET PRINT           1\n",
      " **********\n",
      " **********\n",
      " **    2 **SET NOGRAD\n",
      " **********\n",
      " PARAMETER DEFINITIONS:\n",
      "    NO.   NAME         VALUE      STEP SIZE      LIMITS\n",
      "     1 mass         0.00000e+00  1.00000e+00   -5.00000e+00  5.00000e+00\n",
      "     2 sigma        9.00000e-01  4.25000e-01    5.00000e-02  5.00000e+00\n",
      " **********\n",
      " **    3 **SET ERR         0.5\n",
      " **********\n",
      " **********\n",
      " **    4 **SET PRINT           1\n",
      " **********\n",
      " **********\n",
      " **    5 **SET STR           1\n",
      " **********\n",
      " NOW USING STRATEGY  1: TRY TO BALANCE SPEED AGAINST RELIABILITY\n",
      " **********\n",
      " **    6 **MIGRAD        1000           1\n",
      " **********\n",
      " FIRST CALL TO USER FUNCTION AT NEW START POINT, WITH IFLAG=4.\n",
      "[#1] INFO:Caching -- RooAbsCachedPdf::getCache(sig) creating new cache 0x12be25aa0 with pdf kest_CONV_gauss_CACHE_Obs[z_mass_no_roccor]_NORM_z_mass_no_roccor for nset (z_mass_no_roccor) with code 0 from preexisting content.\n",
      "[#[#1] 1INFO:Caching -- RooAbsCachedPdf::getCache(sig) creating new cache 0x106404080 with pdf kest_CONV_gauss_CACHE_Obs[z_mass_no_roccor]_NORM_z_mass_no_roccor for nset (z_mass_no_roccor) with code 0 from preexisting content.\n",
      "[#1] INFO:Caching -- RooAbsCachedPdf::getCache(sig) creating new cache 0x12bfcf980 with pdf kest_CONV_gauss_CACHE_Obs[z_mass_no_roccor]_NORM_z_mass_no_roccor for nset (z_mass_no_roccor) with code 0 from preexisting content.\n",
      "] [#1] INFO:Caching -- RooAbsCachedPdf::getCache(sig) creating new cache 0x12be25aa0[#INFO:Caching -- RooAbsCachedPdf::getCache(sig) creating new cache 0x10c9ee570 with pdf kest_CONV_gauss_CACHE_Obs[z_mass_no_roccor]_NORM_z_mass_no_roccor for nset (z_mass_no_roccor) with code 0 from preexisting content.\n",
      "[#[#1] 1] INFO:Caching -- RooAbsCachedPdf::getCache(sig) creating new cache 0x12bfcf980INFO with pdf :kest_CONV_gauss_CACHE_Obs[z_mass_no_roccor]_NORM_z_mass_no_roccorCaching for nset  -- RooAbsCachedPdf::getCache(sig) creating new cache (0x11be23340 with pdf kest_CONV_gauss_CACHE_Obs[z_mass_no_roccor]_NORM_z_mass_no_roccor for nset (z_mass_no_roccor) with code 0 from preexisting content.\n",
      "z_mass_no_roccor) with code 0 from preexisting content.\n",
      "[#1] INFO:Caching -- RooAbsCachedPdf::getCache(sig) creating new cache 0x12be25aa0 with pdf kest_CONV_gauss_CACHE_Obs[z_mass_no_roccor]_NORM_z_mass_no_roccor for nset ([#1] INFO:Caching -- RooAbsCachedPdf::getCache(sig) creating new cache 0x10c9ee570z_mass_no_roccor with pdf )kest_CONV_gauss_CACHE_Obs[z_mass_no_roccor]_NORM_z_mass_no_roccor with code  for nset 0 from preexisting content.\n",
      "(z_mass_no_roccor) with code 0 from preexisting content.\n",
      "1] INFO:Caching -- RooAbsCachedPdf::getCache(sig) creating new cache 0x12be25aa0 with pdf kest_CONV_gauss_CACHE_Obs[z_mass_no_roccor]_NORM_z_mass_no_roccor for nset  with pdf kest_CONV_gauss_CACHE_Obs[z_mass_no_roccor]_NORM_z_mass_no_roccor for nset (z_mass_no_roccor) with code 0 from preexisting content.\n",
      "(z_mass_no_roccor) with code 0 from preexisting content.\n",
      "[#1] INFO:Caching -- RooAbsCachedPdf::getCache(sig) creating new cache 0x11be23340 with pdf kest_CONV_gauss_CACHE_Obs[z_mass_no_roccor]_NORM_z_mass_no_roccor for nset (z_mass_no_roccor) with code 0 from preexisting content.\n",
      "[#1] INFO:Caching -- RooAbsCachedPdf::getCache(sig) creating new cache 0x12bfcf980 with pdf kest_CONV_gauss_CACHE_Obs[z_mass_no_roccor]_NORM_z_mass_no_roccor for nset (z_mass_no_roccor) with code 0 from preexisting content.\n",
      "[#1] INFO:Minimization --  The following expressions have been identified as constant and will be precalculated and cached: (kest)\n",
      "[#1] INFO:Minimization --  The following expressions have been identified as constant and will be precalculated and cached: (kest)\n",
      "[#1] INFO:Minimization --  The following expressions have been identified as constant and will be precalculated and cached: (kest)\n",
      "[#1] INFO:Minimization --  The following expressions have been identified as constant and will be precalculated and cached: (kest)\n",
      "[#1] INFO:Minimization --  The following expressions have been identified as constant and will be precalculated and cached: (kest)\n",
      "[#1] INFO:Minimization --  The following expressions have been identified as constant and will be precalculated and cached: (kest)\n",
      "[#1] INFO:Minimization --  The following expressions have been identified as constant and will be precalculated and cached: (kest)\n",
      "[#1] INFO:Minimization --  The following expressions have been identified as constant and will be precalculated and cached: (kest)\n",
      "[#1] INFO:Minimization --  The following expressions have been identified as constant and will be precalculated and cached: (kest)\n",
      "[#1] INFO:Minimization --  The following expressions have been identified as constant and will be precalculated and cached: (kest)\n",
      "[#1] INFO:Minimization --  The following expressions have been identified as constant and will be precalculated and cached: (kest)\n",
      "[#1] INFO:Minimization --  The following expressions have been identified as constant and will be precalculated and cached: (kest)\n",
      " START MIGRAD MINIMIZATION.  STRATEGY  1.  CONVERGENCE WHEN EDM .LT. 1.00e-03\n",
      " FCN=645398 FROM MIGRAD    STATUS=INITIATE       10 CALLS          11 TOTAL\n",
      "                     EDM= unknown      STRATEGY= 1      NO ERROR MATRIX       \n",
      "  EXT PARAMETER               CURRENT GUESS       STEP         FIRST   \n",
      "  NO.   NAME      VALUE            ERROR          SIZE      DERIVATIVE \n",
      "   1  mass         0.00000e+00   1.00000e+00   2.01358e-01   1.91488e+03\n",
      "   2  sigma        9.00000e-01   4.25000e-01   2.34923e-01   5.96968e+03\n",
      "                               ERR DEF= 0.5\n",
      " MIGRAD MINIMIZATION HAS CONVERGED.\n",
      " MIGRAD WILL VERIFY CONVERGENCE AND ERROR MATRIX.\n",
      " COVARIANCE MATRIX CALCULATED SUCCESSFULLY\n",
      " FCN=644549 FROM MIGRAD    STATUS=CONVERGED      74 CALLS          75 TOTAL\n",
      "                     EDM=1.79875e-06    STRATEGY= 1      ERROR MATRIX ACCURATE \n",
      "  EXT PARAMETER                                   STEP         FIRST   \n",
      "  NO.   NAME      VALUE            ERROR          SIZE      DERIVATIVE \n",
      "   1  mass         1.18436e-03   5.46993e-03   6.06485e-04   1.22355e+00\n",
      "   2  sigma        5.00000e-02   2.63088e-02   8.09094e-02** at limit **\n",
      "                               ERR DEF= 0.5\n",
      " EXTERNAL ERROR MATRIX.    NDIM=  25    NPAR=  2    ERR DEF=0.5\n",
      "  2.992e-05 -1.706e-10 \n",
      " -1.706e-10  2.749e-11 \n",
      " PARAMETER  CORRELATION COEFFICIENTS  \n",
      "       NO.  GLOBAL      1      2\n",
      "        1  0.00595   1.000 -0.006\n",
      "        2  0.00595  -0.006  1.000\n",
      " **********\n",
      " **    7 **SET ERR         0.5\n",
      " **********\n",
      " **********\n",
      " **    8 **SET PRINT           1\n",
      " **********\n",
      " **********\n",
      " **    9 **HESSE        1000\n",
      " **********\n",
      " COVARIANCE MATRIX CALCULATED SUCCESSFULLY\n",
      " FCN=644549 FROM HESSE     STATUS=OK             16 CALLS          91 TOTAL\n",
      "                     EDM=1.79376e-06    STRATEGY= 1      ERROR MATRIX ACCURATE \n",
      "  EXT PARAMETER                                INTERNAL      INTERNAL  \n",
      "  NO.   NAME      VALUE            ERROR       STEP SIZE       VALUE   \n",
      "   1  mass         1.18436e-03   5.47694e-03   1.21297e-04   2.36871e-04\n",
      "   2  sigma        5.00000e-02   4.44207e-03   5.00000e-01  -1.57078e+00\n",
      "                                 WARNING -   - ABOVE PARAMETER IS AT LIMIT.\n",
      "                               ERR DEF= 0.5\n",
      " EXTERNAL ERROR MATRIX.    NDIM=  25    NPAR=  2    ERR DEF=0.5\n",
      "  3.000e-05 -6.006e-10 \n",
      " -6.006e-10  4.634e-12 \n",
      " PARAMETER  CORRELATION COEFFICIENTS  \n",
      "       NO.  GLOBAL      1      2\n",
      "        1  0.05094   1.000 -0.051\n",
      "        2  0.05094  -0.051  1.000\n",
      "[#1] INFO:Minimization -- RooAbsMinimizerFcn::setOptimizeConst: deactivating const optimization\n"
     ]
    }
   ],
   "source": [
    "sig.fitTo(ds, ROOT.RooFit.NumCPU(12, 0))"
   ]
  },
  {
   "cell_type": "markdown",
   "metadata": {},
   "source": [
    "# Plot"
   ]
  },
  {
   "cell_type": "code",
   "execution_count": 7,
   "metadata": {},
   "outputs": [
    {
     "name": "stdout",
     "output_type": "stream",
     "text": [
      "[#1] INFO:Caching -- RooAbsCachedPdf::getCache(sig) creating new cache 0x600003b6eb20 with pdf kest_CONV_gauss_CACHE_Obs[z_mass_no_roccor]_NORM_z_mass_no_roccor for nset (z_mass_no_roccor) with code 0\n"
     ]
    },
    {
     "data": {
      "text/html": [
       "\n",
       "\n",
       "<div id=\"root_plot_1652068465645\"\n",
       "     style=\"width: 696px; height: 472px\">\n",
       "</div>\n",
       "<script>\n",
       "\n",
       "function display_root_plot_1652068465645(Core) {\n",
       "   let obj = Core.parse({\"_typename\":\"TCanvas\",\"fUniqueID\":0,\"fBits\":3342344,\"fLineColor\":1,\"fLineStyle\":1,\"fLineWidth\":1,\"fFillColor\":0,\"fFillStyle\":1001,\"fLeftMargin\":0.1,\"fRightMargin\":0.1,\"fBottomMargin\":0.1,\"fTopMargin\":0.1,\"fXfile\":2,\"fYfile\":2,\"fAfile\":1,\"fXstat\":0.99,\"fYstat\":0.99,\"fAstat\":2,\"fFrameFillColor\":0,\"fFrameLineColor\":1,\"fFrameFillStyle\":1001,\"fFrameLineStyle\":1,\"fFrameLineWidth\":1,\"fFrameBorderSize\":1,\"fFrameBorderMode\":0,\"fX1\":0,\"fY1\":0,\"fX2\":1,\"fY2\":1,\"fXtoAbsPixelk\":5e-5,\"fXtoPixelk\":5e-5,\"fXtoPixel\":696,\"fYtoAbsPixelk\":472.00005,\"fYtoPixelk\":472.00005,\"fYtoPixel\":-472,\"fUtoAbsPixelk\":5e-5,\"fUtoPixelk\":5e-5,\"fUtoPixel\":696,\"fVtoAbsPixelk\":472.00005,\"fVtoPixelk\":472,\"fVtoPixel\":-472,\"fAbsPixeltoXk\":0,\"fPixeltoXk\":0,\"fPixeltoX\":0.0014367816091954,\"fAbsPixeltoYk\":1,\"fPixeltoYk\":0,\"fPixeltoY\":-0.00211864406779661,\"fXlowNDC\":0,\"fYlowNDC\":0,\"fXUpNDC\":1,\"fYUpNDC\":1,\"fWNDC\":1,\"fHNDC\":1,\"fAbsXlowNDC\":0,\"fAbsYlowNDC\":0,\"fAbsWNDC\":1,\"fAbsHNDC\":1,\"fUxmin\":0,\"fUymin\":0,\"fUxmax\":1,\"fUymax\":1,\"fTheta\":30,\"fPhi\":30,\"fAspectRatio\":0,\"fNumber\":0,\"fTickx\":0,\"fTicky\":0,\"fLogx\":0,\"fLogy\":0,\"fLogz\":0,\"fPadPaint\":0,\"fCrosshair\":0,\"fCrosshairPos\":0,\"fBorderSize\":2,\"fBorderMode\":0,\"fModified\":true,\"fGridx\":false,\"fGridy\":false,\"fAbsCoord\":false,\"fEditable\":true,\"fFixedAspectRatio\":false,\"fPrimitives\":{\"_typename\":\"TList\",\"name\":\"TList\",\"arr\":[{\"_typename\":\"TH1D\",\"fUniqueID\":0,\"fBits\":520,\"fName\":\"frame_14cb5f930\",\"fTitle\":\"A RooPlot of \\\"z_mass_no_roccor\\\"\",\"fLineColor\":602,\"fLineStyle\":1,\"fLineWidth\":1,\"fFillColor\":0,\"fFillStyle\":1001,\"fMarkerColor\":1,\"fMarkerStyle\":1,\"fMarkerSize\":1,\"fNcells\":102,\"fXaxis\":{\"_typename\":\"TAxis\",\"fUniqueID\":0,\"fBits\":0,\"fName\":\"xaxis\",\"fTitle\":\"z_mass_no_roccor\",\"fNdivisions\":510,\"fAxisColor\":1,\"fLabelColor\":1,\"fLabelFont\":42,\"fLabelOffset\":0.005,\"fLabelSize\":0.035,\"fTickLength\":0.03,\"fTitleOffset\":1,\"fTitleSize\":0.035,\"fTitleColor\":1,\"fTitleFont\":42,\"fNbins\":100,\"fXmin\":75,\"fXmax\":105,\"fXbins\":[],\"fFirst\":0,\"fLast\":0,\"fBits2\":0,\"fTimeDisplay\":false,\"fTimeFormat\":\"\",\"fLabels\":null,\"fModLabs\":null},\"fYaxis\":{\"_typename\":\"TAxis\",\"fUniqueID\":0,\"fBits\":0,\"fName\":\"yaxis\",\"fTitle\":\"Events \\/ ( 0.3 )\",\"fNdivisions\":510,\"fAxisColor\":1,\"fLabelColor\":1,\"fLabelFont\":42,\"fLabelOffset\":0.005,\"fLabelSize\":0.035,\"fTickLength\":0.03,\"fTitleOffset\":0,\"fTitleSize\":0.035,\"fTitleColor\":1,\"fTitleFont\":42,\"fNbins\":1,\"fXmin\":0,\"fXmax\":1,\"fXbins\":[],\"fFirst\":0,\"fLast\":0,\"fBits2\":0,\"fTimeDisplay\":false,\"fTimeFormat\":\"\",\"fLabels\":null,\"fModLabs\":null},\"fZaxis\":{\"_typename\":\"TAxis\",\"fUniqueID\":0,\"fBits\":0,\"fName\":\"zaxis\",\"fTitle\":\"\",\"fNdivisions\":510,\"fAxisColor\":1,\"fLabelColor\":1,\"fLabelFont\":42,\"fLabelOffset\":0.005,\"fLabelSize\":0.035,\"fTickLength\":0.03,\"fTitleOffset\":1,\"fTitleSize\":0.035,\"fTitleColor\":1,\"fTitleFont\":42,\"fNbins\":1,\"fXmin\":0,\"fXmax\":1,\"fXbins\":[],\"fFirst\":0,\"fLast\":0,\"fBits2\":0,\"fTimeDisplay\":false,\"fTimeFormat\":\"\",\"fLabels\":null,\"fModLabs\":null},\"fBarOffset\":0,\"fBarWidth\":1000,\"fEntries\":1,\"fTsumw\":0,\"fTsumw2\":0,\"fTsumwx\":0,\"fTsumwx2\":0,\"fMaximum\":13176.4735402343,\"fMinimum\":-1111,\"fNormFactor\":0,\"fContour\":[],\"fSumw2\":[],\"fOption\":\"\",\"fFunctions\":{\"_typename\":\"TList\",\"name\":\"TList\",\"arr\":[],\"opt\":[]},\"fBufferSize\":0,\"fBuffer\":[],\"fBinStatErrOpt\":0,\"fStatOverflows\":2,\"fArray\":{\"$arr\":\"Float64\",\"len\":102,\"p\":1,\"v\":13176.4735402343}},{\"_typename\":\"RooHist\",\"fUniqueID\":0,\"fBits\":1032,\"fName\":\"h_ds\",\"fTitle\":\"Histogram of ds_plot__z_mass_no_roccor\",\"fLineColor\":1,\"fLineStyle\":1,\"fLineWidth\":1,\"fFillColor\":0,\"fFillStyle\":1000,\"fMarkerColor\":1,\"fMarkerStyle\":8,\"fMarkerSize\":1,\"fNpoints\":100,\"fX\":{\"$arr\":\"Float64\",\"len\":100,\"v\":[75.15,75.45,75.75,76.05,76.35,76.65,76.95,77.25,77.55,77.85,78.15,78.45,78.75,79.05,79.35,79.65,79.95,80.25,80.55,80.85,81.15,81.45,81.75,82.05,82.35,82.65,82.95,83.25,83.55,83.85,84.15,84.45,84.75,85.05,85.35,85.65,85.95,86.25,86.55,86.85,87.15,87.45,87.75,88.05,88.35,88.65,88.95,89.25,89.55,89.85,90.15,90.45,90.75,91.05,91.35,91.65,91.95,92.25,92.55,92.85,93.15,93.45,93.75,94.05,94.35,94.65,94.95,95.25,95.55,95.85,96.15,96.45,96.75,97.05,97.35,97.65,97.95,98.25,98.55,98.85,99.15,99.45,99.75,100.05,100.35,100.65,100.95,101.25,101.55,101.85,102.15,102.45,102.75,103.05,103.35,103.65,103.95,104.25,104.55,104.85]},\"fY\":{\"$arr\":\"Float64\",\"len\":100,\"v\":[234,265,279,282,319,292,338,316,404,355,390,451,407,403,428,491,484,512,535,553,576,624,661,727,761,859,895,899,1036,1125,1079,1226,1270,1361,1511,1683,1846,1983,2277,2573,2776,3250,3644,4255,4891,5584,6595,7576,8552,9532,10683,11444,12019,12437,12239,11386,10554,9609,8100,7182,6130,5071,4323,3622,3186,2717,2252,1891,1638,1413,1227,1120,1011,865,834,742,672,623,594,503,467,431,392,352,359,354,288,290,305,270,241,211,239,215,193,217,181,182,159,143]},\"fFunctions\":{\"_typename\":\"TList\",\"name\":\"TList\",\"arr\":[],\"opt\":[]},\"fHistogram\":null,\"fMinimum\":-1111,\"fMaximum\":-1111,\"fEXlow\":{\"$arr\":\"Float64\",\"len\":100,\"v\":0.15,\"n\":100},\"fEXhigh\":{\"$arr\":\"Float64\",\"len\":100,\"v\":0.15,\"n\":100},\"fEYlow\":{\"$arr\":\"Float64\",\"len\":100,\"v\":[14.805227865014,15.7864974749023,16.2107749670684,16.3002976164115,17.3675683852056,16.5953209972787,17.8915741577495,17.2834192437787,19.6059692628831,18.3480768249707,19.2547462651384,20.742645786248,19.6804360706105,19.5810856280232,20.1942020865749,21.6641602593015,21.5056810846654,22.1329405955125,22.6354706025186,23.0212669726782,23.5052077683156,24.484995497298,25.2147817412476,26.4675731203236,27.0907593226428,28.8129664141998,29.4207286007544,29.4874973947477,31.6908372056397,33.0447462354391,32.3519405819504,34.5178525897863,35.1405667743934,36.3951216287464,38.3747990348504,40.5274298488218,42.4680113572877,44.0336951083109,47.2205406507514,50.2272116324166,52.1901319034218,56.5109638578406,59.8676237730128,64.7322772866319,69.437472073274,74.2278395245039,80.7111445554119,86.541656693792,91.9783758507892,97.133242289703,102.859808436355,106.477801435625,109.132340119146,111.022419270746,110.131143897186,106.206372818122,102.233879514015,97.5267820547015,89.5013888781723,84.248156322129,77.7959130478721,70.7127095398009,65.2514258400533,59.6851310541069,55.9468776815866,51.6272481529572,46.9578760586692,42.9885042281292,39.9753011106773,37.0932174733689,34.5321281112067,32.9701359423591,31.3001572323157,28.9151321601655,28.3833862280724,26.7442654516506,25.4277843249283,24.4649754656399,23.8772434864978,21.9332342741745,21.1159663212173,20.2665596572952,19.3053023203383,18.2683243791234,18.4538914210249,18.3215302247187,16.4779268463496,16.5367250374008,16.9714052096562,15.9392822227736,15.0322245670091,14.0344418537486,14.967708298258,14.1714007511212,13.4014387744579,14.2394029729837,12.9629120178363,13,12.119429464124,11.4687092035858]},\"fEYhigh\":{\"$arr\":\"Float64\",\"len\":100,\"v\":[15.805227865014,16.7864974749023,17.2107749670684,17.3002976164115,18.3675683852056,17.5953209972787,18.8915741577495,18.2834192437787,20.6059692628831,19.3480768249707,20.2547462651384,21.742645786248,20.6804360706105,20.5810856280232,21.1942020865749,22.6641602593015,22.5056810846654,23.1329405955125,23.6354706025186,24.0212669726782,24.5052077683156,25.484995497298,26.2147817412476,27.4675731203236,28.0907593226428,29.8129664141998,30.4207286007544,30.4874973947477,32.6908372056398,34.0447462354391,33.3519405819504,35.5178525897863,36.1405667743934,37.3951216287464,39.3747990348504,41.5274298488218,43.4680113572877,45.0336951083109,48.2205406507514,51.2272116324166,53.1901319034218,57.5109638578406,60.8676237730128,65.7322772866319,70.437472073274,75.2278395245039,81.7111445554119,87.541656693792,92.9783758507892,98.133242289703,103.859808436355,107.477801435625,110.132340119146,112.022419270746,111.131143897186,107.206372818122,103.233879514015,98.5267820547015,90.5013888781723,85.248156322129,78.7959130478721,71.7127095398009,66.2514258400533,60.6851310541069,56.9468776815866,52.6272481529572,47.9578760586692,43.9885042281292,40.9753011106773,38.0932174733689,35.5321281112067,33.9701359423591,32.3001572323158,29.9151321601655,29.3833862280724,27.7442654516506,26.4277843249283,25.4649754656399,24.8772434864978,22.9332342741745,22.1159663212173,21.2665596572952,20.3053023203383,19.2683243791234,19.4538914210249,19.3215302247187,17.4779268463496,17.5367250374008,17.9714052096562,16.9392822227736,16.0322245670091,15.0344418537486,15.967708298258,15.1714007511212,14.4014387744579,15.2394029729837,13.9629120178363,14,13.119429464124,12.4687092035858]},\"_yAxisLabel\":\"Events \\/ ( 0.3 )\",\"_ymin\":0,\"_ymax\":12549.0224192707,\"_normValue\":0,\"_nominalBinWidth\":0.3,\"_nSigma\":1,\"_entries\":240941,\"_rawEntries\":-1},{\"_typename\":\"RooCurve\",\"fUniqueID\":0,\"fBits\":525320,\"fName\":\"sig_Norm[z_mass_no_roccor]\",\"fTitle\":\"Projection of sig\",\"fLineColor\":600,\"fLineStyle\":1,\"fLineWidth\":3,\"fFillColor\":0,\"fFillStyle\":1000,\"fMarkerColor\":1,\"fMarkerStyle\":1,\"fMarkerSize\":1,\"fNpoints\":126,\"fX\":{\"$arr\":\"Float64\",\"len\":126,\"v\":[74.6997,74.7,75,75.3,75.6,75.9,76.2,76.5,76.8,77.1,77.4,77.7,78,78.3,78.6,78.9,79.2,79.5,79.8,80.1,80.4,80.7,81,81.3,81.6,81.9,82.2,82.5,82.8,83.1,83.4,83.7,84,84.3,84.6,84.9,85.2,85.5,85.8,86.1,86.4,86.7,87,87.3,87.45,87.6,87.9,88.2,88.35,88.5,88.65,88.8,89.1,89.4,89.7,89.85,90,90.15,90.3,90.45,90.525,90.6,90.675,90.75,90.9,91.05,91.125,91.2,91.275,91.35,91.425,91.5,91.8,91.95,92.1,92.25,92.4,92.55,92.7,93,93.3,93.45,93.6,93.75,93.9,94.05,94.2,94.5,94.8,95.1,95.4,95.7,96,96.3,96.6,96.9,97.2,97.5,97.8,98.1,98.4,98.7,99,99.3,99.6,99.9,100.2,100.5,100.8,101.1,101.4,101.7,102,102.3,102.6,102.9,103.2,103.5,103.8,104.1,104.4,104.7,105,105,105.3,105.3003]},\"fY\":{\"$arr\":\"Float64\",\"len\":126,\"p\":1,\"v\":[260.892433706589,260.892433706589,262.946519869175,268.574968558048,277.43757990407,289.065025953871,302.962633079529,318.607541015228,335.379074907457,352.518773578374,369.194653148361,384.742495027438,398.97764097415,412.363365338813,425.876223952469,440.570132719659,457.13686335866,475.742873291263,496.262123453984,518.758523124603,543.874768973472,572.84853933968,607.120098677829,647.678879933071,694.415137327959,746.053779549964,801.009711432962,858.663987859018,919.205995135775,981.649175322545,1043.4961286723,1104.00033735945,1166.54180821798,1237.75934702195,1327.01208920129,1443.77559866079,1587.52323476894,1747.2289852015,1925.9030826161,2143.440617988,2395.95965389545,2669.81443830722,3001.18156635875,3203.89265237828,3432.16888372934,3951.42591185661,4553.15957814831,4890.12750103249,5252.72484896974,5648.26073161785,6084.70503769045,7051.08451533522,8052.01691209156,9025.17343006609,9542.11019055266,10096.3274055381,10636.8506515771,11109.8518916284,11516.9657002205,11693.3837901069,11842.5672761131,11960.6816239172,12053.4827660299,12211.9283913991,12345.1813419517,12372.6452846899,12357.5397813906,12294.5875752874,12184.2525156017,12032.7723779261,11850.5245015067,11017.6811813033,10574.9409192485,10081.6477238849,9515.49944624094,8877.26319448325,8228.0503419411,7644.80379527164,6626.24280975956,5588.72292411231,5106.89083122356,4679.02949544804,4303.05511765158,3969.81325266353,3671.18083687431,3400.26915372524,2915.10423160005,2472.75532201961,2079.29741226549,1760.01539388087,1515.03297296506,1325.35229032998,1173.21565967838,1047.31162081631,941.224816616077,851.586002861063,775.392673550829,708.89882768044,648.684127142928,592.789818080614,540.796672236119,493.293175741637,451.204088352548,415.14668902222,385.006149797581,359.899243513671,338.538884805225,319.664778569165,302.315499187554,285.925515617102,270.27338780818,255.354906733832,241.255352306559,228.068536174143,215.866564089613,204.708101762498,194.679028264099,185.928947765752,178.67721731733,173.192895095678,169.746940937936,168.530775858951,168.530775858951,168.530775858951]},\"fFunctions\":{\"_typename\":\"TList\",\"name\":\"TList\",\"arr\":[],\"opt\":[]},\"fHistogram\":null,\"fMinimum\":-1111,\"fMaximum\":-1111,\"_yAxisLabel\":\"Projection of sig\",\"_ymin\":0,\"_ymax\":12372.6452846899,\"_normValue\":0},{\"$ref\":2},{\"_typename\":\"TStyle\",\"fUniqueID\":0,\"fBits\":0,\"fName\":\"Modern\",\"fTitle\":\"Modern Style\",\"fLineColor\":1,\"fLineStyle\":1,\"fLineWidth\":1,\"fFillColor\":19,\"fFillStyle\":1001,\"fMarkerColor\":1,\"fMarkerStyle\":1,\"fMarkerSize\":1,\"fTextAngle\":0,\"fTextSize\":0.05,\"fTextAlign\":11,\"fTextColor\":1,\"fTextFont\":62,\"fXaxis\":{\"_typename\":\"TAttAxis\",\"fNdivisions\":510,\"fAxisColor\":1,\"fLabelColor\":1,\"fLabelFont\":42,\"fLabelOffset\":0.005,\"fLabelSize\":0.035,\"fTickLength\":0.03,\"fTitleOffset\":1,\"fTitleSize\":0.035,\"fTitleColor\":1,\"fTitleFont\":42},\"fYaxis\":{\"_typename\":\"TAttAxis\",\"fNdivisions\":510,\"fAxisColor\":1,\"fLabelColor\":1,\"fLabelFont\":42,\"fLabelOffset\":0.005,\"fLabelSize\":0.035,\"fTickLength\":0.03,\"fTitleOffset\":0,\"fTitleSize\":0.035,\"fTitleColor\":1,\"fTitleFont\":42},\"fZaxis\":{\"_typename\":\"TAttAxis\",\"fNdivisions\":510,\"fAxisColor\":1,\"fLabelColor\":1,\"fLabelFont\":42,\"fLabelOffset\":0.005,\"fLabelSize\":0.035,\"fTickLength\":0.03,\"fTitleOffset\":1,\"fTitleSize\":0.035,\"fTitleColor\":1,\"fTitleFont\":42},\"fBarWidth\":1,\"fBarOffset\":0,\"fColorModelPS\":0,\"fDrawBorder\":0,\"fOptLogx\":0,\"fOptLogy\":0,\"fOptLogz\":0,\"fOptDate\":0,\"fOptStat\":1111,\"fOptTitle\":1,\"fOptFile\":0,\"fOptFit\":0,\"fShowEventStatus\":0,\"fShowEditor\":0,\"fShowToolBar\":0,\"fNumberContours\":20,\"fAttDate\":{\"_typename\":\"TAttText\",\"fTextAngle\":0,\"fTextSize\":0.025,\"fTextAlign\":11,\"fTextColor\":1,\"fTextFont\":62},\"fDateX\":0.01,\"fDateY\":0.01,\"fEndErrorSize\":2,\"fErrorX\":0.5,\"fFuncColor\":2,\"fFuncStyle\":1,\"fFuncWidth\":2,\"fGridColor\":0,\"fGridStyle\":3,\"fGridWidth\":1,\"fLegendBorderSize\":1,\"fLegendFillColor\":0,\"fLegendFont\":42,\"fLegendTextSize\":0,\"fHatchesLineWidth\":1,\"fHatchesSpacing\":1,\"fFrameFillColor\":0,\"fFrameLineColor\":1,\"fFrameFillStyle\":1001,\"fFrameLineStyle\":1,\"fFrameLineWidth\":1,\"fFrameBorderSize\":1,\"fFrameBorderMode\":0,\"fHistFillColor\":0,\"fHistLineColor\":602,\"fHistFillStyle\":1001,\"fHistLineStyle\":1,\"fHistLineWidth\":1,\"fHistMinimumZero\":false,\"fHistTopMargin\":0.05,\"fCanvasPreferGL\":false,\"fCanvasColor\":0,\"fCanvasBorderSize\":2,\"fCanvasBorderMode\":0,\"fCanvasDefH\":500,\"fCanvasDefW\":700,\"fCanvasDefX\":10,\"fCanvasDefY\":10,\"fPadColor\":0,\"fPadBorderSize\":2,\"fPadBorderMode\":0,\"fPadBottomMargin\":0.1,\"fPadTopMargin\":0.1,\"fPadLeftMargin\":0.1,\"fPadRightMargin\":0.1,\"fPadGridX\":false,\"fPadGridY\":false,\"fPadTickX\":0,\"fPadTickY\":0,\"fPaperSizeX\":20,\"fPaperSizeY\":26,\"fScreenFactor\":1,\"fStatColor\":0,\"fStatTextColor\":1,\"fStatBorderSize\":1,\"fStatFont\":42,\"fStatFontSize\":0,\"fStatStyle\":1001,\"fStatFormat\":\"6.4g\",\"fStatX\":0.98,\"fStatY\":0.935,\"fStatW\":0.2,\"fStatH\":0.16,\"fStripDecimals\":true,\"fTitleAlign\":23,\"fTitleColor\":0,\"fTitleTextColor\":1,\"fTitleBorderSize\":0,\"fTitleFont\":42,\"fTitleFontSize\":0.05,\"fTitleStyle\":0,\"fTitleX\":0.5,\"fTitleY\":0.995,\"fTitleW\":0,\"fTitleH\":0,\"fLegoInnerR\":0.5,\"fLineStyles\":[\"\",\"  \",\" 12 12\",\" 4 8\",\" 12 16 4 16\",\" 20 12 4 12\",\" 20 12 4 12 4 12 4 12\",\" 20 20\",\" 20 12 4 12 4 12\",\" 80 20\",\" 80 40 4 40\",\"  \",\"  \",\"  \",\"  \",\"  \",\"  \",\"  \",\"  \",\"  \",\"  \",\"  \",\"  \",\"  \",\"  \",\"  \",\"  \",\"  \",\"  \",\"  \"],\"fHeaderPS\":\"\",\"fTitlePS\":\"\",\"fFitFormat\":\"5.4g\",\"fPaintTextFormat\":\"g\",\"fLineScalePS\":3,\"fJoinLinePS\":0,\"fCapLinePS\":0,\"fTimeOffset\":788918400,\"fImageScaling\":1}],\"opt\":[\"FUNC\",\"p\",\"l\",\"AXISSAME\",\"\"]},\"fExecs\":null,\"fName\":\"c1\",\"fTitle\":\"c1\",\"fNumPaletteColor\":0,\"fNextPaletteColor\":0,\"fDISPLAY\":\"$DISPLAY\",\"fDoubleBuffer\":0,\"fRetained\":true,\"fXsizeUser\":0,\"fYsizeUser\":0,\"fXsizeReal\":20,\"fYsizeReal\":14.28571,\"fWindowTopX\":0,\"fWindowTopY\":0,\"fWindowWidth\":0,\"fWindowHeight\":0,\"fCw\":696,\"fCh\":472,\"fCatt\":{\"_typename\":\"TAttCanvas\",\"fXBetween\":2,\"fYBetween\":2,\"fTitleFromTop\":1.2,\"fXdate\":0.2,\"fYdate\":0.3,\"fAdate\":1},\"kMoveOpaque\":true,\"kResizeOpaque\":true,\"fHighLightColor\":2,\"fBatch\":true,\"kShowEventStatus\":false,\"kAutoExec\":true,\"kMenuBar\":true});\n",
       "   Core.settings.HandleKeys = false;\n",
       "   Core.draw(\"root_plot_1652068465645\", obj, \"\");\n",
       "}\n",
       "\n",
       "function script_load_root_plot_1652068465645(src, on_error) {\n",
       "    let script = document.createElement('script');\n",
       "    script.src = src;\n",
       "    script.onload = function() { display_root_plot_1652068465645(JSROOT); };\n",
       "    script.onerror = function() { script.remove(); on_error(); };\n",
       "    document.head.appendChild(script);\n",
       "}\n",
       "\n",
       "if (typeof requirejs !== 'undefined') {\n",
       "\n",
       "    // We are in jupyter notebooks, use require.js which should be configured already\n",
       "    requirejs.config({\n",
       "       paths: { 'JSRootCore' : [ 'scripts/JSRoot.core', 'https://root.cern/js/6.1.1/scripts/JSRoot.core.min', 'https://jsroot.gsi.de/6.1.1/scripts/JSRoot.core.min' ] }\n",
       "    })(['JSRootCore'],  function(Core) {\n",
       "       display_root_plot_1652068465645(Core);\n",
       "    });\n",
       "\n",
       "} else if (typeof JSROOT !== 'undefined') {\n",
       "\n",
       "   // JSROOT already loaded, just use it\n",
       "   display_root_plot_1652068465645(JSROOT);\n",
       "\n",
       "} else {\n",
       "\n",
       "    // We are in jupyterlab without require.js, directly loading jsroot\n",
       "    // Jupyterlab might be installed in a different base_url so we need to know it.\n",
       "    try {\n",
       "        var base_url = JSON.parse(document.getElementById('jupyter-config-data').innerHTML).baseUrl;\n",
       "    } catch(_) {\n",
       "        var base_url = '/';\n",
       "    }\n",
       "\n",
       "    // Try loading a local version of requirejs and fallback to cdn if not possible.\n",
       "    script_load_root_plot_1652068465645(base_url + 'static/scripts/JSRoot.core.js', function(){\n",
       "        console.error('Fail to load JSROOT locally, please check your jupyter_notebook_config.py file');\n",
       "        script_load_root_plot_1652068465645('https://root.cern/js/6.1.1/scripts/JSRoot.core.min.js', function(){\n",
       "            document.getElementById(\"root_plot_1652068465645\").innerHTML = \"Failed to load JSROOT\";\n",
       "        });\n",
       "    });\n",
       "}\n",
       "\n",
       "</script>\n"
      ],
      "text/plain": [
       "<IPython.core.display.HTML object>"
      ]
     },
     "metadata": {},
     "output_type": "display_data"
    }
   ],
   "source": [
    "xFrameCorr = zM.frame()\n",
    "ds.plotOn(xFrameCorr)\n",
    "sig.plotOn(xFrameCorr)\n",
    "c = ROOT.TCanvas()\n",
    "c.Draw()\n",
    "xFrameCorr.Draw()"
   ]
  },
  {
   "cell_type": "code",
   "execution_count": 8,
   "metadata": {},
   "outputs": [
    {
     "name": "stdout",
     "output_type": "stream",
     "text": [
      "0.783456116553001\n"
     ]
    }
   ],
   "source": [
    "print(xFrameCorr.chiSquare(2))"
   ]
  },
  {
   "cell_type": "code",
   "execution_count": 9,
   "metadata": {},
   "outputs": [
    {
     "data": {
      "text/html": [
       "\n",
       "\n",
       "<div id=\"root_plot_1652068478786\"\n",
       "     style=\"width: 696px; height: 472px\">\n",
       "</div>\n",
       "<script>\n",
       "\n",
       "function display_root_plot_1652068478786(Core) {\n",
       "   let obj = Core.parse({\"_typename\":\"TCanvas\",\"fUniqueID\":0,\"fBits\":3342344,\"fLineColor\":1,\"fLineStyle\":1,\"fLineWidth\":1,\"fFillColor\":0,\"fFillStyle\":1001,\"fLeftMargin\":0.1,\"fRightMargin\":0.1,\"fBottomMargin\":0.1,\"fTopMargin\":0.1,\"fXfile\":2,\"fYfile\":2,\"fAfile\":1,\"fXstat\":0.99,\"fYstat\":0.99,\"fAstat\":2,\"fFrameFillColor\":0,\"fFrameLineColor\":1,\"fFrameFillStyle\":1001,\"fFrameLineStyle\":1,\"fFrameLineWidth\":1,\"fFrameBorderSize\":1,\"fFrameBorderMode\":0,\"fX1\":0,\"fY1\":0,\"fX2\":1,\"fY2\":1,\"fXtoAbsPixelk\":5e-5,\"fXtoPixelk\":5e-5,\"fXtoPixel\":696,\"fYtoAbsPixelk\":472.00005,\"fYtoPixelk\":472.00005,\"fYtoPixel\":-472,\"fUtoAbsPixelk\":5e-5,\"fUtoPixelk\":5e-5,\"fUtoPixel\":696,\"fVtoAbsPixelk\":472.00005,\"fVtoPixelk\":472,\"fVtoPixel\":-472,\"fAbsPixeltoXk\":0,\"fPixeltoXk\":0,\"fPixeltoX\":0.0014367816091954,\"fAbsPixeltoYk\":1,\"fPixeltoYk\":0,\"fPixeltoY\":-0.00211864406779661,\"fXlowNDC\":0,\"fYlowNDC\":0,\"fXUpNDC\":1,\"fYUpNDC\":1,\"fWNDC\":1,\"fHNDC\":1,\"fAbsXlowNDC\":0,\"fAbsYlowNDC\":0,\"fAbsWNDC\":1,\"fAbsHNDC\":1,\"fUxmin\":0,\"fUymin\":0,\"fUxmax\":1,\"fUymax\":1,\"fTheta\":30,\"fPhi\":30,\"fAspectRatio\":0,\"fNumber\":0,\"fTickx\":0,\"fTicky\":0,\"fLogx\":0,\"fLogy\":0,\"fLogz\":0,\"fPadPaint\":0,\"fCrosshair\":0,\"fCrosshairPos\":0,\"fBorderSize\":2,\"fBorderMode\":0,\"fModified\":true,\"fGridx\":false,\"fGridy\":false,\"fAbsCoord\":false,\"fEditable\":true,\"fFixedAspectRatio\":false,\"fPrimitives\":{\"_typename\":\"TList\",\"name\":\"TList\",\"arr\":[{\"_typename\":\"RooHist\",\"fUniqueID\":0,\"fBits\":1032,\"fName\":\"pull_h_ds_sig_Norm[z_mass_no_roccor]\",\"fTitle\":\"Pull of Histogram of ds_plot__z_mass_no_roccor and Projection of sig\",\"fLineColor\":1,\"fLineStyle\":1,\"fLineWidth\":1,\"fFillColor\":0,\"fFillStyle\":1000,\"fMarkerColor\":1,\"fMarkerStyle\":8,\"fMarkerSize\":1,\"fNpoints\":100,\"fX\":{\"$arr\":\"Float64\",\"len\":100,\"v\":[75.15,75.45,75.75,76.05,76.35,76.65,76.95,77.25,77.55,77.85,78.15,78.45,78.75,79.05,79.35,79.65,79.95,80.25,80.55,80.85,81.15,81.45,81.75,82.05,82.35,82.65,82.95,83.25,83.55,83.85,84.15,84.45,84.75,85.05,85.35,85.65,85.95,86.25,86.55,86.85,87.15,87.45,87.75,88.05,88.35,88.65,88.95,89.25,89.55,89.85,90.15,90.45,90.75,91.05,91.35,91.65,91.95,92.25,92.55,92.85,93.15,93.45,93.75,94.05,94.35,94.65,94.95,95.25,95.55,95.85,96.15,96.45,96.75,97.05,97.35,97.65,97.95,98.25,98.55,98.85,99.15,99.45,99.75,100.05,100.35,100.65,100.95,101.25,101.55,101.85,102.15,102.45,102.75,103.05,103.35,103.65,103.95,104.25,104.55,104.85]},\"fY\":{\"$arr\":\"Float64\",\"len\":100,\"v\":[-1.76647100733573,-0.0453188173857446,0.369737152055792,-0.0723284047890311,1.32351115443888,-1.06761832025028,0.615188576567461,-1.52864865538898,2.20051791666882,-1.13543967633759,-0.0918336856184461,2.18532858877487,-0.58605121305275,-1.46849291054465,-0.983924657978479,1.13367568283627,-0.0889774615169776,0.202850438753557,0.16272486733948,-0.223204469717409,-0.570667228818067,-0.133391795411982,-0.383257382406745,0.255616241439316,-0.446116295666063,1.01215369270816,0.206147461026731,-1.68684180807899,0.739246737173784,1.55098080097087,-1.68719036454419,0.690930072141547,-0.34270957035455,-0.65232690438128,-0.118081027175538,0.385513961113761,0.2221428738875,-1.14740418652687,0.154590861469862,0.79862991782669,-1.11859099054361,0.702802758571427,-0.785268009988736,0.0418223351781495,-0.0785783068708932,-0.990163188851358,0.335829997659578,0.282514655030447,0.145738917404841,-0.197999207241583,0.612774327290509,-0.520963089891634,-0.222727044371118,1.0513291444983,0.772613853112348,-0.448693861572712,-0.0804259799239178,1.14350689049653,-1.59712375910423,0.551664267959935,0.289438508810003,-0.688629962788186,0.141939490625421,-0.924625506441042,0.506074842969892,0.446861376802989,-0.500988974431411,-0.651452091313809,0.0119027640522751,-0.188816595829627,-0.627150024181937,0.29530845034059,0.534559017056023,-1.04981684755472,0.722629133438974,-0.00525336004614106,-0.256982474511735,0.0925007013151303,1.13944286981953,-0.61242665648312,-0.237323206721296,-0.102291518818226,-0.397749281566259,-1.06146732083175,0.530020233532352,1.35895681241809,-1.31538134244796,-0.234964475609892,1.58505132339037,0.450826619954537,-0.455652893936348,-1.57384919709877,1.13794640627147,0.332547724583405,-0.464784464811256,1.87479854567814,-0.0933245543534247,0.466534137961219,-0.95049240143461,-2.09635640479339]},\"fFunctions\":{\"_typename\":\"TList\",\"name\":\"TList\",\"arr\":[],\"opt\":[]},\"fHistogram\":{\"_typename\":\"TH1F\",\"fUniqueID\":0,\"fBits\":512,\"fName\":\"pull_h_ds_sig_Norm[z_mass_no_roccor]\",\"fTitle\":\"Pull of Histogram of ds_plot__z_mass_no_roccor and Projection of sig\",\"fLineColor\":602,\"fLineStyle\":1,\"fLineWidth\":1,\"fFillColor\":0,\"fFillStyle\":1001,\"fMarkerColor\":1,\"fMarkerStyle\":1,\"fMarkerSize\":1,\"fNcells\":102,\"fXaxis\":{\"_typename\":\"TAxis\",\"fUniqueID\":0,\"fBits\":2048,\"fName\":\"xaxis\",\"fTitle\":\"z_mass_no_roccor\",\"fNdivisions\":510,\"fAxisColor\":1,\"fLabelColor\":1,\"fLabelFont\":42,\"fLabelOffset\":0.005,\"fLabelSize\":0.035,\"fTickLength\":0.03,\"fTitleOffset\":1,\"fTitleSize\":0.035,\"fTitleColor\":1,\"fTitleFont\":42,\"fNbins\":100,\"fXmin\":72.18,\"fXmax\":107.82,\"fXbins\":[],\"fFirst\":8,\"fLast\":93,\"fBits2\":0,\"fTimeDisplay\":false,\"fTimeFormat\":\"\",\"fLabels\":null,\"fModLabs\":null},\"fYaxis\":{\"_typename\":\"TAxis\",\"fUniqueID\":0,\"fBits\":0,\"fName\":\"yaxis\",\"fTitle\":\"(Data - curve) \\/ #sigma_{data}\",\"fNdivisions\":510,\"fAxisColor\":1,\"fLabelColor\":1,\"fLabelFont\":42,\"fLabelOffset\":0.005,\"fLabelSize\":0.035,\"fTickLength\":0.03,\"fTitleOffset\":0,\"fTitleSize\":0.035,\"fTitleColor\":1,\"fTitleFont\":42,\"fNbins\":1,\"fXmin\":-3.64292348435334,\"fXmax\":3.87829063430328,\"fXbins\":[],\"fFirst\":0,\"fLast\":0,\"fBits2\":0,\"fTimeDisplay\":false,\"fTimeFormat\":\"\",\"fLabels\":null,\"fModLabs\":null},\"fZaxis\":{\"_typename\":\"TAxis\",\"fUniqueID\":0,\"fBits\":0,\"fName\":\"zaxis\",\"fTitle\":\"\",\"fNdivisions\":510,\"fAxisColor\":1,\"fLabelColor\":1,\"fLabelFont\":42,\"fLabelOffset\":0.005,\"fLabelSize\":0.035,\"fTickLength\":0.03,\"fTitleOffset\":1,\"fTitleSize\":0.035,\"fTitleColor\":1,\"fTitleFont\":42,\"fNbins\":1,\"fXmin\":0,\"fXmax\":1,\"fXbins\":[],\"fFirst\":0,\"fLast\":0,\"fBits2\":0,\"fTimeDisplay\":false,\"fTimeFormat\":\"\",\"fLabels\":null,\"fModLabs\":null},\"fBarOffset\":0,\"fBarWidth\":1000,\"fEntries\":0,\"fTsumw\":0,\"fTsumw2\":0,\"fTsumwx\":0,\"fTsumwx2\":0,\"fMaximum\":3.87829063430328,\"fMinimum\":-3.64292348435334,\"fNormFactor\":0,\"fContour\":[],\"fSumw2\":[],\"fOption\":\"\",\"fFunctions\":{\"_typename\":\"TList\",\"name\":\"TList\",\"arr\":[],\"opt\":[]},\"fBufferSize\":0,\"fBuffer\":[],\"fBinStatErrOpt\":0,\"fStatOverflows\":2,\"fArray\":{\"$arr\":\"Float32\",\"len\":102}},\"fMinimum\":-1111,\"fMaximum\":-1111,\"fEXlow\":{\"$arr\":\"Float64\",\"len\":100},\"fEXhigh\":{\"$arr\":\"Float64\",\"len\":100},\"fEYlow\":{\"$arr\":\"Float64\",\"len\":100,\"v\":[0.936729795448658,0.940428311415463,1,0.942197526182938,1,0.943166708913429,1,0.945305635304498,1,0.948315276549378,0.950628855730414,1,0.95164512021963,0.951411698193491,0.952817284844451,1,0.95556677461846,1,1,0.958370222472553,0.959192347624452,0.960761225164587,0.961853582842288,1,0.964401104700864,1,1,0.967199669193829,1,1,0.970016737180769,1,0.972330262382367,0.973258543990634,0.974603044980245,1,1,0.977794404887387,1,1,0.981199520207701,1,0.98357090456284,1,0.985803011230163,0.986707048795755,1,1,1,0.989809773154668,1,0.990695753107687,0.990920014966374,1,1,0.990672196309668,0.990313257578737,1,0.98895044581751,1,1,0.986055470412187,1,0.9835214988807,1,1,0.979148367647127,0.977266787822248,1,0.973748607591388,0.971856456307085,1,1,0.966572101548942,1,0.963956515563813,0.962161035230761,1,1,0.956395160488719,0.954783798027372,0.952977819820661,0.950751779795055,0.948101351195672,1,1,0.942784976227953,0.942976810215859,1,1,0.937625624203282,0.933486057565172,1,1,0.930562493396592,1,0.928381701558916,1,0.92377717318161,0.919799236338561]},\"fEYhigh\":{\"$arr\":\"Float64\",\"len\":100,\"v\":[1,1,1.06168736547336,1,1.05757858427964,1,1.05589223123595,1,1.05100487441308,1,1,1.04820985761918,1,1,1,1.04615918586416,1,1.04518152460061,1.04417844972433,1,1,1,1,1.03778208132094,1,1.0347065965241,1.0339896408947,1,1.03155486216761,1.03026199665372,1,1.02897051597862,1,1,1,1.02467464637482,1.02354713507979,1,1.02117722470389,1.01990952647976,1,1.01769568118703,1,1.01544824378064,1,1,1.01238986270742,1.01155512891946,1.01087212065608,1,1.00972197027393,1,1,1.00900718977814,1.00908008365857,1,1,1.01025359371992,1,1.01186969595128,1.01285414568481,1,1.01532533560954,1,1.01787409845624,1.01936961654507,1,1,1.02501544634351,1,1,1.03033047851996,1.03194872129804,1,1.03523187797131,1,1,1.04087475997695,1.0418808812904,1,1,1,1,1,1.05418911259338,1.05458059385514,1,1,1.05892264003166,1.06273808230657,1,1,1.06681049497179,1.07056465465638,1,1.07022766346997,1,1.07692307692308,1,1]},\"_yAxisLabel\":\"\",\"_ymin\":-3.01615564113195,\"_ymax\":3.25152279108189,\"_normValue\":0,\"_nominalBinWidth\":0.3,\"_nSigma\":1,\"_entries\":-4.98918573422923,\"_rawEntries\":-1},{\"_typename\":\"TStyle\",\"fUniqueID\":0,\"fBits\":0,\"fName\":\"Modern\",\"fTitle\":\"Modern Style\",\"fLineColor\":1,\"fLineStyle\":1,\"fLineWidth\":1,\"fFillColor\":19,\"fFillStyle\":1001,\"fMarkerColor\":1,\"fMarkerStyle\":1,\"fMarkerSize\":1,\"fTextAngle\":0,\"fTextSize\":0.05,\"fTextAlign\":11,\"fTextColor\":1,\"fTextFont\":62,\"fXaxis\":{\"_typename\":\"TAttAxis\",\"fNdivisions\":510,\"fAxisColor\":1,\"fLabelColor\":1,\"fLabelFont\":42,\"fLabelOffset\":0.005,\"fLabelSize\":0.035,\"fTickLength\":0.03,\"fTitleOffset\":1,\"fTitleSize\":0.035,\"fTitleColor\":1,\"fTitleFont\":42},\"fYaxis\":{\"_typename\":\"TAttAxis\",\"fNdivisions\":510,\"fAxisColor\":1,\"fLabelColor\":1,\"fLabelFont\":42,\"fLabelOffset\":0.005,\"fLabelSize\":0.035,\"fTickLength\":0.03,\"fTitleOffset\":0,\"fTitleSize\":0.035,\"fTitleColor\":1,\"fTitleFont\":42},\"fZaxis\":{\"_typename\":\"TAttAxis\",\"fNdivisions\":510,\"fAxisColor\":1,\"fLabelColor\":1,\"fLabelFont\":42,\"fLabelOffset\":0.005,\"fLabelSize\":0.035,\"fTickLength\":0.03,\"fTitleOffset\":1,\"fTitleSize\":0.035,\"fTitleColor\":1,\"fTitleFont\":42},\"fBarWidth\":1,\"fBarOffset\":0,\"fColorModelPS\":0,\"fDrawBorder\":0,\"fOptLogx\":0,\"fOptLogy\":0,\"fOptLogz\":0,\"fOptDate\":0,\"fOptStat\":1111,\"fOptTitle\":1,\"fOptFile\":0,\"fOptFit\":0,\"fShowEventStatus\":0,\"fShowEditor\":0,\"fShowToolBar\":0,\"fNumberContours\":20,\"fAttDate\":{\"_typename\":\"TAttText\",\"fTextAngle\":0,\"fTextSize\":0.025,\"fTextAlign\":11,\"fTextColor\":1,\"fTextFont\":62},\"fDateX\":0.01,\"fDateY\":0.01,\"fEndErrorSize\":2,\"fErrorX\":0.5,\"fFuncColor\":2,\"fFuncStyle\":1,\"fFuncWidth\":2,\"fGridColor\":0,\"fGridStyle\":3,\"fGridWidth\":1,\"fLegendBorderSize\":1,\"fLegendFillColor\":0,\"fLegendFont\":42,\"fLegendTextSize\":0,\"fHatchesLineWidth\":1,\"fHatchesSpacing\":1,\"fFrameFillColor\":0,\"fFrameLineColor\":1,\"fFrameFillStyle\":1001,\"fFrameLineStyle\":1,\"fFrameLineWidth\":1,\"fFrameBorderSize\":1,\"fFrameBorderMode\":0,\"fHistFillColor\":0,\"fHistLineColor\":602,\"fHistFillStyle\":1001,\"fHistLineStyle\":1,\"fHistLineWidth\":1,\"fHistMinimumZero\":false,\"fHistTopMargin\":0.05,\"fCanvasPreferGL\":false,\"fCanvasColor\":0,\"fCanvasBorderSize\":2,\"fCanvasBorderMode\":0,\"fCanvasDefH\":500,\"fCanvasDefW\":700,\"fCanvasDefX\":10,\"fCanvasDefY\":10,\"fPadColor\":0,\"fPadBorderSize\":2,\"fPadBorderMode\":0,\"fPadBottomMargin\":0.1,\"fPadTopMargin\":0.1,\"fPadLeftMargin\":0.1,\"fPadRightMargin\":0.1,\"fPadGridX\":false,\"fPadGridY\":false,\"fPadTickX\":0,\"fPadTickY\":0,\"fPaperSizeX\":20,\"fPaperSizeY\":26,\"fScreenFactor\":1,\"fStatColor\":0,\"fStatTextColor\":1,\"fStatBorderSize\":1,\"fStatFont\":42,\"fStatFontSize\":0,\"fStatStyle\":1001,\"fStatFormat\":\"6.4g\",\"fStatX\":0.98,\"fStatY\":0.935,\"fStatW\":0.2,\"fStatH\":0.16,\"fStripDecimals\":true,\"fTitleAlign\":23,\"fTitleColor\":0,\"fTitleTextColor\":1,\"fTitleBorderSize\":0,\"fTitleFont\":42,\"fTitleFontSize\":0.05,\"fTitleStyle\":0,\"fTitleX\":0.5,\"fTitleY\":0.995,\"fTitleW\":0,\"fTitleH\":0,\"fLegoInnerR\":0.5,\"fLineStyles\":[\"\",\"  \",\" 12 12\",\" 4 8\",\" 12 16 4 16\",\" 20 12 4 12\",\" 20 12 4 12 4 12 4 12\",\" 20 20\",\" 20 12 4 12 4 12\",\" 80 20\",\" 80 40 4 40\",\"  \",\"  \",\"  \",\"  \",\"  \",\"  \",\"  \",\"  \",\"  \",\"  \",\"  \",\"  \",\"  \",\"  \",\"  \",\"  \",\"  \",\"  \",\"  \"],\"fHeaderPS\":\"\",\"fTitlePS\":\"\",\"fFitFormat\":\"5.4g\",\"fPaintTextFormat\":\"g\",\"fLineScalePS\":3,\"fJoinLinePS\":0,\"fCapLinePS\":0,\"fTimeOffset\":788918400,\"fImageScaling\":1}],\"opt\":[\"ap\",\"\"]},\"fExecs\":null,\"fName\":\"c1_n2\",\"fTitle\":\"c1_n2\",\"fNumPaletteColor\":0,\"fNextPaletteColor\":0,\"fDISPLAY\":\"$DISPLAY\",\"fDoubleBuffer\":0,\"fRetained\":true,\"fXsizeUser\":0,\"fYsizeUser\":0,\"fXsizeReal\":20,\"fYsizeReal\":14.28571,\"fWindowTopX\":0,\"fWindowTopY\":0,\"fWindowWidth\":0,\"fWindowHeight\":0,\"fCw\":696,\"fCh\":472,\"fCatt\":{\"_typename\":\"TAttCanvas\",\"fXBetween\":2,\"fYBetween\":2,\"fTitleFromTop\":1.2,\"fXdate\":0.2,\"fYdate\":0.3,\"fAdate\":1},\"kMoveOpaque\":true,\"kResizeOpaque\":true,\"fHighLightColor\":2,\"fBatch\":true,\"kShowEventStatus\":false,\"kAutoExec\":true,\"kMenuBar\":true});\n",
       "   Core.settings.HandleKeys = false;\n",
       "   Core.draw(\"root_plot_1652068478786\", obj, \"\");\n",
       "}\n",
       "\n",
       "function script_load_root_plot_1652068478786(src, on_error) {\n",
       "    let script = document.createElement('script');\n",
       "    script.src = src;\n",
       "    script.onload = function() { display_root_plot_1652068478786(JSROOT); };\n",
       "    script.onerror = function() { script.remove(); on_error(); };\n",
       "    document.head.appendChild(script);\n",
       "}\n",
       "\n",
       "if (typeof requirejs !== 'undefined') {\n",
       "\n",
       "    // We are in jupyter notebooks, use require.js which should be configured already\n",
       "    requirejs.config({\n",
       "       paths: { 'JSRootCore' : [ 'scripts/JSRoot.core', 'https://root.cern/js/6.1.1/scripts/JSRoot.core.min', 'https://jsroot.gsi.de/6.1.1/scripts/JSRoot.core.min' ] }\n",
       "    })(['JSRootCore'],  function(Core) {\n",
       "       display_root_plot_1652068478786(Core);\n",
       "    });\n",
       "\n",
       "} else if (typeof JSROOT !== 'undefined') {\n",
       "\n",
       "   // JSROOT already loaded, just use it\n",
       "   display_root_plot_1652068478786(JSROOT);\n",
       "\n",
       "} else {\n",
       "\n",
       "    // We are in jupyterlab without require.js, directly loading jsroot\n",
       "    // Jupyterlab might be installed in a different base_url so we need to know it.\n",
       "    try {\n",
       "        var base_url = JSON.parse(document.getElementById('jupyter-config-data').innerHTML).baseUrl;\n",
       "    } catch(_) {\n",
       "        var base_url = '/';\n",
       "    }\n",
       "\n",
       "    // Try loading a local version of requirejs and fallback to cdn if not possible.\n",
       "    script_load_root_plot_1652068478786(base_url + 'static/scripts/JSRoot.core.js', function(){\n",
       "        console.error('Fail to load JSROOT locally, please check your jupyter_notebook_config.py file');\n",
       "        script_load_root_plot_1652068478786('https://root.cern/js/6.1.1/scripts/JSRoot.core.min.js', function(){\n",
       "            document.getElementById(\"root_plot_1652068478786\").innerHTML = \"Failed to load JSROOT\";\n",
       "        });\n",
       "    });\n",
       "}\n",
       "\n",
       "</script>\n"
      ],
      "text/plain": [
       "<IPython.core.display.HTML object>"
      ]
     },
     "metadata": {},
     "output_type": "display_data"
    }
   ],
   "source": [
    "cPull = ROOT.TCanvas()\n",
    "pullHist = xFrameCorr.pullHist()\n",
    "cPull.Draw()\n",
    "pullHist.Draw(\"ap\")"
   ]
  },
  {
   "cell_type": "markdown",
   "metadata": {},
   "source": [
    "# Create Hist"
   ]
  },
  {
   "cell_type": "code",
   "execution_count": 10,
   "metadata": {},
   "outputs": [
    {
     "name": "stdout",
     "output_type": "stream",
     "text": [
      "90.47605903177603\n",
      "4.026022242230577\n",
      "[#1] INFO:Caching -- RooAbsCachedPdf::getCache(sig) creating new cache 0x600003b62a30 with pdf kest_CONV_gauss_CACHE_Obs[z_mass_no_roccor]_NORM_z_mass_no_roccor for nset (z_mass_no_roccor) with code 0 from preexisting content.\n"
     ]
    },
    {
     "data": {
      "text/html": [
       "\n",
       "\n",
       "<div id=\"root_plot_1652068486520\"\n",
       "     style=\"width: 696px; height: 472px\">\n",
       "</div>\n",
       "<script>\n",
       "\n",
       "function display_root_plot_1652068486520(Core) {\n",
       "   let obj = Core.parse({\"_typename\":\"TCanvas\",\"fUniqueID\":0,\"fBits\":3342344,\"fLineColor\":1,\"fLineStyle\":1,\"fLineWidth\":1,\"fFillColor\":0,\"fFillStyle\":1001,\"fLeftMargin\":0.1,\"fRightMargin\":0.1,\"fBottomMargin\":0.1,\"fTopMargin\":0.1,\"fXfile\":2,\"fYfile\":2,\"fAfile\":1,\"fXstat\":0.99,\"fYstat\":0.99,\"fAstat\":2,\"fFrameFillColor\":0,\"fFrameLineColor\":1,\"fFrameFillStyle\":1001,\"fFrameLineStyle\":1,\"fFrameLineWidth\":1,\"fFrameBorderSize\":1,\"fFrameBorderMode\":0,\"fX1\":0,\"fY1\":0,\"fX2\":1,\"fY2\":1,\"fXtoAbsPixelk\":5e-5,\"fXtoPixelk\":5e-5,\"fXtoPixel\":696,\"fYtoAbsPixelk\":472.00005,\"fYtoPixelk\":472.00005,\"fYtoPixel\":-472,\"fUtoAbsPixelk\":5e-5,\"fUtoPixelk\":5e-5,\"fUtoPixel\":696,\"fVtoAbsPixelk\":472.00005,\"fVtoPixelk\":472,\"fVtoPixel\":-472,\"fAbsPixeltoXk\":0,\"fPixeltoXk\":0,\"fPixeltoX\":0.0014367816091954,\"fAbsPixeltoYk\":1,\"fPixeltoYk\":0,\"fPixeltoY\":-0.00211864406779661,\"fXlowNDC\":0,\"fYlowNDC\":0,\"fXUpNDC\":1,\"fYUpNDC\":1,\"fWNDC\":1,\"fHNDC\":1,\"fAbsXlowNDC\":0,\"fAbsYlowNDC\":0,\"fAbsWNDC\":1,\"fAbsHNDC\":1,\"fUxmin\":0,\"fUymin\":0,\"fUxmax\":1,\"fUymax\":1,\"fTheta\":30,\"fPhi\":30,\"fAspectRatio\":0,\"fNumber\":0,\"fTickx\":0,\"fTicky\":0,\"fLogx\":0,\"fLogy\":0,\"fLogz\":0,\"fPadPaint\":0,\"fCrosshair\":0,\"fCrosshairPos\":0,\"fBorderSize\":2,\"fBorderMode\":0,\"fModified\":true,\"fGridx\":false,\"fGridy\":false,\"fAbsCoord\":false,\"fEditable\":true,\"fFixedAspectRatio\":false,\"fPrimitives\":{\"_typename\":\"TList\",\"name\":\"TList\",\"arr\":[{\"_typename\":\"TH1F\",\"fUniqueID\":0,\"fBits\":8,\"fName\":\"hPdf__z_mass_no_roccor\",\"fTitle\":\"Histogram of hPdf__z_mass_no_roccor\",\"fLineColor\":602,\"fLineStyle\":1,\"fLineWidth\":1,\"fFillColor\":0,\"fFillStyle\":1001,\"fMarkerColor\":1,\"fMarkerStyle\":1,\"fMarkerSize\":1,\"fNcells\":102,\"fXaxis\":{\"_typename\":\"TAxis\",\"fUniqueID\":0,\"fBits\":0,\"fName\":\"xaxis\",\"fTitle\":\"z_mass_no_roccor\",\"fNdivisions\":510,\"fAxisColor\":1,\"fLabelColor\":1,\"fLabelFont\":42,\"fLabelOffset\":0.005,\"fLabelSize\":0.035,\"fTickLength\":0.03,\"fTitleOffset\":1,\"fTitleSize\":0.035,\"fTitleColor\":1,\"fTitleFont\":42,\"fNbins\":100,\"fXmin\":75,\"fXmax\":105,\"fXbins\":[],\"fFirst\":0,\"fLast\":0,\"fBits2\":0,\"fTimeDisplay\":false,\"fTimeFormat\":\"\",\"fLabels\":null,\"fModLabs\":null},\"fYaxis\":{\"_typename\":\"TAxis\",\"fUniqueID\":0,\"fBits\":0,\"fName\":\"yaxis\",\"fTitle\":\"Events \\/ ( 0.3 )\",\"fNdivisions\":510,\"fAxisColor\":1,\"fLabelColor\":1,\"fLabelFont\":42,\"fLabelOffset\":0.005,\"fLabelSize\":0.035,\"fTickLength\":0.03,\"fTitleOffset\":0,\"fTitleSize\":0.035,\"fTitleColor\":1,\"fTitleFont\":42,\"fNbins\":1,\"fXmin\":0,\"fXmax\":1,\"fXbins\":[],\"fFirst\":0,\"fLast\":0,\"fBits2\":0,\"fTimeDisplay\":false,\"fTimeFormat\":\"\",\"fLabels\":null,\"fModLabs\":null},\"fZaxis\":{\"_typename\":\"TAxis\",\"fUniqueID\":0,\"fBits\":0,\"fName\":\"zaxis\",\"fTitle\":\"\",\"fNdivisions\":510,\"fAxisColor\":1,\"fLabelColor\":1,\"fLabelFont\":42,\"fLabelOffset\":0.005,\"fLabelSize\":0.035,\"fTickLength\":0.03,\"fTitleOffset\":1,\"fTitleSize\":0.035,\"fTitleColor\":1,\"fTitleFont\":42,\"fNbins\":1,\"fXmin\":0,\"fXmax\":1,\"fXbins\":[],\"fFirst\":0,\"fLast\":0,\"fBits2\":0,\"fTimeDisplay\":false,\"fTimeFormat\":\"\",\"fLabels\":null,\"fModLabs\":null},\"fBarOffset\":0,\"fBarWidth\":1000,\"fEntries\":100,\"fTsumw\":0,\"fTsumw2\":0,\"fTsumwx\":0,\"fTsumwx2\":0,\"fMaximum\":-1111,\"fMinimum\":-1111,\"fNormFactor\":0,\"fContour\":[],\"fSumw2\":[],\"fOption\":\"\",\"fFunctions\":{\"_typename\":\"TList\",\"name\":\"TList\",\"arr\":[],\"opt\":[]},\"fBufferSize\":0,\"fBuffer\":[],\"fBinStatErrOpt\":0,\"fStatOverflows\":2,\"fArray\":{\"$arr\":\"Float32\",\"len\":102,\"p\":1,\"v\":[0.001085161,0.001101235,0.001131523,0.00117429,0.00122753,0.001289124,0.001356747,0.001427549,0.00149814,0.001565265,0.001626998,0.001683911,0.001739155,0.0017972,0.001861862,0.001934877,0.00201613,0.002105247,0.002203543,0.002315021,0.002445591,0.002600608,0.002782125,0.002987165,0.003209046,0.003442692,0.003687973,0.003944274,0.004203446,0.004456694,0.004709305,0.00498276,0.005310157,0.005734312,0.006279277,0.006913874,0.007607417,0.008421713,0.009408252,0.01049752,0.01172328,0.01329742,0.01528267,0.01760065,0.02029595,0.0234425,0.0272143,0.03134972,0.03543946,0.03960351,0.04414712,0.04779994,0.0500267,0.05123736,0.05056944,0.0474837,0.04389017,0.03949307,0.03414965,0.02958828,0.02534438,0.02119561,0.01785937,0.01523685,0.01307572,0.01116206,0.009413378,0.007925576,0.006762093,0.005871073,0.005168989,0.004596448,0.004117414,0.003712608,0.003370215,0.003076176,0.002814677,0.002574285,0.002350311,0.002143382,0.001956974,0.001794666,0.001657587,0.001543524,0.001447795,0.001364904,0.001290125,0.001220301,0.001153857,0.001090384,0.00103011,9.734464e-4,9.20729e-4,8.722129e-4,8.281899e-4,7.89126e-4,7.557818e-4,7.292075e-4,7.10554e-4,7.008138e-4]}},{\"_typename\":\"TStyle\",\"fUniqueID\":0,\"fBits\":0,\"fName\":\"Modern\",\"fTitle\":\"Modern Style\",\"fLineColor\":1,\"fLineStyle\":1,\"fLineWidth\":1,\"fFillColor\":19,\"fFillStyle\":1001,\"fMarkerColor\":1,\"fMarkerStyle\":1,\"fMarkerSize\":1,\"fTextAngle\":0,\"fTextSize\":0.05,\"fTextAlign\":11,\"fTextColor\":1,\"fTextFont\":62,\"fXaxis\":{\"_typename\":\"TAttAxis\",\"fNdivisions\":510,\"fAxisColor\":1,\"fLabelColor\":1,\"fLabelFont\":42,\"fLabelOffset\":0.005,\"fLabelSize\":0.035,\"fTickLength\":0.03,\"fTitleOffset\":1,\"fTitleSize\":0.035,\"fTitleColor\":1,\"fTitleFont\":42},\"fYaxis\":{\"_typename\":\"TAttAxis\",\"fNdivisions\":510,\"fAxisColor\":1,\"fLabelColor\":1,\"fLabelFont\":42,\"fLabelOffset\":0.005,\"fLabelSize\":0.035,\"fTickLength\":0.03,\"fTitleOffset\":0,\"fTitleSize\":0.035,\"fTitleColor\":1,\"fTitleFont\":42},\"fZaxis\":{\"_typename\":\"TAttAxis\",\"fNdivisions\":510,\"fAxisColor\":1,\"fLabelColor\":1,\"fLabelFont\":42,\"fLabelOffset\":0.005,\"fLabelSize\":0.035,\"fTickLength\":0.03,\"fTitleOffset\":1,\"fTitleSize\":0.035,\"fTitleColor\":1,\"fTitleFont\":42},\"fBarWidth\":1,\"fBarOffset\":0,\"fColorModelPS\":0,\"fDrawBorder\":0,\"fOptLogx\":0,\"fOptLogy\":0,\"fOptLogz\":0,\"fOptDate\":0,\"fOptStat\":1111,\"fOptTitle\":1,\"fOptFile\":0,\"fOptFit\":0,\"fShowEventStatus\":0,\"fShowEditor\":0,\"fShowToolBar\":0,\"fNumberContours\":20,\"fAttDate\":{\"_typename\":\"TAttText\",\"fTextAngle\":0,\"fTextSize\":0.025,\"fTextAlign\":11,\"fTextColor\":1,\"fTextFont\":62},\"fDateX\":0.01,\"fDateY\":0.01,\"fEndErrorSize\":2,\"fErrorX\":0.5,\"fFuncColor\":2,\"fFuncStyle\":1,\"fFuncWidth\":2,\"fGridColor\":0,\"fGridStyle\":3,\"fGridWidth\":1,\"fLegendBorderSize\":1,\"fLegendFillColor\":0,\"fLegendFont\":42,\"fLegendTextSize\":0,\"fHatchesLineWidth\":1,\"fHatchesSpacing\":1,\"fFrameFillColor\":0,\"fFrameLineColor\":1,\"fFrameFillStyle\":1001,\"fFrameLineStyle\":1,\"fFrameLineWidth\":1,\"fFrameBorderSize\":1,\"fFrameBorderMode\":0,\"fHistFillColor\":0,\"fHistLineColor\":602,\"fHistFillStyle\":1001,\"fHistLineStyle\":1,\"fHistLineWidth\":1,\"fHistMinimumZero\":false,\"fHistTopMargin\":0.05,\"fCanvasPreferGL\":false,\"fCanvasColor\":0,\"fCanvasBorderSize\":2,\"fCanvasBorderMode\":0,\"fCanvasDefH\":500,\"fCanvasDefW\":700,\"fCanvasDefX\":10,\"fCanvasDefY\":10,\"fPadColor\":0,\"fPadBorderSize\":2,\"fPadBorderMode\":0,\"fPadBottomMargin\":0.1,\"fPadTopMargin\":0.1,\"fPadLeftMargin\":0.1,\"fPadRightMargin\":0.1,\"fPadGridX\":false,\"fPadGridY\":false,\"fPadTickX\":0,\"fPadTickY\":0,\"fPaperSizeX\":20,\"fPaperSizeY\":26,\"fScreenFactor\":1,\"fStatColor\":0,\"fStatTextColor\":1,\"fStatBorderSize\":1,\"fStatFont\":42,\"fStatFontSize\":0,\"fStatStyle\":1001,\"fStatFormat\":\"6.4g\",\"fStatX\":0.98,\"fStatY\":0.935,\"fStatW\":0.2,\"fStatH\":0.16,\"fStripDecimals\":true,\"fTitleAlign\":23,\"fTitleColor\":0,\"fTitleTextColor\":1,\"fTitleBorderSize\":0,\"fTitleFont\":42,\"fTitleFontSize\":0.05,\"fTitleStyle\":0,\"fTitleX\":0.5,\"fTitleY\":0.995,\"fTitleW\":0,\"fTitleH\":0,\"fLegoInnerR\":0.5,\"fLineStyles\":[\"\",\"  \",\" 12 12\",\" 4 8\",\" 12 16 4 16\",\" 20 12 4 12\",\" 20 12 4 12 4 12 4 12\",\" 20 20\",\" 20 12 4 12 4 12\",\" 80 20\",\" 80 40 4 40\",\"  \",\"  \",\"  \",\"  \",\"  \",\"  \",\"  \",\"  \",\"  \",\"  \",\"  \",\"  \",\"  \",\"  \",\"  \",\"  \",\"  \",\"  \",\"  \"],\"fHeaderPS\":\"\",\"fTitlePS\":\"\",\"fFitFormat\":\"5.4g\",\"fPaintTextFormat\":\"g\",\"fLineScalePS\":3,\"fJoinLinePS\":0,\"fCapLinePS\":0,\"fTimeOffset\":788918400,\"fImageScaling\":1}],\"opt\":[\"\",\"\"]},\"fExecs\":null,\"fName\":\"c1_n3\",\"fTitle\":\"c1_n3\",\"fNumPaletteColor\":0,\"fNextPaletteColor\":0,\"fDISPLAY\":\"$DISPLAY\",\"fDoubleBuffer\":0,\"fRetained\":true,\"fXsizeUser\":0,\"fYsizeUser\":0,\"fXsizeReal\":20,\"fYsizeReal\":14.28571,\"fWindowTopX\":0,\"fWindowTopY\":0,\"fWindowWidth\":0,\"fWindowHeight\":0,\"fCw\":696,\"fCh\":472,\"fCatt\":{\"_typename\":\"TAttCanvas\",\"fXBetween\":2,\"fYBetween\":2,\"fTitleFromTop\":1.2,\"fXdate\":0.2,\"fYdate\":0.3,\"fAdate\":1},\"kMoveOpaque\":true,\"kResizeOpaque\":true,\"fHighLightColor\":2,\"fBatch\":true,\"kShowEventStatus\":false,\"kAutoExec\":true,\"kMenuBar\":true});\n",
       "   Core.settings.HandleKeys = false;\n",
       "   Core.draw(\"root_plot_1652068486520\", obj, \"\");\n",
       "}\n",
       "\n",
       "function script_load_root_plot_1652068486520(src, on_error) {\n",
       "    let script = document.createElement('script');\n",
       "    script.src = src;\n",
       "    script.onload = function() { display_root_plot_1652068486520(JSROOT); };\n",
       "    script.onerror = function() { script.remove(); on_error(); };\n",
       "    document.head.appendChild(script);\n",
       "}\n",
       "\n",
       "if (typeof requirejs !== 'undefined') {\n",
       "\n",
       "    // We are in jupyter notebooks, use require.js which should be configured already\n",
       "    requirejs.config({\n",
       "       paths: { 'JSRootCore' : [ 'scripts/JSRoot.core', 'https://root.cern/js/6.1.1/scripts/JSRoot.core.min', 'https://jsroot.gsi.de/6.1.1/scripts/JSRoot.core.min' ] }\n",
       "    })(['JSRootCore'],  function(Core) {\n",
       "       display_root_plot_1652068486520(Core);\n",
       "    });\n",
       "\n",
       "} else if (typeof JSROOT !== 'undefined') {\n",
       "\n",
       "   // JSROOT already loaded, just use it\n",
       "   display_root_plot_1652068486520(JSROOT);\n",
       "\n",
       "} else {\n",
       "\n",
       "    // We are in jupyterlab without require.js, directly loading jsroot\n",
       "    // Jupyterlab might be installed in a different base_url so we need to know it.\n",
       "    try {\n",
       "        var base_url = JSON.parse(document.getElementById('jupyter-config-data').innerHTML).baseUrl;\n",
       "    } catch(_) {\n",
       "        var base_url = '/';\n",
       "    }\n",
       "\n",
       "    // Try loading a local version of requirejs and fallback to cdn if not possible.\n",
       "    script_load_root_plot_1652068486520(base_url + 'static/scripts/JSRoot.core.js', function(){\n",
       "        console.error('Fail to load JSROOT locally, please check your jupyter_notebook_config.py file');\n",
       "        script_load_root_plot_1652068486520('https://root.cern/js/6.1.1/scripts/JSRoot.core.min.js', function(){\n",
       "            document.getElementById(\"root_plot_1652068486520\").innerHTML = \"Failed to load JSROOT\";\n",
       "        });\n",
       "    });\n",
       "}\n",
       "\n",
       "</script>\n"
      ],
      "text/plain": [
       "<IPython.core.display.HTML object>"
      ]
     },
     "metadata": {},
     "output_type": "display_data"
    }
   ],
   "source": [
    "hPdf = sig.createHistogram(\"hPdf\", zM, ROOT.RooFit.Binning(100, 75, 105))\n",
    "cHist = ROOT.TCanvas()\n",
    "cHist.Draw()\n",
    "hPdf.Draw()\n",
    "print(hPdf.GetMean())\n",
    "print(hPdf.GetMeanError())"
   ]
  },
  {
   "cell_type": "code",
   "execution_count": 54,
   "metadata": {},
   "outputs": [
    {
     "name": "stdout",
     "output_type": "stream",
     "text": [
      "0x115047000 RooFFTConvPdf::sig = [#1] INFO:Caching -- RooAbsCachedPdf::getCache(sig) creating new cache 0x600000dfc000 with pdf kest_CONV_gauss_CACHE_Obs[z_mass] for nset () with code 0 from preexisting content.\n",
      "[#1] INFO:Caching -- RooAbsCachedPdf::getCache(sig) creating new cache 0x600000dfc1e0 with pdf kest_CONV_gauss_CACHE_Obs[z_mass]_NORM_z_mass for nset (z_mass) with code 1 from preexisting content.\n",
      "0.138655 [Auto,Dirty] \n",
      "--- RooAbsCachedPdf begin cache ---\n",
      "[0] Configuration for observables ()\n",
      "[0]0x10503c800 RooHistPdf::kest_CONV_gauss_CACHE_Obs[z_mass] = 136443 [Auto,Dirty] \n",
      "[0]  0x156a386f0/V- RooRealVar::z_mass = 90\n",
      "[0]  0x11482f5b0/V- RooRealVar::mass = 0.00114329 +/- 0.00452108\n",
      "[0]  0x11482f930/V- RooRealVar::sigma = 0.05 +/- 0.00785207\n",
      "[1] Configuration for observables (z_mass)\n",
      "[1]0x105058000 RooHistPdf::kest_CONV_gauss_CACHE_Obs[z_mass]_NORM_z_mass = 136443/984050 [Auto,Clean] \n",
      "[1]  0x156a386f0/V- RooRealVar::z_mass = 90\n",
      "[1]  0x11482f5b0/V- RooRealVar::mass = 0.00114329 +/- 0.00452108\n",
      "[1]  0x11482f930/V- RooRealVar::sigma = 0.05 +/- 0.00785207\n",
      "--- RooAbsCachedPdf end cache --- \n",
      "  0x156a386f0/V- RooRealVar::z_mass = 90\n",
      "  0x1588c3a00/-- RooKeysPdf::kest = 0.0460712 [Auto,Dirty] \n",
      "    0x156a386f0/V- RooRealVar::z_mass = 90\n",
      "  0x11501aa00/-- RooGaussian::gauss = 0 [Auto,Dirty] \n",
      "    0x156a386f0/V- RooRealVar::z_mass = 90\n",
      "    0x11482f5b0/V- RooRealVar::mass = 0.00114329 +/- 0.00452108\n",
      "    0x11482f930/V- RooRealVar::sigma = 0.05 +/- 0.00785207\n",
      "  0x11482f5b0/V- RooRealVar::mass = 0.00114329 +/- 0.00452108\n",
      "  0x11482f930/V- RooRealVar::sigma = 0.05 +/- 0.00785207\n"
     ]
    }
   ],
   "source": [
    "sig.Print(\"t\")"
   ]
  },
  {
   "cell_type": "code",
   "execution_count": 100,
   "metadata": {},
   "outputs": [
    {
     "name": "stderr",
     "output_type": "stream",
     "text": [
      "Warning in <TCanvas::Constructor>: Deleting canvas with same name: cComp\n"
     ]
    },
    {
     "data": {
      "text/html": [
       "\n",
       "\n",
       "<div id=\"root_plot_1652085222517\"\n",
       "     style=\"width: 796px; height: 572px\">\n",
       "</div>\n",
       "<script>\n",
       "\n",
       "function display_root_plot_1652085222517(Core) {\n",
       "   let obj = Core.parse({\"_typename\":\"TCanvas\",\"fUniqueID\":0,\"fBits\":3342344,\"fLineColor\":1,\"fLineStyle\":1,\"fLineWidth\":1,\"fFillColor\":0,\"fFillStyle\":1001,\"fLeftMargin\":0.1,\"fRightMargin\":0.1,\"fBottomMargin\":0.1,\"fTopMargin\":0.1,\"fXfile\":2,\"fYfile\":2,\"fAfile\":1,\"fXstat\":0.99,\"fYstat\":0.99,\"fAstat\":2,\"fFrameFillColor\":0,\"fFrameLineColor\":1,\"fFrameFillStyle\":1001,\"fFrameLineStyle\":1,\"fFrameLineWidth\":1,\"fFrameBorderSize\":1,\"fFrameBorderMode\":0,\"fX1\":0,\"fY1\":0,\"fX2\":1,\"fY2\":1,\"fXtoAbsPixelk\":5e-5,\"fXtoPixelk\":5e-5,\"fXtoPixel\":796,\"fYtoAbsPixelk\":572.00005,\"fYtoPixelk\":572.00005,\"fYtoPixel\":-572,\"fUtoAbsPixelk\":5e-5,\"fUtoPixelk\":5e-5,\"fUtoPixel\":796,\"fVtoAbsPixelk\":572.00005,\"fVtoPixelk\":572,\"fVtoPixel\":-572,\"fAbsPixeltoXk\":0,\"fPixeltoXk\":0,\"fPixeltoX\":0.00125628140703518,\"fAbsPixeltoYk\":1,\"fPixeltoYk\":0,\"fPixeltoY\":-0.00174825174825175,\"fXlowNDC\":0,\"fYlowNDC\":0,\"fXUpNDC\":1,\"fYUpNDC\":1,\"fWNDC\":1,\"fHNDC\":1,\"fAbsXlowNDC\":0,\"fAbsYlowNDC\":0,\"fAbsWNDC\":1,\"fAbsHNDC\":1,\"fUxmin\":0,\"fUymin\":0,\"fUxmax\":1,\"fUymax\":1,\"fTheta\":30,\"fPhi\":30,\"fAspectRatio\":0,\"fNumber\":0,\"fTickx\":0,\"fTicky\":0,\"fLogx\":0,\"fLogy\":0,\"fLogz\":0,\"fPadPaint\":0,\"fCrosshair\":0,\"fCrosshairPos\":0,\"fBorderSize\":2,\"fBorderMode\":0,\"fModified\":false,\"fGridx\":false,\"fGridy\":false,\"fAbsCoord\":false,\"fEditable\":true,\"fFixedAspectRatio\":false,\"fPrimitives\":{\"_typename\":\"TList\",\"name\":\"TList\",\"arr\":[{\"_typename\":\"TPad\",\"fUniqueID\":0,\"fBits\":9,\"fLineColor\":1,\"fLineStyle\":1,\"fLineWidth\":1,\"fFillColor\":0,\"fFillStyle\":1001,\"fLeftMargin\":0.1,\"fRightMargin\":0.1,\"fBottomMargin\":0,\"fTopMargin\":0.1,\"fXfile\":2,\"fYfile\":2,\"fAfile\":1,\"fXstat\":0.99,\"fYstat\":0.99,\"fAstat\":2,\"fFrameFillColor\":0,\"fFrameLineColor\":1,\"fFrameFillStyle\":1001,\"fFrameLineStyle\":1,\"fFrameLineWidth\":1,\"fFrameBorderSize\":1,\"fFrameBorderMode\":0,\"fX1\":70.62499971129,\"fY1\":0,\"fX2\":109.37500028871,\"fY2\":14640.5262164161,\"fXtoAbsPixelk\":-1450.7741159995,\"fXtoPixelk\":-1450.7741159995,\"fXtoPixel\":20.5419351777723,\"fYtoAbsPixelk\":400.40005,\"fYtoPixelk\":400.40005,\"fYtoPixel\":-0.0273487437597045,\"fUtoAbsPixelk\":5e-5,\"fUtoPixelk\":5e-5,\"fUtoPixel\":796,\"fVtoAbsPixelk\":400.40005,\"fVtoPixelk\":400.4,\"fVtoPixel\":-400.4,\"fAbsPixeltoXk\":70.62499971129,\"fPixeltoXk\":70.62499971129,\"fPixeltoX\":0.0486809052480151,\"fAbsPixeltoYk\":14640.5262164161,\"fPixeltoYk\":0,\"fPixeltoY\":-36.56475079025,\"fXlowNDC\":0,\"fYlowNDC\":0.3,\"fXUpNDC\":1,\"fYUpNDC\":1,\"fWNDC\":1,\"fHNDC\":0.7,\"fAbsXlowNDC\":0,\"fAbsYlowNDC\":0.3,\"fAbsWNDC\":1,\"fAbsHNDC\":0.7,\"fUxmin\":74.5,\"fUymin\":0,\"fUxmax\":105.5,\"fUymax\":13176.4735402343,\"fTheta\":30,\"fPhi\":30,\"fAspectRatio\":0,\"fNumber\":0,\"fTickx\":0,\"fTicky\":0,\"fLogx\":0,\"fLogy\":0,\"fLogz\":0,\"fPadPaint\":0,\"fCrosshair\":0,\"fCrosshairPos\":0,\"fBorderSize\":2,\"fBorderMode\":0,\"fModified\":false,\"fGridx\":false,\"fGridy\":false,\"fAbsCoord\":false,\"fEditable\":true,\"fFixedAspectRatio\":false,\"fPrimitives\":{\"_typename\":\"TList\",\"name\":\"TList\",\"arr\":[{\"_typename\":\"TFrame\",\"fUniqueID\":0,\"fBits\":8,\"fLineColor\":1,\"fLineStyle\":1,\"fLineWidth\":1,\"fFillColor\":0,\"fFillStyle\":1001,\"fX1\":74.5,\"fY1\":0,\"fX2\":105.5,\"fY2\":13176.4735402343,\"fBorderSize\":1,\"fBorderMode\":0},{\"_typename\":\"TH1D\",\"fUniqueID\":0,\"fBits\":520,\"fName\":\"frame_14cb5f930\",\"fTitle\":\"\",\"fLineColor\":602,\"fLineStyle\":1,\"fLineWidth\":1,\"fFillColor\":0,\"fFillStyle\":1001,\"fMarkerColor\":1,\"fMarkerStyle\":24,\"fMarkerSize\":1,\"fNcells\":102,\"fXaxis\":{\"_typename\":\"TAxis\",\"fUniqueID\":0,\"fBits\":0,\"fName\":\"xaxis\",\"fTitle\":\"z_mass_no_roccor\",\"fNdivisions\":510,\"fAxisColor\":1,\"fLabelColor\":1,\"fLabelFont\":42,\"fLabelOffset\":0.005,\"fLabelSize\":0.035,\"fTickLength\":0.03,\"fTitleOffset\":1,\"fTitleSize\":0.035,\"fTitleColor\":1,\"fTitleFont\":42,\"fNbins\":100,\"fXmin\":74.5,\"fXmax\":105.5,\"fXbins\":[],\"fFirst\":0,\"fLast\":0,\"fBits2\":0,\"fTimeDisplay\":false,\"fTimeFormat\":\"\",\"fLabels\":null,\"fModLabs\":null},\"fYaxis\":{\"_typename\":\"TAxis\",\"fUniqueID\":0,\"fBits\":0,\"fName\":\"yaxis\",\"fTitle\":\"A.U. \\/ 0.3 GeV\",\"fNdivisions\":510,\"fAxisColor\":1,\"fLabelColor\":1,\"fLabelFont\":42,\"fLabelOffset\":0.005,\"fLabelSize\":0.05,\"fTickLength\":0.03,\"fTitleOffset\":1,\"fTitleSize\":0.05,\"fTitleColor\":1,\"fTitleFont\":42,\"fNbins\":1,\"fXmin\":0,\"fXmax\":1,\"fXbins\":[],\"fFirst\":0,\"fLast\":0,\"fBits2\":0,\"fTimeDisplay\":false,\"fTimeFormat\":\"\",\"fLabels\":null,\"fModLabs\":null},\"fZaxis\":{\"_typename\":\"TAxis\",\"fUniqueID\":0,\"fBits\":0,\"fName\":\"zaxis\",\"fTitle\":\"\",\"fNdivisions\":510,\"fAxisColor\":1,\"fLabelColor\":1,\"fLabelFont\":42,\"fLabelOffset\":0.005,\"fLabelSize\":0.035,\"fTickLength\":0.03,\"fTitleOffset\":1,\"fTitleSize\":0.035,\"fTitleColor\":1,\"fTitleFont\":42,\"fNbins\":1,\"fXmin\":0,\"fXmax\":1,\"fXbins\":[],\"fFirst\":0,\"fLast\":0,\"fBits2\":0,\"fTimeDisplay\":false,\"fTimeFormat\":\"\",\"fLabels\":null,\"fModLabs\":null},\"fBarOffset\":0,\"fBarWidth\":1000,\"fEntries\":1,\"fTsumw\":0,\"fTsumw2\":0,\"fTsumwx\":0,\"fTsumwx2\":0,\"fMaximum\":13176.4735402343,\"fMinimum\":-1111,\"fNormFactor\":0,\"fContour\":[],\"fSumw2\":[],\"fOption\":\"\",\"fFunctions\":{\"_typename\":\"TList\",\"name\":\"TList\",\"arr\":[],\"opt\":[]},\"fBufferSize\":0,\"fBuffer\":[],\"fBinStatErrOpt\":0,\"fStatOverflows\":2,\"fArray\":{\"$arr\":\"Float64\",\"len\":102,\"p\":1,\"v\":13176.4735402343}},{\"_typename\":\"RooHist\",\"fUniqueID\":0,\"fBits\":1032,\"fName\":\"h_ds\",\"fTitle\":\"Histogram of ds_plot__z_mass_no_roccor\",\"fLineColor\":1,\"fLineStyle\":1,\"fLineWidth\":1,\"fFillColor\":0,\"fFillStyle\":1000,\"fMarkerColor\":1,\"fMarkerStyle\":8,\"fMarkerSize\":1,\"fNpoints\":100,\"fX\":{\"$arr\":\"Float64\",\"len\":100,\"v\":[75.15,75.45,75.75,76.05,76.35,76.65,76.95,77.25,77.55,77.85,78.15,78.45,78.75,79.05,79.35,79.65,79.95,80.25,80.55,80.85,81.15,81.45,81.75,82.05,82.35,82.65,82.95,83.25,83.55,83.85,84.15,84.45,84.75,85.05,85.35,85.65,85.95,86.25,86.55,86.85,87.15,87.45,87.75,88.05,88.35,88.65,88.95,89.25,89.55,89.85,90.15,90.45,90.75,91.05,91.35,91.65,91.95,92.25,92.55,92.85,93.15,93.45,93.75,94.05,94.35,94.65,94.95,95.25,95.55,95.85,96.15,96.45,96.75,97.05,97.35,97.65,97.95,98.25,98.55,98.85,99.15,99.45,99.75,100.05,100.35,100.65,100.95,101.25,101.55,101.85,102.15,102.45,102.75,103.05,103.35,103.65,103.95,104.25,104.55,104.85]},\"fY\":{\"$arr\":\"Float64\",\"len\":100,\"v\":[234,265,279,282,319,292,338,316,404,355,390,451,407,403,428,491,484,512,535,553,576,624,661,727,761,859,895,899,1036,1125,1079,1226,1270,1361,1511,1683,1846,1983,2277,2573,2776,3250,3644,4255,4891,5584,6595,7576,8552,9532,10683,11444,12019,12437,12239,11386,10554,9609,8100,7182,6130,5071,4323,3622,3186,2717,2252,1891,1638,1413,1227,1120,1011,865,834,742,672,623,594,503,467,431,392,352,359,354,288,290,305,270,241,211,239,215,193,217,181,182,159,143]},\"fFunctions\":{\"_typename\":\"TList\",\"name\":\"TList\",\"arr\":[],\"opt\":[]},\"fHistogram\":{\"_typename\":\"TH1F\",\"fUniqueID\":0,\"fBits\":512,\"fName\":\"h_ds\",\"fTitle\":\"Histogram of ds_plot__z_mass_no_roccor\",\"fLineColor\":602,\"fLineStyle\":1,\"fLineWidth\":1,\"fFillColor\":0,\"fFillStyle\":1001,\"fMarkerColor\":1,\"fMarkerStyle\":1,\"fMarkerSize\":1,\"fNcells\":102,\"fXaxis\":{\"_typename\":\"TAxis\",\"fUniqueID\":0,\"fBits\":0,\"fName\":\"xaxis\",\"fTitle\":\"\",\"fNdivisions\":510,\"fAxisColor\":1,\"fLabelColor\":1,\"fLabelFont\":42,\"fLabelOffset\":0.005,\"fLabelSize\":0.035,\"fTickLength\":0.03,\"fTitleOffset\":1,\"fTitleSize\":0.035,\"fTitleColor\":1,\"fTitleFont\":42,\"fNbins\":100,\"fXmin\":72,\"fXmax\":108,\"fXbins\":[],\"fFirst\":0,\"fLast\":0,\"fBits2\":0,\"fTimeDisplay\":false,\"fTimeFormat\":\"\",\"fLabels\":null,\"fModLabs\":null},\"fYaxis\":{\"_typename\":\"TAxis\",\"fUniqueID\":0,\"fBits\":0,\"fName\":\"yaxis\",\"fTitle\":\"\",\"fNdivisions\":510,\"fAxisColor\":1,\"fLabelColor\":1,\"fLabelFont\":42,\"fLabelOffset\":0.005,\"fLabelSize\":0.035,\"fTickLength\":0.03,\"fTitleOffset\":0,\"fTitleSize\":0.035,\"fTitleColor\":1,\"fTitleFont\":42,\"fNbins\":1,\"fXmin\":118.378161716773,\"fXmax\":13790.7715321182,\"fXbins\":[],\"fFirst\":0,\"fLast\":0,\"fBits2\":0,\"fTimeDisplay\":false,\"fTimeFormat\":\"\",\"fLabels\":null,\"fModLabs\":null},\"fZaxis\":{\"_typename\":\"TAxis\",\"fUniqueID\":0,\"fBits\":0,\"fName\":\"zaxis\",\"fTitle\":\"\",\"fNdivisions\":510,\"fAxisColor\":1,\"fLabelColor\":1,\"fLabelFont\":42,\"fLabelOffset\":0.005,\"fLabelSize\":0.035,\"fTickLength\":0.03,\"fTitleOffset\":1,\"fTitleSize\":0.035,\"fTitleColor\":1,\"fTitleFont\":42,\"fNbins\":1,\"fXmin\":0,\"fXmax\":1,\"fXbins\":[],\"fFirst\":0,\"fLast\":0,\"fBits2\":0,\"fTimeDisplay\":false,\"fTimeFormat\":\"\",\"fLabels\":null,\"fModLabs\":null},\"fBarOffset\":0,\"fBarWidth\":1000,\"fEntries\":0,\"fTsumw\":0,\"fTsumw2\":0,\"fTsumwx\":0,\"fTsumwx2\":0,\"fMaximum\":13790.7715321182,\"fMinimum\":118.378161716773,\"fNormFactor\":0,\"fContour\":[],\"fSumw2\":[],\"fOption\":\"\",\"fFunctions\":{\"_typename\":\"TList\",\"name\":\"TList\",\"arr\":[],\"opt\":[]},\"fBufferSize\":0,\"fBuffer\":[],\"fBinStatErrOpt\":0,\"fStatOverflows\":2,\"fArray\":{\"$arr\":\"Float32\",\"len\":102}},\"fMinimum\":-1111,\"fMaximum\":-1111,\"fEXlow\":{\"$arr\":\"Float64\",\"len\":100,\"v\":0.15,\"n\":100},\"fEXhigh\":{\"$arr\":\"Float64\",\"len\":100,\"v\":0.15,\"n\":100},\"fEYlow\":{\"$arr\":\"Float64\",\"len\":100,\"v\":[14.805227865014,15.7864974749023,16.2107749670684,16.3002976164115,17.3675683852056,16.5953209972787,17.8915741577495,17.2834192437787,19.6059692628831,18.3480768249707,19.2547462651384,20.742645786248,19.6804360706105,19.5810856280232,20.1942020865749,21.6641602593015,21.5056810846654,22.1329405955125,22.6354706025186,23.0212669726782,23.5052077683156,24.484995497298,25.2147817412476,26.4675731203236,27.0907593226428,28.8129664141998,29.4207286007544,29.4874973947477,31.6908372056397,33.0447462354391,32.3519405819504,34.5178525897863,35.1405667743934,36.3951216287464,38.3747990348504,40.5274298488218,42.4680113572877,44.0336951083109,47.2205406507514,50.2272116324166,52.1901319034218,56.5109638578406,59.8676237730128,64.7322772866319,69.437472073274,74.2278395245039,80.7111445554119,86.541656693792,91.9783758507892,97.133242289703,102.859808436355,106.477801435625,109.132340119146,111.022419270746,110.131143897186,106.206372818122,102.233879514015,97.5267820547015,89.5013888781723,84.248156322129,77.7959130478721,70.7127095398009,65.2514258400533,59.6851310541069,55.9468776815866,51.6272481529572,46.9578760586692,42.9885042281292,39.9753011106773,37.0932174733689,34.5321281112067,32.9701359423591,31.3001572323157,28.9151321601655,28.3833862280724,26.7442654516506,25.4277843249283,24.4649754656399,23.8772434864978,21.9332342741745,21.1159663212173,20.2665596572952,19.3053023203383,18.2683243791234,18.4538914210249,18.3215302247187,16.4779268463496,16.5367250374008,16.9714052096562,15.9392822227736,15.0322245670091,14.0344418537486,14.967708298258,14.1714007511212,13.4014387744579,14.2394029729837,12.9629120178363,13,12.119429464124,11.4687092035858]},\"fEYhigh\":{\"$arr\":\"Float64\",\"len\":100,\"v\":[15.805227865014,16.7864974749023,17.2107749670684,17.3002976164115,18.3675683852056,17.5953209972787,18.8915741577495,18.2834192437787,20.6059692628831,19.3480768249707,20.2547462651384,21.742645786248,20.6804360706105,20.5810856280232,21.1942020865749,22.6641602593015,22.5056810846654,23.1329405955125,23.6354706025186,24.0212669726782,24.5052077683156,25.484995497298,26.2147817412476,27.4675731203236,28.0907593226428,29.8129664141998,30.4207286007544,30.4874973947477,32.6908372056398,34.0447462354391,33.3519405819504,35.5178525897863,36.1405667743934,37.3951216287464,39.3747990348504,41.5274298488218,43.4680113572877,45.0336951083109,48.2205406507514,51.2272116324166,53.1901319034218,57.5109638578406,60.8676237730128,65.7322772866319,70.437472073274,75.2278395245039,81.7111445554119,87.541656693792,92.9783758507892,98.133242289703,103.859808436355,107.477801435625,110.132340119146,112.022419270746,111.131143897186,107.206372818122,103.233879514015,98.5267820547015,90.5013888781723,85.248156322129,78.7959130478721,71.7127095398009,66.2514258400533,60.6851310541069,56.9468776815866,52.6272481529572,47.9578760586692,43.9885042281292,40.9753011106773,38.0932174733689,35.5321281112067,33.9701359423591,32.3001572323158,29.9151321601655,29.3833862280724,27.7442654516506,26.4277843249283,25.4649754656399,24.8772434864978,22.9332342741745,22.1159663212173,21.2665596572952,20.3053023203383,19.2683243791234,19.4538914210249,19.3215302247187,17.4779268463496,17.5367250374008,17.9714052096562,16.9392822227736,16.0322245670091,15.0344418537486,15.967708298258,15.1714007511212,14.4014387744579,15.2394029729837,13.9629120178363,14,13.119429464124,12.4687092035858]},\"_yAxisLabel\":\"Events \\/ ( 0.3 )\",\"_ymin\":0,\"_ymax\":12549.0224192707,\"_normValue\":0,\"_nominalBinWidth\":0.3,\"_nSigma\":1,\"_entries\":240941,\"_rawEntries\":-1},{\"_typename\":\"RooCurve\",\"fUniqueID\":0,\"fBits\":525320,\"fName\":\"sig_Norm[z_mass_no_roccor]\",\"fTitle\":\"Projection of sig\",\"fLineColor\":600,\"fLineStyle\":1,\"fLineWidth\":3,\"fFillColor\":0,\"fFillStyle\":1000,\"fMarkerColor\":1,\"fMarkerStyle\":1,\"fMarkerSize\":1,\"fNpoints\":126,\"fX\":{\"$arr\":\"Float64\",\"len\":126,\"v\":[74.6997,74.7,75,75.3,75.6,75.9,76.2,76.5,76.8,77.1,77.4,77.7,78,78.3,78.6,78.9,79.2,79.5,79.8,80.1,80.4,80.7,81,81.3,81.6,81.9,82.2,82.5,82.8,83.1,83.4,83.7,84,84.3,84.6,84.9,85.2,85.5,85.8,86.1,86.4,86.7,87,87.3,87.45,87.6,87.9,88.2,88.35,88.5,88.65,88.8,89.1,89.4,89.7,89.85,90,90.15,90.3,90.45,90.525,90.6,90.675,90.75,90.9,91.05,91.125,91.2,91.275,91.35,91.425,91.5,91.8,91.95,92.1,92.25,92.4,92.55,92.7,93,93.3,93.45,93.6,93.75,93.9,94.05,94.2,94.5,94.8,95.1,95.4,95.7,96,96.3,96.6,96.9,97.2,97.5,97.8,98.1,98.4,98.7,99,99.3,99.6,99.9,100.2,100.5,100.8,101.1,101.4,101.7,102,102.3,102.6,102.9,103.2,103.5,103.8,104.1,104.4,104.7,105,105,105.3,105.3003]},\"fY\":{\"$arr\":\"Float64\",\"len\":126,\"p\":1,\"v\":[260.892433706589,260.892433706589,262.946519869175,268.574968558048,277.43757990407,289.065025953871,302.962633079529,318.607541015228,335.379074907457,352.518773578374,369.194653148361,384.742495027438,398.97764097415,412.363365338813,425.876223952469,440.570132719659,457.13686335866,475.742873291263,496.262123453984,518.758523124603,543.874768973472,572.84853933968,607.120098677829,647.678879933071,694.415137327959,746.053779549964,801.009711432962,858.663987859018,919.205995135775,981.649175322545,1043.4961286723,1104.00033735945,1166.54180821798,1237.75934702195,1327.01208920129,1443.77559866079,1587.52323476894,1747.2289852015,1925.9030826161,2143.440617988,2395.95965389545,2669.81443830722,3001.18156635875,3203.89265237828,3432.16888372934,3951.42591185661,4553.15957814831,4890.12750103249,5252.72484896974,5648.26073161785,6084.70503769045,7051.08451533522,8052.01691209156,9025.17343006609,9542.11019055266,10096.3274055381,10636.8506515771,11109.8518916284,11516.9657002205,11693.3837901069,11842.5672761131,11960.6816239172,12053.4827660299,12211.9283913991,12345.1813419517,12372.6452846899,12357.5397813906,12294.5875752874,12184.2525156017,12032.7723779261,11850.5245015067,11017.6811813033,10574.9409192485,10081.6477238849,9515.49944624094,8877.26319448325,8228.0503419411,7644.80379527164,6626.24280975956,5588.72292411231,5106.89083122356,4679.02949544804,4303.05511765158,3969.81325266353,3671.18083687431,3400.26915372524,2915.10423160005,2472.75532201961,2079.29741226549,1760.01539388087,1515.03297296506,1325.35229032998,1173.21565967838,1047.31162081631,941.224816616077,851.586002861063,775.392673550829,708.89882768044,648.684127142928,592.789818080614,540.796672236119,493.293175741637,451.204088352548,415.14668902222,385.006149797581,359.899243513671,338.538884805225,319.664778569165,302.315499187554,285.925515617102,270.27338780818,255.354906733832,241.255352306559,228.068536174143,215.866564089613,204.708101762498,194.679028264099,185.928947765752,178.67721731733,173.192895095678,169.746940937936,168.530775858951,168.530775858951,168.530775858951]},\"fFunctions\":{\"_typename\":\"TList\",\"name\":\"TList\",\"arr\":[],\"opt\":[]},\"fHistogram\":{\"_typename\":\"TH1F\",\"fUniqueID\":0,\"fBits\":512,\"fName\":\"sig_Norm[z_mass_no_roccor]\",\"fTitle\":\"Projection of sig\",\"fLineColor\":602,\"fLineStyle\":1,\"fLineWidth\":1,\"fFillColor\":0,\"fFillStyle\":1001,\"fMarkerColor\":1,\"fMarkerStyle\":1,\"fMarkerSize\":1,\"fNcells\":128,\"fXaxis\":{\"_typename\":\"TAxis\",\"fUniqueID\":0,\"fBits\":0,\"fName\":\"xaxis\",\"fTitle\":\"\",\"fNdivisions\":510,\"fAxisColor\":1,\"fLabelColor\":1,\"fLabelFont\":42,\"fLabelOffset\":0.005,\"fLabelSize\":0.035,\"fTickLength\":0.03,\"fTitleOffset\":1,\"fTitleSize\":0.035,\"fTitleColor\":1,\"fTitleFont\":42,\"fNbins\":126,\"fXmin\":71.63964,\"fXmax\":108.36036,\"fXbins\":[],\"fFirst\":0,\"fLast\":0,\"fBits2\":0,\"fTimeDisplay\":false,\"fTimeFormat\":\"\",\"fLabels\":null,\"fModLabs\":null},\"fYaxis\":{\"_typename\":\"TAxis\",\"fUniqueID\":0,\"fBits\":0,\"fName\":\"yaxis\",\"fTitle\":\"\",\"fNdivisions\":510,\"fAxisColor\":1,\"fLabelColor\":1,\"fLabelFont\":42,\"fLabelOffset\":0.005,\"fLabelSize\":0.035,\"fTickLength\":0.03,\"fTitleOffset\":0,\"fTitleSize\":0.035,\"fTitleColor\":1,\"fTitleFont\":42,\"fNbins\":1,\"fXmin\":0,\"fXmax\":13609.9098131589,\"fXbins\":[],\"fFirst\":0,\"fLast\":0,\"fBits2\":0,\"fTimeDisplay\":false,\"fTimeFormat\":\"\",\"fLabels\":null,\"fModLabs\":null},\"fZaxis\":{\"_typename\":\"TAxis\",\"fUniqueID\":0,\"fBits\":0,\"fName\":\"zaxis\",\"fTitle\":\"\",\"fNdivisions\":510,\"fAxisColor\":1,\"fLabelColor\":1,\"fLabelFont\":42,\"fLabelOffset\":0.005,\"fLabelSize\":0.035,\"fTickLength\":0.03,\"fTitleOffset\":1,\"fTitleSize\":0.035,\"fTitleColor\":1,\"fTitleFont\":42,\"fNbins\":1,\"fXmin\":0,\"fXmax\":1,\"fXbins\":[],\"fFirst\":0,\"fLast\":0,\"fBits2\":0,\"fTimeDisplay\":false,\"fTimeFormat\":\"\",\"fLabels\":null,\"fModLabs\":null},\"fBarOffset\":0,\"fBarWidth\":1000,\"fEntries\":0,\"fTsumw\":0,\"fTsumw2\":0,\"fTsumwx\":0,\"fTsumwx2\":0,\"fMaximum\":13609.9098131589,\"fMinimum\":0,\"fNormFactor\":0,\"fContour\":[],\"fSumw2\":[],\"fOption\":\"\",\"fFunctions\":{\"_typename\":\"TList\",\"name\":\"TList\",\"arr\":[],\"opt\":[]},\"fBufferSize\":0,\"fBuffer\":[],\"fBinStatErrOpt\":0,\"fStatOverflows\":2,\"fArray\":{\"$arr\":\"Float32\",\"len\":128}},\"fMinimum\":-1111,\"fMaximum\":-1111,\"_yAxisLabel\":\"Projection of sig\",\"_ymin\":0,\"_ymax\":12372.6452846899,\"_normValue\":0},{\"$ref\":5},{\"_typename\":\"TLatex\",\"fUniqueID\":0,\"fBits\":16393,\"fName\":\"\",\"fTitle\":\"Before RoccoR (13 TeV, 2018)\",\"fTextAngle\":0,\"fTextSize\":0.05,\"fTextAlign\":11,\"fTextColor\":1,\"fTextFont\":42,\"fX\":0.6,\"fY\":0.92,\"fLineColor\":1,\"fLineStyle\":1,\"fLineWidth\":2,\"fLimitFactorSize\":3,\"fOriginSize\":0.04}],\"opt\":[\"\",\"FUNC\",\"p\",\"l\",\"AXISSAME\",\"\"]},\"fExecs\":{\"_typename\":\"TList\",\"name\":\"TList\",\"arr\":[],\"opt\":[]},\"fName\":\"topPad\",\"fTitle\":\"topPad\",\"fNumPaletteColor\":0,\"fNextPaletteColor\":0},{\"_typename\":\"TPad\",\"fUniqueID\":0,\"fBits\":9,\"fLineColor\":1,\"fLineStyle\":1,\"fLineWidth\":1,\"fFillColor\":0,\"fFillStyle\":1001,\"fLeftMargin\":0.1,\"fRightMargin\":0.1,\"fBottomMargin\":0.3,\"fTopMargin\":0,\"fXfile\":2,\"fYfile\":2,\"fAfile\":1,\"fXstat\":0.99,\"fYstat\":0.99,\"fAstat\":2,\"fFrameFillColor\":0,\"fFrameLineColor\":1,\"fFrameFillStyle\":1001,\"fFrameLineStyle\":1,\"fFrameLineWidth\":1,\"fFrameBorderSize\":1,\"fFrameBorderMode\":0,\"fX1\":70.62499971129,\"fY1\":-6.86630114675691,\"fX2\":109.37500028871,\"fY2\":3.87829063430328,\"fXtoAbsPixelk\":-1450.7741159995,\"fXtoPixelk\":-1450.7741159995,\"fXtoPixel\":20.5419351777723,\"fYtoAbsPixelk\":462.3395528129,\"fYtoPixelk\":61.9395528129002,\"fYtoPixel\":-15.9708254623954,\"fUtoAbsPixelk\":5e-5,\"fUtoPixelk\":5e-5,\"fUtoPixel\":796,\"fVtoAbsPixelk\":572.00005,\"fVtoPixelk\":171.6,\"fVtoPixel\":-171.6,\"fAbsPixeltoXk\":70.62499971129,\"fPixeltoXk\":70.62499971129,\"fPixeltoX\":0.0486809052480151,\"fAbsPixeltoYk\":28.9490047901104,\"fPixeltoYk\":-6.86630114675691,\"fPixeltoY\":-0.0626141712182995,\"fXlowNDC\":0,\"fYlowNDC\":0,\"fXUpNDC\":1,\"fYUpNDC\":0.3,\"fWNDC\":1,\"fHNDC\":0.3,\"fAbsXlowNDC\":0,\"fAbsYlowNDC\":0,\"fAbsWNDC\":1,\"fAbsHNDC\":0.3,\"fUxmin\":74.5,\"fUymin\":-3.64292348435334,\"fUxmax\":105.5,\"fUymax\":3.87829063430328,\"fTheta\":30,\"fPhi\":30,\"fAspectRatio\":0,\"fNumber\":0,\"fTickx\":0,\"fTicky\":0,\"fLogx\":0,\"fLogy\":0,\"fLogz\":0,\"fPadPaint\":0,\"fCrosshair\":0,\"fCrosshairPos\":0,\"fBorderSize\":2,\"fBorderMode\":0,\"fModified\":false,\"fGridx\":false,\"fGridy\":false,\"fAbsCoord\":false,\"fEditable\":true,\"fFixedAspectRatio\":false,\"fPrimitives\":{\"_typename\":\"TList\",\"name\":\"TList\",\"arr\":[{\"_typename\":\"TFrame\",\"fUniqueID\":0,\"fBits\":8,\"fLineColor\":1,\"fLineStyle\":1,\"fLineWidth\":1,\"fFillColor\":0,\"fFillStyle\":1001,\"fX1\":74.5,\"fY1\":-3.64292348435334,\"fX2\":105.5,\"fY2\":3.87829063430328,\"fBorderSize\":1,\"fBorderMode\":0},{\"_typename\":\"RooHist\",\"fUniqueID\":0,\"fBits\":1032,\"fName\":\"pull_h_ds_sig_Norm[z_mass_no_roccor]\",\"fTitle\":\"\",\"fLineColor\":1,\"fLineStyle\":1,\"fLineWidth\":1,\"fFillColor\":0,\"fFillStyle\":1000,\"fMarkerColor\":1,\"fMarkerStyle\":24,\"fMarkerSize\":1,\"fNpoints\":100,\"fX\":{\"$arr\":\"Float64\",\"len\":100,\"v\":[75.15,75.45,75.75,76.05,76.35,76.65,76.95,77.25,77.55,77.85,78.15,78.45,78.75,79.05,79.35,79.65,79.95,80.25,80.55,80.85,81.15,81.45,81.75,82.05,82.35,82.65,82.95,83.25,83.55,83.85,84.15,84.45,84.75,85.05,85.35,85.65,85.95,86.25,86.55,86.85,87.15,87.45,87.75,88.05,88.35,88.65,88.95,89.25,89.55,89.85,90.15,90.45,90.75,91.05,91.35,91.65,91.95,92.25,92.55,92.85,93.15,93.45,93.75,94.05,94.35,94.65,94.95,95.25,95.55,95.85,96.15,96.45,96.75,97.05,97.35,97.65,97.95,98.25,98.55,98.85,99.15,99.45,99.75,100.05,100.35,100.65,100.95,101.25,101.55,101.85,102.15,102.45,102.75,103.05,103.35,103.65,103.95,104.25,104.55,104.85]},\"fY\":{\"$arr\":\"Float64\",\"len\":100,\"v\":[-1.76647100733573,-0.0453188173857446,0.369737152055792,-0.0723284047890311,1.32351115443888,-1.06761832025028,0.615188576567461,-1.52864865538898,2.20051791666882,-1.13543967633759,-0.0918336856184461,2.18532858877487,-0.58605121305275,-1.46849291054465,-0.983924657978479,1.13367568283627,-0.0889774615169776,0.202850438753557,0.16272486733948,-0.223204469717409,-0.570667228818067,-0.133391795411982,-0.383257382406745,0.255616241439316,-0.446116295666063,1.01215369270816,0.206147461026731,-1.68684180807899,0.739246737173784,1.55098080097087,-1.68719036454419,0.690930072141547,-0.34270957035455,-0.65232690438128,-0.118081027175538,0.385513961113761,0.2221428738875,-1.14740418652687,0.154590861469862,0.79862991782669,-1.11859099054361,0.702802758571427,-0.785268009988736,0.0418223351781495,-0.0785783068708932,-0.990163188851358,0.335829997659578,0.282514655030447,0.145738917404841,-0.197999207241583,0.612774327290509,-0.520963089891634,-0.222727044371118,1.0513291444983,0.772613853112348,-0.448693861572712,-0.0804259799239178,1.14350689049653,-1.59712375910423,0.551664267959935,0.289438508810003,-0.688629962788186,0.141939490625421,-0.924625506441042,0.506074842969892,0.446861376802989,-0.500988974431411,-0.651452091313809,0.0119027640522751,-0.188816595829627,-0.627150024181937,0.29530845034059,0.534559017056023,-1.04981684755472,0.722629133438974,-0.00525336004614106,-0.256982474511735,0.0925007013151303,1.13944286981953,-0.61242665648312,-0.237323206721296,-0.102291518818226,-0.397749281566259,-1.06146732083175,0.530020233532352,1.35895681241809,-1.31538134244796,-0.234964475609892,1.58505132339037,0.450826619954537,-0.455652893936348,-1.57384919709877,1.13794640627147,0.332547724583405,-0.464784464811256,1.87479854567814,-0.0933245543534247,0.466534137961219,-0.95049240143461,-2.09635640479339]},\"fFunctions\":{\"_typename\":\"TList\",\"name\":\"TList\",\"arr\":[],\"opt\":[]},\"fHistogram\":{\"_typename\":\"TH1F\",\"fUniqueID\":0,\"fBits\":512,\"fName\":\"pull_h_ds_sig_Norm[z_mass_no_roccor]\",\"fTitle\":\"\",\"fLineColor\":602,\"fLineStyle\":1,\"fLineWidth\":1,\"fFillColor\":0,\"fFillStyle\":1001,\"fMarkerColor\":1,\"fMarkerStyle\":1,\"fMarkerSize\":1,\"fNcells\":102,\"fXaxis\":{\"_typename\":\"TAxis\",\"fUniqueID\":0,\"fBits\":2048,\"fName\":\"xaxis\",\"fTitle\":\"M_{Z} [GeV]\",\"fNdivisions\":510,\"fAxisColor\":1,\"fLabelColor\":1,\"fLabelFont\":42,\"fLabelOffset\":0.005,\"fLabelSize\":0.13,\"fTickLength\":0.03,\"fTitleOffset\":1.1,\"fTitleSize\":0.13,\"fTitleColor\":1,\"fTitleFont\":42,\"fNbins\":100,\"fXmin\":74.5,\"fXmax\":105.5,\"fXbins\":[],\"fFirst\":1,\"fLast\":100,\"fBits2\":0,\"fTimeDisplay\":false,\"fTimeFormat\":\"\",\"fLabels\":null,\"fModLabs\":null},\"fYaxis\":{\"_typename\":\"TAxis\",\"fUniqueID\":0,\"fBits\":0,\"fName\":\"yaxis\",\"fTitle\":\"Pull = #frac{MC - Fit}{#sigma_{MC}}\",\"fNdivisions\":2,\"fAxisColor\":1,\"fLabelColor\":1,\"fLabelFont\":42,\"fLabelOffset\":0.005,\"fLabelSize\":0.13,\"fTickLength\":0.01,\"fTitleOffset\":0.4,\"fTitleSize\":0.1,\"fTitleColor\":1,\"fTitleFont\":42,\"fNbins\":1,\"fXmin\":-3.9,\"fXmax\":3.9,\"fXbins\":[],\"fFirst\":0,\"fLast\":0,\"fBits2\":0,\"fTimeDisplay\":false,\"fTimeFormat\":\"\",\"fLabels\":null,\"fModLabs\":null},\"fZaxis\":{\"_typename\":\"TAxis\",\"fUniqueID\":0,\"fBits\":0,\"fName\":\"zaxis\",\"fTitle\":\"\",\"fNdivisions\":510,\"fAxisColor\":1,\"fLabelColor\":1,\"fLabelFont\":42,\"fLabelOffset\":0.005,\"fLabelSize\":0.035,\"fTickLength\":0.03,\"fTitleOffset\":1,\"fTitleSize\":0.035,\"fTitleColor\":1,\"fTitleFont\":42,\"fNbins\":1,\"fXmin\":0,\"fXmax\":1,\"fXbins\":[],\"fFirst\":0,\"fLast\":0,\"fBits2\":0,\"fTimeDisplay\":false,\"fTimeFormat\":\"\",\"fLabels\":null,\"fModLabs\":null},\"fBarOffset\":0,\"fBarWidth\":1000,\"fEntries\":0,\"fTsumw\":0,\"fTsumw2\":0,\"fTsumwx\":0,\"fTsumwx2\":0,\"fMaximum\":3.87829063430328,\"fMinimum\":-3.64292348435334,\"fNormFactor\":0,\"fContour\":[],\"fSumw2\":[],\"fOption\":\"\",\"fFunctions\":{\"_typename\":\"TList\",\"name\":\"TList\",\"arr\":[],\"opt\":[]},\"fBufferSize\":0,\"fBuffer\":[],\"fBinStatErrOpt\":0,\"fStatOverflows\":2,\"fArray\":{\"$arr\":\"Float32\",\"len\":102}},\"fMinimum\":-1111,\"fMaximum\":-1111,\"fEXlow\":{\"$arr\":\"Float64\",\"len\":100},\"fEXhigh\":{\"$arr\":\"Float64\",\"len\":100},\"fEYlow\":{\"$arr\":\"Float64\",\"len\":100,\"v\":[0.936729795448658,0.940428311415463,1,0.942197526182938,1,0.943166708913429,1,0.945305635304498,1,0.948315276549378,0.950628855730414,1,0.95164512021963,0.951411698193491,0.952817284844451,1,0.95556677461846,1,1,0.958370222472553,0.959192347624452,0.960761225164587,0.961853582842288,1,0.964401104700864,1,1,0.967199669193829,1,1,0.970016737180769,1,0.972330262382367,0.973258543990634,0.974603044980245,1,1,0.977794404887387,1,1,0.981199520207701,1,0.98357090456284,1,0.985803011230163,0.986707048795755,1,1,1,0.989809773154668,1,0.990695753107687,0.990920014966374,1,1,0.990672196309668,0.990313257578737,1,0.98895044581751,1,1,0.986055470412187,1,0.9835214988807,1,1,0.979148367647127,0.977266787822248,1,0.973748607591388,0.971856456307085,1,1,0.966572101548942,1,0.963956515563813,0.962161035230761,1,1,0.956395160488719,0.954783798027372,0.952977819820661,0.950751779795055,0.948101351195672,1,1,0.942784976227953,0.942976810215859,1,1,0.937625624203282,0.933486057565172,1,1,0.930562493396592,1,0.928381701558916,1,0.92377717318161,0.919799236338561]},\"fEYhigh\":{\"$arr\":\"Float64\",\"len\":100,\"v\":[1,1,1.06168736547336,1,1.05757858427964,1,1.05589223123595,1,1.05100487441308,1,1,1.04820985761918,1,1,1,1.04615918586416,1,1.04518152460061,1.04417844972433,1,1,1,1,1.03778208132094,1,1.0347065965241,1.0339896408947,1,1.03155486216761,1.03026199665372,1,1.02897051597862,1,1,1,1.02467464637482,1.02354713507979,1,1.02117722470389,1.01990952647976,1,1.01769568118703,1,1.01544824378064,1,1,1.01238986270742,1.01155512891946,1.01087212065608,1,1.00972197027393,1,1,1.00900718977814,1.00908008365857,1,1,1.01025359371992,1,1.01186969595128,1.01285414568481,1,1.01532533560954,1,1.01787409845624,1.01936961654507,1,1,1.02501544634351,1,1,1.03033047851996,1.03194872129804,1,1.03523187797131,1,1,1.04087475997695,1.0418808812904,1,1,1,1,1,1.05418911259338,1.05458059385514,1,1,1.05892264003166,1.06273808230657,1,1,1.06681049497179,1.07056465465638,1,1.07022766346997,1,1.07692307692308,1,1]},\"_yAxisLabel\":\"\",\"_ymin\":-3.01615564113195,\"_ymax\":3.25152279108189,\"_normValue\":0,\"_nominalBinWidth\":0.3,\"_nSigma\":1,\"_entries\":-4.98918573422923,\"_rawEntries\":-1}],\"opt\":[\"\",\"ap\"]},\"fExecs\":{\"_typename\":\"TList\",\"name\":\"TList\",\"arr\":[],\"opt\":[]},\"fName\":\"bottomPad\",\"fTitle\":\"bottomPad\",\"fNumPaletteColor\":0,\"fNextPaletteColor\":0},{\"_typename\":\"TStyle\",\"fUniqueID\":0,\"fBits\":0,\"fName\":\"Modern\",\"fTitle\":\"Modern Style\",\"fLineColor\":1,\"fLineStyle\":1,\"fLineWidth\":1,\"fFillColor\":19,\"fFillStyle\":1001,\"fMarkerColor\":1,\"fMarkerStyle\":1,\"fMarkerSize\":1,\"fTextAngle\":0,\"fTextSize\":0.05,\"fTextAlign\":11,\"fTextColor\":1,\"fTextFont\":62,\"fXaxis\":{\"_typename\":\"TAttAxis\",\"fNdivisions\":510,\"fAxisColor\":1,\"fLabelColor\":1,\"fLabelFont\":42,\"fLabelOffset\":0.005,\"fLabelSize\":0.035,\"fTickLength\":0.03,\"fTitleOffset\":1,\"fTitleSize\":0.035,\"fTitleColor\":1,\"fTitleFont\":42},\"fYaxis\":{\"_typename\":\"TAttAxis\",\"fNdivisions\":510,\"fAxisColor\":1,\"fLabelColor\":1,\"fLabelFont\":42,\"fLabelOffset\":0.005,\"fLabelSize\":0.035,\"fTickLength\":0.03,\"fTitleOffset\":0,\"fTitleSize\":0.035,\"fTitleColor\":1,\"fTitleFont\":42},\"fZaxis\":{\"_typename\":\"TAttAxis\",\"fNdivisions\":510,\"fAxisColor\":1,\"fLabelColor\":1,\"fLabelFont\":42,\"fLabelOffset\":0.005,\"fLabelSize\":0.035,\"fTickLength\":0.03,\"fTitleOffset\":1,\"fTitleSize\":0.035,\"fTitleColor\":1,\"fTitleFont\":42},\"fBarWidth\":1,\"fBarOffset\":0,\"fColorModelPS\":0,\"fDrawBorder\":0,\"fOptLogx\":0,\"fOptLogy\":0,\"fOptLogz\":0,\"fOptDate\":0,\"fOptStat\":1111,\"fOptTitle\":1,\"fOptFile\":0,\"fOptFit\":0,\"fShowEventStatus\":0,\"fShowEditor\":0,\"fShowToolBar\":0,\"fNumberContours\":20,\"fAttDate\":{\"_typename\":\"TAttText\",\"fTextAngle\":0,\"fTextSize\":0.025,\"fTextAlign\":11,\"fTextColor\":1,\"fTextFont\":62},\"fDateX\":0.01,\"fDateY\":0.01,\"fEndErrorSize\":2,\"fErrorX\":0.5,\"fFuncColor\":2,\"fFuncStyle\":1,\"fFuncWidth\":2,\"fGridColor\":0,\"fGridStyle\":3,\"fGridWidth\":1,\"fLegendBorderSize\":1,\"fLegendFillColor\":0,\"fLegendFont\":42,\"fLegendTextSize\":0,\"fHatchesLineWidth\":1,\"fHatchesSpacing\":1,\"fFrameFillColor\":0,\"fFrameLineColor\":1,\"fFrameFillStyle\":1001,\"fFrameLineStyle\":1,\"fFrameLineWidth\":1,\"fFrameBorderSize\":1,\"fFrameBorderMode\":0,\"fHistFillColor\":0,\"fHistLineColor\":602,\"fHistFillStyle\":1001,\"fHistLineStyle\":1,\"fHistLineWidth\":1,\"fHistMinimumZero\":false,\"fHistTopMargin\":0.05,\"fCanvasPreferGL\":false,\"fCanvasColor\":0,\"fCanvasBorderSize\":2,\"fCanvasBorderMode\":0,\"fCanvasDefH\":500,\"fCanvasDefW\":700,\"fCanvasDefX\":10,\"fCanvasDefY\":10,\"fPadColor\":0,\"fPadBorderSize\":2,\"fPadBorderMode\":0,\"fPadBottomMargin\":0.1,\"fPadTopMargin\":0.1,\"fPadLeftMargin\":0.1,\"fPadRightMargin\":0.1,\"fPadGridX\":false,\"fPadGridY\":false,\"fPadTickX\":0,\"fPadTickY\":0,\"fPaperSizeX\":20,\"fPaperSizeY\":26,\"fScreenFactor\":1,\"fStatColor\":0,\"fStatTextColor\":1,\"fStatBorderSize\":1,\"fStatFont\":42,\"fStatFontSize\":0,\"fStatStyle\":1001,\"fStatFormat\":\"6.4g\",\"fStatX\":0.98,\"fStatY\":0.935,\"fStatW\":0.2,\"fStatH\":0.16,\"fStripDecimals\":true,\"fTitleAlign\":23,\"fTitleColor\":0,\"fTitleTextColor\":1,\"fTitleBorderSize\":0,\"fTitleFont\":42,\"fTitleFontSize\":0.05,\"fTitleStyle\":0,\"fTitleX\":0.5,\"fTitleY\":0.995,\"fTitleW\":0,\"fTitleH\":0,\"fLegoInnerR\":0.5,\"fLineStyles\":[\"\",\"  \",\" 12 12\",\" 4 8\",\" 12 16 4 16\",\" 20 12 4 12\",\" 20 12 4 12 4 12 4 12\",\" 20 20\",\" 20 12 4 12 4 12\",\" 80 20\",\" 80 40 4 40\",\"  \",\"  \",\"  \",\"  \",\"  \",\"  \",\"  \",\"  \",\"  \",\"  \",\"  \",\"  \",\"  \",\"  \",\"  \",\"  \",\"  \",\"  \",\"  \"],\"fHeaderPS\":\"\",\"fTitlePS\":\"\",\"fFitFormat\":\"5.4g\",\"fPaintTextFormat\":\"g\",\"fLineScalePS\":3,\"fJoinLinePS\":0,\"fCapLinePS\":0,\"fTimeOffset\":788918400,\"fImageScaling\":1}],\"opt\":[\"\",\"\",\"\"]},\"fExecs\":null,\"fName\":\"cComp\",\"fTitle\":\"cComp\",\"fNumPaletteColor\":0,\"fNextPaletteColor\":0,\"fDISPLAY\":\"$DISPLAY\",\"fDoubleBuffer\":0,\"fRetained\":true,\"fXsizeUser\":0,\"fYsizeUser\":0,\"fXsizeReal\":20,\"fYsizeReal\":15,\"fWindowTopX\":0,\"fWindowTopY\":0,\"fWindowWidth\":0,\"fWindowHeight\":0,\"fCw\":796,\"fCh\":572,\"fCatt\":{\"_typename\":\"TAttCanvas\",\"fXBetween\":2,\"fYBetween\":2,\"fTitleFromTop\":1.2,\"fXdate\":0.2,\"fYdate\":0.3,\"fAdate\":1},\"kMoveOpaque\":true,\"kResizeOpaque\":true,\"fHighLightColor\":2,\"fBatch\":true,\"kShowEventStatus\":false,\"kAutoExec\":true,\"kMenuBar\":true});\n",
       "   Core.settings.HandleKeys = false;\n",
       "   Core.draw(\"root_plot_1652085222517\", obj, \"\");\n",
       "}\n",
       "\n",
       "function script_load_root_plot_1652085222517(src, on_error) {\n",
       "    let script = document.createElement('script');\n",
       "    script.src = src;\n",
       "    script.onload = function() { display_root_plot_1652085222517(JSROOT); };\n",
       "    script.onerror = function() { script.remove(); on_error(); };\n",
       "    document.head.appendChild(script);\n",
       "}\n",
       "\n",
       "if (typeof requirejs !== 'undefined') {\n",
       "\n",
       "    // We are in jupyter notebooks, use require.js which should be configured already\n",
       "    requirejs.config({\n",
       "       paths: { 'JSRootCore' : [ 'scripts/JSRoot.core', 'https://root.cern/js/6.1.1/scripts/JSRoot.core.min', 'https://jsroot.gsi.de/6.1.1/scripts/JSRoot.core.min' ] }\n",
       "    })(['JSRootCore'],  function(Core) {\n",
       "       display_root_plot_1652085222517(Core);\n",
       "    });\n",
       "\n",
       "} else if (typeof JSROOT !== 'undefined') {\n",
       "\n",
       "   // JSROOT already loaded, just use it\n",
       "   display_root_plot_1652085222517(JSROOT);\n",
       "\n",
       "} else {\n",
       "\n",
       "    // We are in jupyterlab without require.js, directly loading jsroot\n",
       "    // Jupyterlab might be installed in a different base_url so we need to know it.\n",
       "    try {\n",
       "        var base_url = JSON.parse(document.getElementById('jupyter-config-data').innerHTML).baseUrl;\n",
       "    } catch(_) {\n",
       "        var base_url = '/';\n",
       "    }\n",
       "\n",
       "    // Try loading a local version of requirejs and fallback to cdn if not possible.\n",
       "    script_load_root_plot_1652085222517(base_url + 'static/scripts/JSRoot.core.js', function(){\n",
       "        console.error('Fail to load JSROOT locally, please check your jupyter_notebook_config.py file');\n",
       "        script_load_root_plot_1652085222517('https://root.cern/js/6.1.1/scripts/JSRoot.core.min.js', function(){\n",
       "            document.getElementById(\"root_plot_1652085222517\").innerHTML = \"Failed to load JSROOT\";\n",
       "        });\n",
       "    });\n",
       "}\n",
       "\n",
       "</script>\n"
      ],
      "text/plain": [
       "<IPython.core.display.HTML object>"
      ]
     },
     "metadata": {},
     "output_type": "display_data"
    }
   ],
   "source": [
    "cComp = ROOT.TCanvas(\"cComp\", \"cComp\", 800, 600)\n",
    "topPad = ROOT.TPad(\"topPad\", \"topPad\", 0, 0.3, 1, 1)\n",
    "bottomPad = ROOT.TPad(\"bottomPad\", \"bottomPad\", 0, 0, 1, 0.3)\n",
    "cComp.Draw()\n",
    "topPad.Draw()\n",
    "bottomPad.Draw()\n",
    "topPad.cd()\n",
    "topPad.SetBottomMargin(0)\n",
    "yearMark = ROOT.TLatex()\n",
    "yearMark.SetTextFont(42)\n",
    "xFrameCorr.SetTitle(\"\")\n",
    "xFrameCorr.Draw()\n",
    "xFrameCorr.GetYaxis().SetTitle(\"A.U. / 0.3 GeV\")\n",
    "xFrameCorr.GetYaxis().SetTitleSize(0.05)\n",
    "xFrameCorr.GetYaxis().SetLabelSize(0.05)\n",
    "xFrameCorr.GetYaxis().SetTitleOffset(1)\n",
    "xFrameCorr.GetXaxis().SetLimits(74.5, 105.5)\n",
    "yearMark.DrawLatexNDC(0.6, 0.92, \"Before RoccoR (13 TeV, 2018)\")\n",
    "bottomPad.cd()\n",
    "bottomPad.SetTopMargin(0)\n",
    "bottomPad.SetBottomMargin(0.3)\n",
    "pullHist.SetTitle()\n",
    "pullHist.SetMarkerStyle(24)\n",
    "pullHist.GetYaxis().SetTitle(\"Pull = #frac{MC - Fit}{#sigma_{MC}}\")\n",
    "pullHist.GetYaxis().SetTitleSize(0.1)\n",
    "pullHist.GetYaxis().SetLabelSize(0.13)\n",
    "pullHist.GetYaxis().SetNdivisions(2)\n",
    "pullHist.GetYaxis().SetLimits(-3.9, 3.9)\n",
    "pullHist.GetYaxis().SetTickLength(0.01)\n",
    "pullHist.GetYaxis().SetTitleOffset(0.4)\n",
    "pullHist.GetXaxis().SetTitle(\"M_{Z} [GeV]\")\n",
    "pullHist.GetXaxis().SetTitleSize(0.13)\n",
    "pullHist.GetXaxis().SetLabelSize(0.13)\n",
    "pullHist.GetXaxis().SetTitleOffset(1.1)\n",
    "pullHist.GetXaxis().SetLimits(74.5, 105.5)\n",
    "pullHist.Draw(\"ap\")\n",
    "bottomPad.Update()\n"
   ]
  },
  {
   "cell_type": "code",
   "execution_count": null,
   "metadata": {},
   "outputs": [],
   "source": []
  }
 ],
 "metadata": {
  "interpreter": {
   "hash": "1a631922e444e80b8ac1d8d1460195e11212895288405482940e953035b49f3c"
  },
  "kernelspec": {
   "display_name": "Python 3 (ipykernel)",
   "language": "python",
   "name": "python3"
  },
  "language_info": {
   "codemirror_mode": {
    "name": "ipython",
    "version": 3
   },
   "file_extension": ".py",
   "mimetype": "text/x-python",
   "name": "python",
   "nbconvert_exporter": "python",
   "pygments_lexer": "ipython3",
   "version": "3.10.4"
  }
 },
 "nbformat": 4,
 "nbformat_minor": 2
}
