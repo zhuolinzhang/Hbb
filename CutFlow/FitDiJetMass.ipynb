{
 "cells": [
  {
   "cell_type": "code",
   "execution_count": null,
   "metadata": {},
   "outputs": [],
   "source": [
    "import ROOT\n",
    "import json\n",
    "%jsroot on"
   ]
  },
  {
   "cell_type": "markdown",
   "metadata": {},
   "source": [
    "# Load signal MC sample"
   ]
  },
  {
   "cell_type": "code",
   "execution_count": null,
   "metadata": {},
   "outputs": [],
   "source": [
    "#JobPath = input(\"Enter the path of signal MC sample: \") # JetAnalysis/Jet+btagging\n",
    "JobPath = \"JetAnalysis/NtupleAnalysis\"\n",
    "MCPath = \"~/Work/Hbb/{}/Samples\".format(JobPath)\n",
    "f = ROOT.TFile(\"{}/ZH_HToBB_ZToLL_M125_13TeV_powheg_pythia8.root\".format(MCPath), \"READ\")\n",
    "hist = ROOT.TH1F()\n",
    "hist = f.Get(\"h_RecDiJet_Match_M\")"
   ]
  },
  {
   "cell_type": "markdown",
   "metadata": {},
   "source": [
    "# Scale the invariant mass spectra"
   ]
  },
  {
   "cell_type": "code",
   "execution_count": null,
   "metadata": {
    "code_folding": []
   },
   "outputs": [],
   "source": [
    "MCInfoList = []\n",
    "SigSampleName = \"ZH_HToBB_ZToLL_M125_13TeV_powheg_pythia8\"\n",
    "with open(\"../Database/MCInfo.json\") as MCInfo:\n",
    "    MCInfoList = json.load(MCInfo)\n",
    "for i in MCInfoList:\n",
    "    for key, value in i.items():\n",
    "        if key == 'primary_name':\n",
    "            if value == SigSampleName:\n",
    "                factor = i['factor_2018']\n",
    "                print(\"The primary name: \", value)\n",
    "                print(\"The factor is \", factor)\n",
    "                break\n",
    "factor = factor * 0.004536324 # A correction to control trigger HLT_IsoMu20_v*\n",
    "hist.Scale(factor)"
   ]
  },
  {
   "cell_type": "markdown",
   "metadata": {},
   "source": [
    "# Set Roofit"
   ]
  },
  {
   "cell_type": "code",
   "execution_count": null,
   "metadata": {},
   "outputs": [],
   "source": [
    "# set RooFit variables\n",
    "x = ROOT.RooRealVar(\"x\", \"m_{dijet}\", 50, 200)\n",
    "m = ROOT.RooRealVar(\"m\", \"m\", 114, 110, 120) # mean\n",
    "s = ROOT.RooRealVar(\"s\", \"s\", 18.29787234, 5, ROOT.RooNumber.infinity()) # width or standard deviation\n",
    "\n",
    "# for crystal ball function\n",
    "a = ROOT.RooRealVar(\"a\", \"a\",1.55502e+00, -3, 10)\n",
    "n = ROOT.RooRealVar(\"n\", \"n\",4.41255e+00, 0, 10)\n",
    "\n",
    "# for Voigtian function\n",
    "sv = ROOT.RooRealVar(\"sv\", \"sv\",0,0,2) # sigma in Voigtian\n",
    "\n",
    "# for Bukin function\n",
    "xi = ROOT.RooRealVar(\"xi\", \"peak asymmetry\", -1.8322e-01, -1, 1)\n",
    "rho1 = ROOT.RooRealVar(\"rho1\", \"left tail\", -0.1790206614531008, -1, 0)\n",
    "rho2 = ROOT.RooRealVar(\"rho2\", \"right tail\", 0.21758760999527632, 0, 1)\n",
    "\n",
    "# load the histogram\n",
    "ral = ROOT.RooArgList(x) # this line must be added in pyroot\n",
    "h = ROOT.RooDataHist(\"h\",\"Mass of dijet\", ral, ROOT.RooFit.Import(hist))\n",
    "\n",
    "# set fit function \n",
    "#func = ROOT.RooCBShape(\"func\",\"func\",x,m,s,a,n) # crystal ball function\n",
    "#func = ROOT.RooGaussian(\"func\",\"func\",x,m,s)\n",
    "#func = ROOT.RooBreitWigner(\"func\",\"func\",x,m,s)\n",
    "#func = ROOT.RooVoigtian(\"func\",\"func\",x,m,s,sv)\n",
    "func = ROOT.RooBukinPdf(\"func\",\"func\", x, m, s, xi, rho1, rho2)"
   ]
  },
  {
   "cell_type": "markdown",
   "metadata": {},
   "source": [
    "# Fit"
   ]
  },
  {
   "cell_type": "code",
   "execution_count": null,
   "metadata": {},
   "outputs": [],
   "source": [
    "# fit\n",
    "massFit = func.fitTo(h, ROOT.RooFit.Save())\n",
    "#func.fitTo(h,ROOT.RooFit.Range(50,160)) # fit in peak range\n",
    "massFit.Print()\n",
    "\n",
    "c = ROOT.TCanvas(\"c\",\"c\",800,600)\n",
    "\n",
    "xframe1 = x.frame()\n",
    "\n",
    "h.plotOn(xframe1)\n",
    "func.plotOn(xframe1, ROOT.RooFit.LineColor(ROOT.kBlue))\n",
    "\n",
    "h_pull = ROOT.RooHist()\n",
    "h_pull = xframe1.pullHist()\n",
    "xframe2 = x.frame()\n",
    "xframe2.addObject(h_pull)"
   ]
  },
  {
   "cell_type": "markdown",
   "metadata": {},
   "source": [
    "# Change the style of TCanvas"
   ]
  },
  {
   "cell_type": "code",
   "execution_count": null,
   "metadata": {},
   "outputs": [],
   "source": [
    "upperPad = ROOT.TPad(\"upperPad\", \"upperPad\", 0., 0.3, 1. , 1.)\n",
    "lowerPad = ROOT.TPad(\"lowerPad\", \"lowerPad\", 0., 0., 1. , 0.3)\n",
    "upperPad.Draw()\n",
    "lowerPad.Draw()\n",
    "# upper pad\n",
    "upperPad.cd()\n",
    "upperPad.SetBottomMargin(0.)\n",
    "xframe1.SetTitle(\"\")\n",
    "sigLine1 = ROOT.TLine(90, 0, 90, 0.03)\n",
    "sigLine2 = ROOT.TLine(150, 0, 150, 0.03)\n",
    "sigLine1.SetLineStyle(2)\n",
    "sigLine2.SetLineStyle(2)\n",
    "xframe1.Draw()\n",
    "sigLine1.Draw()\n",
    "sigLine2.Draw()\n",
    "# lower pad\n",
    "lowerPad.cd()\n",
    "lowerPad.SetTopMargin(0.)\n",
    "lowerPad.SetBottomMargin(0.3)\n",
    "xframe2.SetTitle(\"\")\n",
    "xframe2.SetMaximum(5.)\n",
    "xframe2.SetMinimum(-5.)\n",
    "xframe2.GetYaxis().SetTitleSize(0.1)\n",
    "xframe2.GetYaxis().SetNdivisions(505)\n",
    "xframe2.GetYaxis().SetTitle(\"Pull\")\n",
    "xframe2.GetYaxis().SetTitleOffset(0.2)\n",
    "xframe2.GetYaxis().SetLabelSize(0.08)\n",
    "xframe2.GetXaxis().SetTitleSize(0.1)\n",
    "xframe2.GetXaxis().SetLabelSize(0.08)\n",
    "\n",
    "line0 = ROOT.TLine(50, 0, 200, 0)\n",
    "line1 = ROOT.TLine(50, 1, 200, 1)\n",
    "line2 = ROOT.TLine(50, -1, 200, -1)\n",
    "line0.SetLineWidth(2)\n",
    "line0.SetLineStyle(2)\n",
    "line1.SetLineWidth(2)\n",
    "line1.SetLineStyle(2)\n",
    "line2.SetLineWidth(2)\n",
    "line2.SetLineStyle(2)\n",
    "\n",
    "\n",
    "xframe2.Draw()\n",
    "line0.Draw()\n",
    "line1.Draw()\n",
    "line2.Draw()"
   ]
  },
  {
   "cell_type": "code",
   "execution_count": null,
   "metadata": {},
   "outputs": [],
   "source": [
    "xframe1.SetTitle(\"\")\n",
    "sigLine1 = ROOT.TLine(90, 0, 90, 0.029)\n",
    "sigLine2 = ROOT.TLine(150, 0, 150, 0.029)\n",
    "sigLine1.SetLineStyle(2)\n",
    "sigLine1.SetLineWidth(2)\n",
    "sigLine2.SetLineStyle(2)\n",
    "sigLine2.SetLineWidth(2)\n",
    "xframe1.Draw()\n",
    "sigLine1.Draw()\n",
    "sigLine2.Draw()"
   ]
  },
  {
   "cell_type": "markdown",
   "metadata": {},
   "source": [
    "# Plot the figure"
   ]
  },
  {
   "cell_type": "code",
   "execution_count": null,
   "metadata": {},
   "outputs": [],
   "source": [
    "c.Draw()\n",
    "m.Print()\n",
    "#chi2 = ROOT.RooChi2Var(\"chi2\",\"chi2\",func,h)\n",
    "chi2 = xframe1.chiSquare(5)\n",
    "print(\"Chi-square: \", chi2)\n",
    "c.SaveAs(\"fit.pdf\")"
   ]
  },
  {
   "cell_type": "markdown",
   "metadata": {},
   "source": [
    "# Automatically adjust parameters in the Bukin function (test)"
   ]
  },
  {
   "cell_type": "code",
   "execution_count": null,
   "metadata": {},
   "outputs": [],
   "source": [
    "#massFit.Print()\n",
    "#massFit.status()\n",
    "count = 0\n",
    "bukinDict = {\"m\": 0, \"s\": 0, \"xi\": 0, \"rho1\": 0, \"rho2\": 0}\n",
    "while (massFit.status() != 0 or count < 100):\n",
    "    bukinDict[\"m\"] = m.getVal()\n",
    "    bukinDict[\"s\"] = s.getVal()\n",
    "    bukinDict[\"xi\"] = xi.getVal()\n",
    "    bukinDict[\"rho1\"] = rho1.getVal()\n",
    "    bukinDict[\"rho2\"] = rho2.getVal()\n",
    "    func.fitTo(h)\n",
    "    count += 1\n",
    "    if count == 100:\n",
    "        break\n",
    "massFit.Print()"
   ]
  },
  {
   "cell_type": "code",
   "execution_count": null,
   "metadata": {},
   "outputs": [],
   "source": [
    "m.getVal()"
   ]
  },
  {
   "cell_type": "code",
   "execution_count": null,
   "metadata": {},
   "outputs": [],
   "source": [
    "print(bukinDict)"
   ]
  },
  {
   "cell_type": "code",
   "execution_count": null,
   "metadata": {},
   "outputs": [],
   "source": []
  }
 ],
 "metadata": {
  "kernelspec": {
   "display_name": "Python 3 (ipykernel)",
   "language": "python",
   "name": "python3"
  },
  "language_info": {
   "codemirror_mode": {
    "name": "ipython",
    "version": 3
   },
   "file_extension": ".py",
   "mimetype": "text/x-python",
   "name": "python",
   "nbconvert_exporter": "python",
   "pygments_lexer": "ipython3",
   "version": "3.9.6"
  },
  "latex_envs": {
   "LaTeX_envs_menu_present": true,
   "autoclose": false,
   "autocomplete": true,
   "bibliofile": "biblio.bib",
   "cite_by": "apalike",
   "current_citInitial": 1,
   "eqLabelWithNumbers": true,
   "eqNumInitial": 1,
   "hotkeys": {
    "equation": "Ctrl-E",
    "itemize": "Ctrl-I"
   },
   "labels_anchors": false,
   "latex_user_defs": false,
   "report_style_numbering": false,
   "user_envs_cfg": false
  },
  "varInspector": {
   "cols": {
    "lenName": 16,
    "lenType": 16,
    "lenVar": 40
   },
   "kernels_config": {
    "python": {
     "delete_cmd_postfix": "",
     "delete_cmd_prefix": "del ",
     "library": "var_list.py",
     "varRefreshCmd": "print(var_dic_list())"
    },
    "r": {
     "delete_cmd_postfix": ") ",
     "delete_cmd_prefix": "rm(",
     "library": "var_list.r",
     "varRefreshCmd": "cat(var_dic_list()) "
    }
   },
   "types_to_exclude": [
    "module",
    "function",
    "builtin_function_or_method",
    "instance",
    "_Feature"
   ],
   "window_display": false
  }
 },
 "nbformat": 4,
 "nbformat_minor": 4
}
